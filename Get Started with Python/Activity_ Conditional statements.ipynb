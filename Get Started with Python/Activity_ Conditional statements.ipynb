{
 "cells": [
  {
   "cell_type": "markdown",
   "metadata": {
    "id": "hDICIZDoEMdc"
   },
   "source": [
    "<h1>Activity: Conditional Statements</h1>"
   ]
  },
  {
   "cell_type": "markdown",
   "metadata": {
    "id": "zNXnshsCEQRg"
   },
   "source": [
    "## Introduction \n",
    "\n",
    "In this lab, you will practice using Python operators to perform operations between two variables and write conditional statements.\n",
    "\n",
    "As a data analyst, you'll use conditional statements in your approach to many different tasks using Python. Using Boolean values, conditional statements will determine how a code block is executed based on how a condition is met.\n",
    "\n",
    "While continuing work for the movie theater, you're now examining marketing campaigns. Specifically, you'll be analyzing user behavior to determine when a customer's activity has prompted a marketing email.\n"
   ]
  },
  {
   "cell_type": "markdown",
   "metadata": {
    "id": "JGDxCJDlEYjv"
   },
   "source": [
    "## Tips for completing this lab\n",
    "\n",
    "As you navigate this lab, keep the following tips in mind:\n",
    "\n",
    "- `### YOUR CODE HERE ###` indicates where you should write code. Be sure to replace this with your own code before running the code cell.\n",
    "- Feel free to open the hints for additional guidance as you work on each task.\n",
    "- To enter your answer to a question, double-click the markdown cell to edit. Be sure to replace the \"[Double-click to enter your responses here.]\" with your own answer.\n",
    "- You can save your work manually by clicking File and then Save in the menu bar at the top of the notebook.\n",
    "- You can download your work locally by clicking File and then Download and then specifying your preferred file format in the menu bar at the top of the notebook."
   ]
  },
  {
   "cell_type": "markdown",
   "metadata": {
    "id": "c0xlgrSZEiIn"
   },
   "source": [
    "## Task 1: Define a comparator function\n",
    "\n",
    "You are a data professional for a movie theater, and your task is to use customers' purchasing data to determine whether or not to send them a marketing email.\n",
    "\n",
    "*   Define a function called `send_email` that accepts the following arguments:\n",
    "    *  `num_visits` - the number of times a customer has visited the theater\n",
    "    *  `visits_email` - the minimum number of visits the customer must have made for them to receive a marketing email\n",
    "*   The function must print either: `Send email.` or `Not enough visits.`\n",
    "\n",
    "*Example:*\n",
    "\n",
    "```\n",
    " [IN] send_email(num_visits=3, visits_email=5)\n",
    "[OUT] 'Not enough visits.'\n",
    "\n",
    " [IN] send_email(num_visits=5, visits_email=5)\n",
    "[OUT] 'Send email.'\n",
    "```\n",
    "\n",
    "**Note that there is more than one way to solve this problem.**\n"
   ]
  },
  {
   "cell_type": "code",
   "execution_count": null,
   "metadata": {
    "id": "WLrIuaPHEAWI"
   },
   "outputs": [],
   "source": [
    "### YOUR CODE HERE ###\n"
   ]
  },
  {
   "cell_type": "markdown",
   "metadata": {
    "id": "kHXuuv-xJa9F"
   },
   "source": [
    "<details>\n",
    "  <summary><h4><strong>Hint 1</strong></h4></summary>\n",
    "\n",
    "Consider the syntax for defining a function. Remember: a function definition statement must include a `def` keyword, the function's name, and its arguments, followed by a colon.\n",
    "\n",
    "</details>"
   ]
  },
  {
   "cell_type": "markdown",
   "metadata": {
    "id": "_IDyvPuIJkpe"
   },
   "source": [
    "<details>\n",
    "  <summary><h4><strong>Hint 2</strong></h4></summary>\n",
    "\n",
    "Recall Python's conditional and comparison operators.\n",
    "Check your indentation. Is your code indented properly?\n",
    "\n",
    "</details>"
   ]
  },
  {
   "cell_type": "markdown",
   "metadata": {
    "id": "mZO3bM9dKm8Q"
   },
   "source": [
    "<details>\n",
    "  <summary><h4><strong>Hint 3</strong></h4></summary>\n",
    "\n",
    "One approach is to compare `num_visits` to `visits_email` using the `>=` comparator.\n",
    "If `num_visits >= visits_email`, print `Send email.` Otherwise, print `Not enough visits.`.\n",
    "\n",
    "</details>"
   ]
  },
  {
   "cell_type": "markdown",
   "metadata": {
    "id": "Fxm8NLUfI8L2"
   },
   "source": [
    "### Test your function\n",
    "Test your function against the following cases by running the cell below."
   ]
  },
  {
   "cell_type": "code",
   "execution_count": null,
   "metadata": {
    "colab": {
     "base_uri": "https://localhost:8080/"
    },
    "executionInfo": {
     "elapsed": 218,
     "status": "ok",
     "timestamp": 1679692888213,
     "user": {
      "displayName": "Matteo Riotto",
      "userId": "15211004813978485634"
     },
     "user_tz": 420
    },
    "id": "2dvkckG-IDEn",
    "outputId": "6f6e1d1c-639a-4ec8-a264-5c5924a9d55d"
   },
   "outputs": [],
   "source": [
    "send_email(num_visits=3, visits_email=5)    # Should print 'Not enough visits.'\n",
    "send_email(num_visits=5, visits_email=5)    # Should print 'Send email.'\n",
    "send_email(num_visits=15, visits_email=10)  # Should print 'Send email.'"
   ]
  },
  {
   "cell_type": "markdown",
   "metadata": {
    "id": "7bMPSeGlJS_P"
   },
   "source": [
    "## Task 2: Add logical branching to your function\n",
    "\n",
    "The theater is offering a promotion where customers who have visited the theater more than 10 times will also receive a coupon with their email. Update the function that you created above to include additional logical branching.\n",
    "\n",
    "*   Include an additional argument `visits_coupon` that represents the minimum number of visits the customer must have made for them to receive a coupon with their email.\n",
    "\n",
    "*   The function must print one of three possible messages:\n",
    "    1. `Send email with coupon.`\n",
    "    2. `Send email only.`\n",
    "    3. `Not enough visits.`\n",
    "\n",
    "*Example:*\n",
    "\n",
    "```\n",
    " [IN] send_email(num_visits=3, visits_email=5, visits_coupon=8)\n",
    "[OUT] 'Not enough visits.'\n",
    "\n",
    " [IN] send_email(num_visits=5, visits_email=5, visits_coupon=8)\n",
    "[OUT] `Send email only.`\n",
    "\n",
    " [IN] send_email(num_visits=8, visits_email=5, visits_coupon=8)\n",
    "[OUT] `Send email with coupon.`\n",
    "```\n",
    "\n",
    "**Note that there is more than one way to solve this problem.**"
   ]
  },
  {
   "cell_type": "code",
   "execution_count": null,
   "metadata": {
    "id": "MmhBLmoQIO3t"
   },
   "outputs": [],
   "source": [
    "### YOUR CODE HERE ###\n"
   ]
  },
  {
   "cell_type": "markdown",
   "metadata": {
    "id": "XLFF5KvCWJI_"
   },
   "source": [
    "<details>\n",
    "  <summary><h4><strong>Hint 1</strong></h4></summary>\n",
    "\n",
    "Refer to what you've learned about conditional statements, logical operators, and comparison operators.\n",
    "\n",
    "</details>"
   ]
  },
  {
   "cell_type": "markdown",
   "metadata": {
    "id": "5NMzbKu4WJAH"
   },
   "source": [
    "<details>\n",
    "    <summary><h4><strong>Hint 2</strong></h4></summary>\n",
    "\n",
    "Make sure your `if`, `elif`, and `else` statements are indented properly beneath the function's definition line.\n",
    "\n",
    "Make sure your print statements are indented properly beneath each conditional statement.\n",
    "\n",
    "Check syntax.\n",
    "\n",
    "</details>"
   ]
  },
  {
   "cell_type": "markdown",
   "metadata": {
    "id": "hEJoR9FQWI2Q"
   },
   "source": [
    "<details>\n",
    "  <summary><h4><strong>Hint 3</strong></h4></summary>\n",
    "\n",
    "One approach is to compare `num_visits` to both `visits_coupon` and `visits_email` using the `>=` comparator:\n",
    "\n",
    "If `num_visits >= visits_coupon`, print `Send email with coupon.`\n",
    "Or else if `num_visits >= visits_email`, print `Send email only.`\n",
    "Otherwise, print `Not enough visits.`\n",
    "\n",
    "</details>"
   ]
  },
  {
   "cell_type": "markdown",
   "metadata": {
    "id": "62ce0lVDXrHy"
   },
   "source": [
    "### Test your function\n",
    "Test your function against the following cases by running the cell below."
   ]
  },
  {
   "cell_type": "code",
   "execution_count": null,
   "metadata": {
    "id": "Mc1hIWuPQwAt"
   },
   "outputs": [],
   "source": [
    "send_email(num_visits=3, visits_email=5, visits_coupon=8)   # Should print 'Not enough visits.'\n",
    "send_email(num_visits=5, visits_email=5, visits_coupon=8)   # Should print 'Send email only.'\n",
    "send_email(num_visits=6, visits_email=5, visits_coupon=8)   # Should print 'Send email only.'\n",
    "send_email(num_visits=8, visits_email=5, visits_coupon=8)   # Should print 'Send email with coupon.'\n",
    "send_email(num_visits=10, visits_email=5, visits_coupon=8)  # Should print 'Send email with coupon.'"
   ]
  },
  {
   "cell_type": "markdown",
   "metadata": {
    "id": "qh7KEbhDeG4y"
   },
   "source": [
    "## Conclusion\n",
    "\n",
    "**What are your key takeaways from this lab?**"
   ]
  },
  {
   "cell_type": "markdown",
   "metadata": {
    "id": "E9YK1u7eegVe"
   },
   "source": [
    "[Double-click to enter your response here.]"
   ]
  }
 ],
 "metadata": {
  "colab": {
   "provenance": []
  },
  "kernelspec": {
   "display_name": "Python 3",
   "language": "python",
   "name": "python3"
  },
  "language_info": {
   "codemirror_mode": {
    "name": "ipython",
    "version": 3
   },
   "file_extension": ".py",
   "mimetype": "text/x-python",
   "name": "python",
   "nbconvert_exporter": "python",
   "pygments_lexer": "ipython3",
   "version": "3.7.6"
  }
 },
 "nbformat": 4,
 "nbformat_minor": 1
}
