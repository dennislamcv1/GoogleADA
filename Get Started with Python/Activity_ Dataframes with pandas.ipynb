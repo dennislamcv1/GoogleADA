{
 "cells": [
  {
   "cell_type": "markdown",
   "metadata": {
    "id": "W8orLNs0RRSa"
   },
   "source": [
    "<h1>Activity: Dataframes with pandas</h1>"
   ]
  },
  {
   "cell_type": "markdown",
   "metadata": {
    "id": "ObyrlQucRbyr"
   },
   "source": [
    "## Introduction\n",
    "\n",
    "Your work as a data professional for the U.S. Environmental Protection Agency (EPA) requires you to analyze air quality index data collected from the United States and Mexico.\n",
    "\n",
    "The air quality index (AQI) is a number that runs from 0 to 500. The higher the AQI value, the greater the level of air pollution and the greater the health concern. For example, an AQI value of 50 or below represents good air quality, while an AQI value over 300 represents hazardous air quality. Refer to this guide from [AirNow.gov](https://www.airnow.gov/aqi/aqi-basics/) for more information.\n",
    "\n",
    "In this lab, you will practice working in pandas. You will load a dataframe, examine its metadata and summary statistics, and explore it using iloc indexing and sorting. You will also practice Boolean masking, grouping, and concatenating data."
   ]
  },
  {
   "cell_type": "markdown",
   "metadata": {
    "id": "1Qlq_5zHvzZV"
   },
   "source": [
    "## Tips for completing this lab\n",
    "\n",
    "As you navigate this lab, keep the following tips in mind:\n",
    "\n",
    "- `### YOUR CODE HERE ###` indicates where you should write code. Be sure to replace this with your own code before running the code cell.\n",
    "- Feel free to open the hints for additional guidance as you work on each task.\n",
    "- To enter your answer to a question, double-click the markdown cell to edit. Be sure to replace the \"[Double-click to enter your responses here.]\" with your own answer.\n",
    "- You can save your work manually by clicking File and then Save in the menu bar at the top of the notebook.\n",
    "- You can download your work locally by clicking File and then Download and then specifying your preferred file format in the menu bar at the top of the notebook."
   ]
  },
  {
   "cell_type": "markdown",
   "metadata": {
    "id": "zSl8JYIUv8qp"
   },
   "source": [
    "## Task 1: Read data from csv file into a pandas dataframe\n",
    "\n",
    "You are given two files of data. Begin with the first file, which contains the three states with the most observations (rows): California, Texas, and Pennsylvania."
   ]
  },
  {
   "cell_type": "markdown",
   "metadata": {
    "id": "FtHATF_qy2HY"
   },
   "source": [
    "### 1a: Import statements\n",
    "\n",
    "Import numpy and pandas. Use their standard aliases."
   ]
  },
  {
   "cell_type": "code",
   "execution_count": null,
   "metadata": {
    "id": "9v0Ws5Lma0Qp"
   },
   "outputs": [],
   "source": [
    "### YOUR CODE HERE ###\n"
   ]
  },
  {
   "cell_type": "markdown",
   "metadata": {
    "id": "qdCu_2SgzaP-"
   },
   "source": [
    "<details>\n",
    "  <summary><h4><strong>Hint 1</strong></h4></summary>\n",
    "\n",
    "Begin with the `import` keyword for each statement.\n",
    "\n",
    "</details>"
   ]
  },
  {
   "cell_type": "markdown",
   "metadata": {
    "id": "v1vbXoc3zot4"
   },
   "source": [
    "<details>\n",
    "  <summary><h4><strong>Hint 2</strong></h4></summary>\n",
    "\n",
    "Use the `as` keyword to assign an alias.\n",
    "\n",
    "</details>"
   ]
  },
  {
   "cell_type": "markdown",
   "metadata": {
    "id": "xlzyP3fTzxUE"
   },
   "source": [
    "<details>\n",
    "  <summary><h4><strong>Hint 3</strong></h4></summary>\n",
    "\n",
    "The conventional aliases are `np` for numpy and `pd` for pandas.\n",
    "\n",
    "</details>"
   ]
  },
  {
   "cell_type": "markdown",
   "metadata": {
    "id": "HSlvZpkJ0B1P"
   },
   "source": [
    "### 1b: Read in the first file\n",
    "\n",
    "1. Use the `pd.read_csv()` function to read in the data from the three states with the most observations. The file is called `'epa_ca_tx_pa.csv'` and is already in your working directory. Assign the resulting dataframe to a variable named `top3`.\n",
    "\n",
    "2. Use the `head()` method on the `top3` dataframe to inspect the first five rows."
   ]
  },
  {
   "cell_type": "code",
   "execution_count": null,
   "metadata": {
    "colab": {
     "base_uri": "https://localhost:8080/",
     "height": 206
    },
    "executionInfo": {
     "elapsed": 20,
     "status": "ok",
     "timestamp": 1679932927383,
     "user": {
      "displayName": "Matteo Riotto",
      "userId": "15211004813978485634"
     },
     "user_tz": 420
    },
    "id": "_prn5YzrSnkO",
    "outputId": "ac391295-ea57-4902-f828-cefcedc74cd6"
   },
   "outputs": [],
   "source": [
    "# 1. ### YOUR CODE HERE ###\n",
    "\n",
    "# 2. ### YOUR CODE HERE ###\n"
   ]
  },
  {
   "cell_type": "markdown",
   "metadata": {
    "id": "1Ed4yOjY2AeA"
   },
   "source": [
    "<details>\n",
    "  <summary><h4><strong>Hint</strong></h4></summary>\n",
    "\n",
    "Because the file is already in your working directory, you can simply pass the file name to the `pd.read_csv()` function as a string.\n",
    "\n",
    "</details>"
   ]
  },
  {
   "cell_type": "markdown",
   "metadata": {
    "id": "mWlnbqgB2gVj"
   },
   "source": [
    "## Task 2: Summary information\n",
    "\n",
    "Now that you have a dataframe with the AQI data for California, Texas, and Pennsylvania, get some high-level summary information about it."
   ]
  },
  {
   "cell_type": "markdown",
   "metadata": {
    "id": "lAPAVCeg3Cqi"
   },
   "source": [
    "### 2a: Metadata\n",
    "\n",
    "Use a DataFrame method to examine the number of rows and columns, the column names, the data type contained in each column, the number of non-null values in each column, and the amount of memory the dataframe uses."
   ]
  },
  {
   "cell_type": "code",
   "execution_count": null,
   "metadata": {
    "colab": {
     "base_uri": "https://localhost:8080/"
    },
    "executionInfo": {
     "elapsed": 20,
     "status": "ok",
     "timestamp": 1679932927384,
     "user": {
      "displayName": "Matteo Riotto",
      "userId": "15211004813978485634"
     },
     "user_tz": 420
    },
    "id": "KAlBReg6Swzs",
    "outputId": "eb2ad40a-74d6-4176-a156-8066f05f900a"
   },
   "outputs": [],
   "source": [
    "### YOUR CODE HERE ###\n"
   ]
  },
  {
   "cell_type": "markdown",
   "metadata": {
    "id": "eaYhqTMH4cCl"
   },
   "source": [
    "<details>\n",
    "  <summary><h4><strong>Hint</strong></h4></summary>\n",
    "\n",
    "The `info()` method returns a dataframe's metadata.\n",
    "\n",
    "</details>"
   ]
  },
  {
   "cell_type": "markdown",
   "metadata": {
    "id": "_MgYSGkX42m7"
   },
   "source": [
    "### 2b: Summary statistics\n",
    "\n",
    "Examine the summary statistics of the dataframe's numeric columns. The output should be a table that includes row count, mean, standard deviation, min, max, and quartile values."
   ]
  },
  {
   "cell_type": "code",
   "execution_count": null,
   "metadata": {
    "colab": {
     "base_uri": "https://localhost:8080/",
     "height": 300
    },
    "executionInfo": {
     "elapsed": 17,
     "status": "ok",
     "timestamp": 1679932927385,
     "user": {
      "displayName": "Matteo Riotto",
      "userId": "15211004813978485634"
     },
     "user_tz": 420
    },
    "id": "FbPFaH6ZfPdz",
    "outputId": "b5a0e137-c207-4198-d32a-b1823d21a054"
   },
   "outputs": [],
   "source": [
    "### YOUR CODE HERE ###\n"
   ]
  },
  {
   "cell_type": "markdown",
   "metadata": {
    "id": "SQ9n1u165XFd"
   },
   "source": [
    "<details>\n",
    "  <summary><h4><strong>Hint</strong></h4></summary>\n",
    "\n",
    "The `describe()` method returns a table of summary statistics for a dataframe's numeric columns.\n",
    "\n",
    "</details>"
   ]
  },
  {
   "cell_type": "markdown",
   "metadata": {
    "id": "oLMPpAzN5wVH"
   },
   "source": [
    "## Task 3: Explore your data\n",
    "\n",
    "Practice exploring your data by completing the following exercises."
   ]
  },
  {
   "cell_type": "markdown",
   "metadata": {
    "id": "18cf9eYI6eY3"
   },
   "source": [
    "### 3a: Rows per state\n",
    "\n",
    "Select the `state_name` column and use the `value_counts()` method on it to check how many rows there are for each state in the dataframe."
   ]
  },
  {
   "cell_type": "code",
   "execution_count": null,
   "metadata": {
    "colab": {
     "base_uri": "https://localhost:8080/"
    },
    "executionInfo": {
     "elapsed": 40,
     "status": "ok",
     "timestamp": 1679932927637,
     "user": {
      "displayName": "Matteo Riotto",
      "userId": "15211004813978485634"
     },
     "user_tz": 420
    },
    "id": "pkNTi5ZpfmLT",
    "outputId": "ed6454d5-a369-496d-e333-0af8872e48dc"
   },
   "outputs": [],
   "source": [
    "### YOUR CODE HERE ###\n"
   ]
  },
  {
   "cell_type": "markdown",
   "metadata": {
    "id": "nzjx1vtx7L3-"
   },
   "source": [
    "<details>\n",
    "  <summary><h4><strong>Hint 1</strong></h4></summary>\n",
    "\n",
    "This code should all be on a single line. Begin by selecting the `top3` dataframe at the `state_name` column. You can use either selector brackets or dot notation.\n",
    "\n",
    "</details>"
   ]
  },
  {
   "cell_type": "markdown",
   "metadata": {
    "id": "OSIHI_Hi7sQ3"
   },
   "source": [
    "<details>\n",
    "  <summary><h4><strong>Hint 2</strong></h4></summary>\n",
    "\n",
    "When using brackets to select a column, the column's name should be entered as a string.\n",
    "\n",
    "</details>"
   ]
  },
  {
   "cell_type": "markdown",
   "metadata": {
    "id": "ZQyiudC974Ox"
   },
   "source": [
    "<details>\n",
    "  <summary><h4><strong>Hint 3</strong></h4></summary>\n",
    "\n",
    "The `value_counts()` method is added to the end of the selection statement using dot notation. Its parentheses are empty.\n",
    "\n",
    "</details>"
   ]
  },
  {
   "cell_type": "markdown",
   "metadata": {
    "id": "pdtgkvCU8N96"
   },
   "source": [
    "### 3b: Sort by AQI\n",
    "\n",
    "1.  Create a new dataframe called `top3_sorted` by using the `sort_values()` method on the `top3` dataframe. Refer to the [sort_values pandas documentation](https://pandas.pydata.org/docs/reference/api/pandas.DataFrame.sort_values.html#) for more information about how to use this method.\n",
    "    *  The new dataframe should contain the data sorted by AQI, beginning with the rows with the highest AQI values.\n",
    "2.  Print the top 10 rows of `top3_sorted`."
   ]
  },
  {
   "cell_type": "code",
   "execution_count": null,
   "metadata": {
    "colab": {
     "base_uri": "https://localhost:8080/",
     "height": 363
    },
    "executionInfo": {
     "elapsed": 39,
     "status": "ok",
     "timestamp": 1679932927638,
     "user": {
      "displayName": "Matteo Riotto",
      "userId": "15211004813978485634"
     },
     "user_tz": 420
    },
    "id": "IRryfyYOhOfm",
    "outputId": "da23ed8b-5181-43f4-8f58-8ce68aea9149"
   },
   "outputs": [],
   "source": [
    "# 1. ### YOUR CODE HERE ###\n",
    "\n",
    "\n",
    "# 2. ### YOUR CODE HERE ###\n"
   ]
  },
  {
   "cell_type": "markdown",
   "metadata": {
    "id": "vm2rJJLJ957E"
   },
   "source": [
    "<details>\n",
    "  <summary><h4><strong>Hint 1</strong></h4></summary>\n",
    "\n",
    "Attach the `sort_values()` method to the `top3` dataframe using dot notation.\n",
    "\n",
    "</details>"
   ]
  },
  {
   "cell_type": "markdown",
   "metadata": {
    "id": "Y0WNm3s7-LLl"
   },
   "source": [
    "<details>\n",
    "  <summary><h4><strong>Hint 2</strong></h4></summary>\n",
    "\n",
    "*  The `by` argument of the `sort_values()` method should be a string of the column you want to sort by.\n",
    "\n",
    "*  The default behavior of the `sort_values()` method is to sort in ascending order. You want to sort in *descending* order. Which keyword argument modifies this behavior? Refer to the [sort_values() pandas documentation](https://pandas.pydata.org/docs/reference/api/pandas.DataFrame.sort_values.html#).\n",
    "\n",
    "</details>"
   ]
  },
  {
   "cell_type": "markdown",
   "metadata": {
    "id": "CO7-6T3E_YQm"
   },
   "source": [
    "<details>\n",
    "  <summary><h4><strong>Hint 3</strong></h4></summary>\n",
    "\n",
    "*  Use the `head()` method on the `top3_sorted` dataframe.\n",
    "\n",
    "*  The default behavior of the `head()` method is to print the first five rows of a dataframe. You want to print the first 10 rows. Refer to the [head() pandas documentation](https://pandas.pydata.org/docs/reference/api/pandas.DataFrame.head.html) for more information on how to modify this behavior.\n",
    "\n",
    "\n",
    "</details>"
   ]
  },
  {
   "cell_type": "markdown",
   "metadata": {
    "id": "MJW_H8ByCnp6"
   },
   "source": [
    "### 3c: Use `iloc` to select rows\n",
    "\n",
    "Use `iloc` to select the two rows at indices 10 and 11 of the `top3_sorted` dataframe."
   ]
  },
  {
   "cell_type": "code",
   "execution_count": null,
   "metadata": {
    "colab": {
     "base_uri": "https://localhost:8080/",
     "height": 112
    },
    "executionInfo": {
     "elapsed": 39,
     "status": "ok",
     "timestamp": 1679932927639,
     "user": {
      "displayName": "Matteo Riotto",
      "userId": "15211004813978485634"
     },
     "user_tz": 420
    },
    "id": "lJf96gRyif8y",
    "outputId": "70bfc39d-0f15-4cd7-bba3-f499cf92a4c3"
   },
   "outputs": [],
   "source": [
    "### YOUR CODE HERE ###\n"
   ]
  },
  {
   "cell_type": "markdown",
   "metadata": {
    "id": "HKGPz1WGD4PU"
   },
   "source": [
    "<details>\n",
    "  <summary><h4><strong>Hint 1</strong></h4></summary>\n",
    "\n",
    "To use `iloc` on the `top3_sorted` dataframe, use dot notation.\n",
    "\n",
    "</details>"
   ]
  },
  {
   "cell_type": "markdown",
   "metadata": {
    "id": "-JIb7TeBElWU"
   },
   "source": [
    "<details>\n",
    "  <summary><h4><strong>Hint 2</strong></h4></summary>\n",
    "\n",
    "`iloc` uses brackets to index data.\n",
    "\n",
    "</details>"
   ]
  },
  {
   "cell_type": "markdown",
   "metadata": {
    "id": "wdT9EWTME0xc"
   },
   "source": [
    "<details>\n",
    "  <summary><h4><strong>Hint 3</strong></h4></summary>\n",
    "\n",
    "`iloc` index ranges are separated by a colon. Remember, the end index is not included in the range of returned indices.\n",
    "\n",
    "</details>"
   ]
  },
  {
   "cell_type": "markdown",
   "metadata": {
    "id": "vTCia-aGFbbs"
   },
   "source": [
    "## Task 4: Examine California data\n",
    "\n",
    "You notice that the rows with the highest AQI represent data from California, so you want to examine the data for just the state of California."
   ]
  },
  {
   "cell_type": "markdown",
   "metadata": {
    "id": "veJeGG1HGQLe"
   },
   "source": [
    "### 4a: Basic Boolean masking\n",
    "\n",
    "1. Create a Boolean mask that selects only the observations of the `top3_sorted` dataframe that are from California.\n",
    "2. Apply the Boolean mask to the `top3_sorted` dataframe and assign the result to a variable called `ca_df`.\n",
    "3. Print the first five rows of `ca_df`."
   ]
  },
  {
   "cell_type": "code",
   "execution_count": null,
   "metadata": {
    "colab": {
     "base_uri": "https://localhost:8080/",
     "height": 206
    },
    "executionInfo": {
     "elapsed": 39,
     "status": "ok",
     "timestamp": 1679932927640,
     "user": {
      "displayName": "Matteo Riotto",
      "userId": "15211004813978485634"
     },
     "user_tz": 420
    },
    "id": "9Ysa4Pj-TEyk",
    "outputId": "a81d5861-4a9f-48c6-f66e-871731cd0ce9"
   },
   "outputs": [],
   "source": [
    "# 1. ### YOUR CODE HERE ###\n",
    "\n",
    "\n",
    "# 2. ### YOUR CODE HERE ###\n",
    "\n",
    "\n",
    "# 3. ### YOUR CODE HERE ###\n"
   ]
  },
  {
   "cell_type": "markdown",
   "metadata": {
    "id": "PZo-yknRIZp6"
   },
   "source": [
    "<details>\n",
    "  <summary><h4><strong>Hint 1</strong></h4></summary>\n",
    "\n",
    "Refer to what you've learned about Boolean masking.\n",
    "\n",
    "</details>"
   ]
  },
  {
   "cell_type": "markdown",
   "metadata": {
    "id": "2HfVOQEPIm3x"
   },
   "source": [
    "<details>\n",
    "  <summary><h4><strong>Hint 2</strong></h4></summary>\n",
    "\n",
    "Define a `mask` variable that is the `top3_sorted` dataframe selected where the `state_name` column is `California`.\n",
    "\n",
    "</details>"
   ]
  },
  {
   "cell_type": "markdown",
   "metadata": {
    "id": "O4c0AXclJCf5"
   },
   "source": [
    "<details>\n",
    "  <summary><h4><strong>Hint 3</strong></h4></summary>\n",
    "\n",
    "*  Apply the `mask` variable to the `top3_sorted` dataframe and assign the result to a new dataframe called `ca_df`.\n",
    "\n",
    "*  Use the `head()` method on the new `ca_df` dataframe.\n",
    "</details>"
   ]
  },
  {
   "cell_type": "markdown",
   "metadata": {
    "id": "QcP9jneZJoFt"
   },
   "source": [
    "### 4b: Validate CA data\n",
    "\n",
    "Inspect the shape of your new `ca_df` dataframe. Does its row count match the number of California rows determined in Task 3a?"
   ]
  },
  {
   "cell_type": "code",
   "execution_count": null,
   "metadata": {
    "colab": {
     "base_uri": "https://localhost:8080/"
    },
    "executionInfo": {
     "elapsed": 39,
     "status": "ok",
     "timestamp": 1679932927641,
     "user": {
      "displayName": "Matteo Riotto",
      "userId": "15211004813978485634"
     },
     "user_tz": 420
    },
    "id": "ZdpJLggBgV5B",
    "outputId": "1ec24aea-3e02-45a5-f40a-54fff1670d77"
   },
   "outputs": [],
   "source": [
    "### YOUR CODE HERE ###\n"
   ]
  },
  {
   "cell_type": "markdown",
   "metadata": {
    "id": "KT4MTiqhK3Ml"
   },
   "source": [
    "<details>\n",
    "  <summary><h4><strong>Hint</strong></h4></summary>\n",
    "\n",
    "*   Use the `shape` attribute on the `ca_df` dataframe.\n",
    "\n",
    "*   Attributes don't use parentheses.\n",
    "\n",
    "\n",
    "</details>"
   ]
  },
  {
   "cell_type": "markdown",
   "metadata": {
    "id": "yOBWRRiOL3AI"
   },
   "source": [
    "### 4c: Rows per CA county\n",
    "\n",
    "Examine a list of the number of times each county is represented in the California data."
   ]
  },
  {
   "cell_type": "code",
   "execution_count": null,
   "metadata": {
    "colab": {
     "base_uri": "https://localhost:8080/"
    },
    "executionInfo": {
     "elapsed": 36,
     "status": "ok",
     "timestamp": 1679932927642,
     "user": {
      "displayName": "Matteo Riotto",
      "userId": "15211004813978485634"
     },
     "user_tz": 420
    },
    "id": "bJCi2FyhVCMI",
    "outputId": "c8167244-40b5-47b4-e1f7-613b8fa9dad6"
   },
   "outputs": [],
   "source": [
    "### YOUR CODE HERE ###\n"
   ]
  },
  {
   "cell_type": "markdown",
   "metadata": {
    "id": "MVyb4JVrMXX2"
   },
   "source": [
    "<details>\n",
    "  <summary><h4><strong>Hint</strong></h4></summary>\n",
    "\n",
    "Select the `county_name` column of `ca_df` and apply the `value_counts()` method to it using dot notation.\n",
    "\n",
    "</details>"
   ]
  },
  {
   "cell_type": "markdown",
   "metadata": {
    "id": "25cj2ITKM2Z2"
   },
   "source": [
    "### 4d: Calculate mean AQI for Los Angeles county\n",
    "\n",
    "You notice that Los Angeles county has more than twice the number of rows of the next-most-represented county in California, and you want to learn more about it.\n",
    "\n",
    "*  Calculate the mean AQI for LA county."
   ]
  },
  {
   "cell_type": "code",
   "execution_count": null,
   "metadata": {
    "colab": {
     "base_uri": "https://localhost:8080/"
    },
    "executionInfo": {
     "elapsed": 33,
     "status": "ok",
     "timestamp": 1679932927642,
     "user": {
      "displayName": "Matteo Riotto",
      "userId": "15211004813978485634"
     },
     "user_tz": 420
    },
    "id": "H4hTyZf5rC9E",
    "outputId": "1c329d79-0a95-40e1-d203-de37f514cb6c"
   },
   "outputs": [],
   "source": [
    "### YOUR CODE HERE ###\n"
   ]
  },
  {
   "cell_type": "markdown",
   "metadata": {
    "id": "ss1C32s5NoIB"
   },
   "source": [
    "<details>\n",
    "  <summary><h4><strong>Hint 1</strong></h4></summary>\n",
    "\n",
    "Use Boolean masking to create a mask. Then apply the mask to the `ca_df` dataframe, select the `aqi` column of the result, and calculate its mean.\n",
    "\n",
    "</details>"
   ]
  },
  {
   "cell_type": "markdown",
   "metadata": {
    "id": "6N5K3km7OFj4"
   },
   "source": [
    "<details>\n",
    "  <summary><h4><strong>Hint 2</strong></h4></summary>\n",
    "\n",
    "The Boolean mask is `ca_df` selected where `county_name` is `Los Angeles`.\n",
    "\n",
    "</details>"
   ]
  },
  {
   "cell_type": "markdown",
   "metadata": {
    "id": "ptRizlhROkhC"
   },
   "source": [
    "<details>\n",
    "  <summary><h4><strong>Hint 3</strong></h4></summary>\n",
    "\n",
    "*  Apply the Boolean mask to `ca_df`.\n",
    "*  Then use selector brackets to select the `aqi` column.\n",
    "*  Then use dot notation to attach the `mean()` method to the end of the expression.\n",
    "\n",
    "</details>"
   ]
  },
  {
   "cell_type": "markdown",
   "metadata": {
    "id": "YyMgRk1KPWYL"
   },
   "source": [
    "## Task 5: Groupby\n",
    "\n",
    "Group the original dataframe (`top3`) by state and calculate the mean AQI for each state."
   ]
  },
  {
   "cell_type": "code",
   "execution_count": null,
   "metadata": {
    "colab": {
     "base_uri": "https://localhost:8080/",
     "height": 175
    },
    "executionInfo": {
     "elapsed": 31,
     "status": "ok",
     "timestamp": 1679932927643,
     "user": {
      "displayName": "Matteo Riotto",
      "userId": "15211004813978485634"
     },
     "user_tz": 420
    },
    "id": "w9MlkTjDk2jj",
    "outputId": "b88f2caa-2f40-406d-d9e4-2780d8f2f8f4"
   },
   "outputs": [],
   "source": [
    "### YOUR CODE HERE ###\n"
   ]
  },
  {
   "cell_type": "markdown",
   "metadata": {
    "id": "fpgs3ZqdQYJt"
   },
   "source": [
    "<details>\n",
    "  <summary><h4><strong>Hint 1</strong></h4></summary>\n",
    "\n",
    "Use the `groupby()` method on the `top3` dataframe.\n",
    "\n",
    "</details>"
   ]
  },
  {
   "cell_type": "markdown",
   "metadata": {
    "id": "8wOezEbbQhs8"
   },
   "source": [
    "<details>\n",
    "  <summary><h4><strong>Hint 2</strong></h4></summary>\n",
    "\n",
    "Group by `state_name` and use dot notation to chain the `mean()` method to the expression.\n",
    "\n",
    "</details>"
   ]
  },
  {
   "cell_type": "markdown",
   "metadata": {
    "id": "-IqJn1yBRUFX"
   },
   "source": [
    "<details>\n",
    "  <summary><h4><strong>Hint 3</strong></h4></summary>\n",
    "\n",
    "`top3.groupby('state_name').mean()` will produce a table of the mean values of every numeric column for each state. To filter the table on just the `aqi` column, add `['aqi']` to the end of the expression.\n",
    "\n",
    "</details>"
   ]
  },
  {
   "cell_type": "markdown",
   "metadata": {
    "id": "e0Ls3OueR8LN"
   },
   "source": [
    "## Task 6: Add more data\n",
    "\n",
    "Now that you have performed a short examination of the file with AQI data for California, Texas, and Pennsylvania, you want to add more data from your second file."
   ]
  },
  {
   "cell_type": "markdown",
   "metadata": {
    "id": "Um7-XdnMSkHG"
   },
   "source": [
    "### 6a: Read in the second file\n",
    "\n",
    "1. Read in the data for the remaining territories. The file is called `'epa_others.csv'` and is already in your working directory. Assign the resulting dataframe to a variable named `other_states`.\n",
    "\n",
    "2. Use the `head()` method on the `other_states` dataframe to inspect the first five rows."
   ]
  },
  {
   "cell_type": "code",
   "execution_count": null,
   "metadata": {
    "colab": {
     "base_uri": "https://localhost:8080/",
     "height": 206
    },
    "executionInfo": {
     "elapsed": 30,
     "status": "ok",
     "timestamp": 1679932927644,
     "user": {
      "displayName": "Matteo Riotto",
      "userId": "15211004813978485634"
     },
     "user_tz": 420
    },
    "id": "Qze2SW5Nl6rg",
    "outputId": "13b613fa-0fef-40db-8425-03cc743b7e6b"
   },
   "outputs": [],
   "source": [
    "# 1. ### YOUR CODE HERE ###\n",
    "\n",
    "\n",
    "# 2. ### YOUR CODE HERE ###\n"
   ]
  },
  {
   "cell_type": "markdown",
   "metadata": {
    "id": "UWSSzw-4TNVv"
   },
   "source": [
    "### 6b: Concatenate the data\n",
    "\n",
    "The data from `other_states` is in the same format as the data from `top3`. It has the same columns in the same order.\n",
    "\n",
    "1. Add the data from `other_states` as new rows beneath the data from `top3`. Assign the result to a new dataframe called `combined_df`.\n",
    "\n",
    "2. Verify that the length of `combined_df` is equal to the sum of the lengths of `top3` and `other_states`."
   ]
  },
  {
   "cell_type": "code",
   "execution_count": null,
   "metadata": {
    "colab": {
     "base_uri": "https://localhost:8080/"
    },
    "executionInfo": {
     "elapsed": 29,
     "status": "ok",
     "timestamp": 1679932927644,
     "user": {
      "displayName": "Matteo Riotto",
      "userId": "15211004813978485634"
     },
     "user_tz": 420
    },
    "id": "Jawta5WosDoW",
    "outputId": "f71829ad-acc1-46c0-9231-558fc1fc7e85"
   },
   "outputs": [],
   "source": [
    "# 1. ### YOUR CODE HERE ###\n",
    "\n",
    "\n",
    "# 2. ### YOUR CODE HERE ###\n"
   ]
  },
  {
   "cell_type": "markdown",
   "metadata": {
    "id": "ZQhlUn1UUkro"
   },
   "source": [
    "<details>\n",
    "  <summary><h4><strong>Hint 1</strong></h4></summary>\n",
    "\n",
    "Use the `concat()` function. For more information on this function, refer to the [concat() pandas documentation](https://pandas.pydata.org/docs/reference/api/pandas.concat.html).\n",
    "\n",
    "</details>"
   ]
  },
  {
   "cell_type": "markdown",
   "metadata": {
    "id": "iMrsBa9eU0yq"
   },
   "source": [
    "<details>\n",
    "  <summary><h4><strong>Hint 2</strong></h4></summary>\n",
    "\n",
    "*  Enter the two dataframes being joined as a list in the argument field of the `concat()` function.\n",
    "\n",
    "*  To add rows, concatenate along axis 0. To add columns, concatenate along axis 1.\n",
    "\n",
    "</details>"
   ]
  },
  {
   "cell_type": "markdown",
   "metadata": {
    "id": "luRYFeOZV3Cq"
   },
   "source": [
    "<details>\n",
    "  <summary><h4><strong>Hint 3</strong></h4></summary>\n",
    "\n",
    "Use the `len()` function in a comparison statement to determine if the length of `combined_df` equals the length of `top3` plus the length of `other_states`.\n",
    "\n",
    "</details>"
   ]
  },
  {
   "cell_type": "markdown",
   "metadata": {
    "id": "OHlADErxYoH4"
   },
   "source": [
    "## Task 7: Complex Boolean masking\n",
    "\n",
    "According to the EPA, AQI values of 51-100 are considered of \"Moderate\" concern. You've been tasked with examining some data for the state of Washington.\n",
    "\n",
    "*  Use Boolean masking to return the rows that represent data from the state of Washington with AQI values of 51+."
   ]
  },
  {
   "cell_type": "code",
   "execution_count": null,
   "metadata": {
    "colab": {
     "base_uri": "https://localhost:8080/",
     "height": 175
    },
    "executionInfo": {
     "elapsed": 27,
     "status": "ok",
     "timestamp": 1679932927645,
     "user": {
      "displayName": "Matteo Riotto",
      "userId": "15211004813978485634"
     },
     "user_tz": 420
    },
    "id": "L_O-gFlBY6h7",
    "outputId": "e1830dcb-e1cf-4cb6-e8ec-45df5c63605a"
   },
   "outputs": [],
   "source": [
    "### YOUR CODE HERE ###\n"
   ]
  },
  {
   "cell_type": "markdown",
   "metadata": {
    "id": "yCfp-RVwaYdn"
   },
   "source": [
    "<details>\n",
    "  <summary><h4><strong>Hint 1</strong></h4></summary>\n",
    "\n",
    "Create a Boolean mask for `combined_df` with two conditions:\n",
    "\n",
    "*   The state is Washington\n",
    "*   The AQI is greater than or equal to 51\n",
    "\n",
    "</details>"
   ]
  },
  {
   "cell_type": "markdown",
   "metadata": {
    "id": "4eKEkghfbAQp"
   },
   "source": [
    "<details>\n",
    "  <summary><h4><strong>Hint 2</strong></h4></summary>\n",
    "\n",
    "Remember to enclose each condition in its own set of parentheses.\n",
    "\n",
    "</details>"
   ]
  },
  {
   "cell_type": "markdown",
   "metadata": {
    "id": "gu7UQtCObGSS"
   },
   "source": [
    "<details>\n",
    "  <summary><h4><strong>Hint 3</strong></h4></summary>\n",
    "\n",
    "Separate the two conditions with the `&` operator, because both conditions need to evaluate as true for the row to be included in the filtered dataframe.\n",
    "\n",
    "</details>"
   ]
  },
  {
   "cell_type": "markdown",
   "metadata": {
    "id": "x_naox-digdC"
   },
   "source": [
    "# Conclusion\n",
    "\n",
    "**What are your key takeaways from this lab?**"
   ]
  },
  {
   "cell_type": "markdown",
   "metadata": {
    "id": "VQdWwbI3ExeB"
   },
   "source": [
    "[Double-click here to record your response.]"
   ]
  }
 ],
 "metadata": {
  "colab": {
   "provenance": [
    {
     "file_id": "1m7u07p4efLfDicqzIy9UzaGAnqxRayL0",
     "timestamp": 1679932999225
    }
   ],
   "toc_visible": true
  },
  "kernelspec": {
   "display_name": "Python 3",
   "language": "python",
   "name": "python3"
  },
  "language_info": {
   "codemirror_mode": {
    "name": "ipython",
    "version": 3
   },
   "file_extension": ".py",
   "mimetype": "text/x-python",
   "name": "python",
   "nbconvert_exporter": "python",
   "pygments_lexer": "ipython3",
   "version": "3.7.6"
  }
 },
 "nbformat": 4,
 "nbformat_minor": 1
}
