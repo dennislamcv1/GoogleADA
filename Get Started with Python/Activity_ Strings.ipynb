{
 "cells": [
  {
   "cell_type": "markdown",
   "metadata": {
    "id": "zdhKGagO-08G"
   },
   "source": [
    "<summary><h1>Activity: Work with strings in Python</h1></summary>"
   ]
  },
  {
   "cell_type": "markdown",
   "metadata": {
    "id": "2Aj2wyhv-4uz"
   },
   "source": [
    "## Introduction \n",
    "\n",
    "Data professionals work with a lot of string data. For example, while analyzing the results of a marketing campaign, you may need to review item descriptions or customer names, which is stored as string data. Becoming comfortable working with strings in Python is essential for the work of a data professional.\n",
    "\n",
    "In this lab, you'll practice coding in Python and working with strings. You'll work with a store ID, ZIP Code, and a custom URL for the store you're gathering data on.\n"
   ]
  },
  {
   "cell_type": "markdown",
   "metadata": {
    "id": "yWchTc4RbLdH"
   },
   "source": [
    "## Tips for completing this lab\n",
    "\n",
    "As you navigate this lab, keep the following tips in mind:\n",
    "\n",
    "- `### YOUR CODE HERE ###` indicates where you should write code. Be sure to replace this with your own code before running the code cell.\n",
    "- Feel free to open the hints for additional guidance as you work on each task.\n",
    "- To enter your answer to a question, double-click the markdown cell to edit. Be sure to replace the `[Double-click to record your response.]` with your own answers.\n",
    "- You can save your work manually by clicking File and then Save in the menu bar at the top of the notebook.\n",
    "- You can download your work locally by clicking File and then Download and then specifying your preferred file format in the menu bar at the top of the notebook.\n"
   ]
  },
  {
   "cell_type": "markdown",
   "metadata": {
    "id": "i0uX4za0BkN7"
   },
   "source": [
    "## Task 1: Check and change data types\n",
    "\n",
    "Now that you have experience in marketing, you've moved on to market research. Your new task is collecting store data for future analysis. In this task, you're given a four-digit numeric store ID stored in a variable called `store_id`.\n",
    "\n",
    "1.  Convert `store_id` to a string and store the result in the same variable.\n",
    "2.  Confirm the type of `store_id` after the conversion.\n"
   ]
  },
  {
   "cell_type": "code",
   "execution_count": null,
   "metadata": {
    "colab": {
     "base_uri": "https://localhost:8080/"
    },
    "executionInfo": {
     "elapsed": 9,
     "status": "ok",
     "timestamp": 1679944105599,
     "user": {
      "displayName": "Matteo Riotto",
      "userId": "15211004813978485634"
     },
     "user_tz": 420
    },
    "id": "mE4L9dLfAgH5",
    "outputId": "48f48e81-1749-4b6c-a31f-e862318f08f2"
   },
   "outputs": [],
   "source": [
    "store_id = 1101\n",
    "\n",
    "# 1. ### YOUR CODE HERE ###\n",
    "\n",
    "\n",
    "# 2. ### YOUR CODE HERE ###\n"
   ]
  },
  {
   "cell_type": "markdown",
   "metadata": {
    "id": "Xzdl3MEfAgH6"
   },
   "source": [
    "<details>\n",
    "    <summary><h4><strong>Hint 1</strong></h4></summary>\n",
    "\n",
    "You can refer back to what you learned about changing data types.\n",
    "\n",
    "</details>"
   ]
  },
  {
   "cell_type": "markdown",
   "metadata": {
    "id": "ixjRc0hYAgH7"
   },
   "source": [
    "<details>\n",
    "    <summary><h4><strong>Hint 2</strong></h4></summary>\n",
    "\n",
    "When using Python's built-in functions such as `type()` and `str()`, make sure to pass the variables or data you're converting into the parenthesis.\n",
    "\n",
    "</details>"
   ]
  },
  {
   "cell_type": "markdown",
   "metadata": {
    "id": "WCBTbgRzAgH7"
   },
   "source": [
    "<details>\n",
    "    <summary><h4><strong>Hint 3</strong></h4></summary>\n",
    "\n",
    "Use the `str()` function in Python to convert the initial value of the `store_id` variable into a string.\n",
    "\n",
    "To reassign `store_id` as the same variable, write `store_id`, then the `=` operator, then `str(store_id)` on a new line in the cell.\n",
    "\n",
    "</details>"
   ]
  },
  {
   "cell_type": "markdown",
   "metadata": {
    "id": "hYssqAyqAgH7"
   },
   "source": [
    "## Task 2: String concatenation\n",
    "\n",
    "As you continue gathering data, you realize that the `store_id` variable is actually the ZIP Code where the store is located, but the leading `0` has been cut off.\n",
    "\n",
    "*  Define a function called `zip_checker` that accepts the following argument:\n",
    "    *  `zipcode` - a string with either four or five characters\n",
    "\n",
    "*  Return:\n",
    "    *  If `zipcode` has five characters, return `zipcode` as a string.\n",
    "    *  If `zipcode` has four characters and the first character is NOT `'0'`, the function must add a zero to the beginning of the string and return the five-character `zipcode` as a string.\n",
    "    *  If `zipcode` has four characters and the first character is `'0'`, the function must print `'Invalid ZIP Code.'`, because ZIP Codes do not begin with 00 in the mainland U.S.\n",
    "\n",
    "*Example:*\n",
    "\n",
    "```\n",
    " [IN] zip_checker('02806')\n",
    "[OUT] '02806'\n",
    "\n",
    " [IN] zip_checker('2806')\n",
    "[OUT] '02806'\n",
    "\n",
    " [IN] zip_checker('0280')\n",
    "[OUT] 'Invalid ZIP Code.'\n",
    "```\n",
    "\n",
    "**Note that there is more than one way to solve this problem.**"
   ]
  },
  {
   "cell_type": "code",
   "execution_count": null,
   "metadata": {
    "id": "LpOUeHDaAgH8"
   },
   "outputs": [],
   "source": [
    "### YOUR CODE HERE ###\n"
   ]
  },
  {
   "cell_type": "markdown",
   "metadata": {
    "id": "VNUAga8-AgH8"
   },
   "source": [
    "<details>\n",
    "    <summary><h4><strong>Hint 1</strong></h4></summary>\n",
    "\n",
    "Refer back to what you learned about `if, elif, else` statements and string concatenation.\n",
    "\n",
    "</details>"
   ]
  },
  {
   "cell_type": "markdown",
   "metadata": {
    "id": "z-A02_VwAgH8"
   },
   "source": [
    "<details>\n",
    "    <summary><h4><strong>Hint 2</strong></h4></summary>\n",
    "\n",
    "* Use the `len()` function to determine the length of `zipcode`.\n",
    "\n",
    "* One way to concatenate strings is to use the `+` operator.\n",
    "\n",
    "</details>"
   ]
  },
  {
   "cell_type": "markdown",
   "metadata": {
    "id": "OSsjl5CvAgH9"
   },
   "source": [
    "<details>\n",
    "    <summary><h4><strong>Hint 3</strong></h4></summary>\n",
    "\n",
    "One approach is to check the length of `zipcode`.\n",
    "If it's five characters long, return `zipcode`.\n",
    "Or else if the first character is not `'0'`, concatenate `'0'` and `zipcode`, then return `zipcode`.\n",
    "Otherwise, print `Invalid ZIP Code.`\n",
    "\n",
    "</details>"
   ]
  },
  {
   "cell_type": "markdown",
   "metadata": {
    "id": "tNPNLZLDkG_Y"
   },
   "source": [
    "### Test your function\n",
    "Test your function against the following cases by running the cell below."
   ]
  },
  {
   "cell_type": "code",
   "execution_count": null,
   "metadata": {
    "colab": {
     "base_uri": "https://localhost:8080/"
    },
    "executionInfo": {
     "elapsed": 4,
     "status": "ok",
     "timestamp": 1679946210275,
     "user": {
      "displayName": "Matteo Riotto",
      "userId": "15211004813978485634"
     },
     "user_tz": 420
    },
    "id": "Hw6Zo-yLkGoh",
    "outputId": "bfe0b331-0c79-4028-afae-2b4088b5239b"
   },
   "outputs": [],
   "source": [
    "print(zip_checker('02806'))     # Should return 02806.\n",
    "print(zip_checker('2806'))      # Should return 02806.\n",
    "zip_checker('0280')             # Should print 'Invalid ZIP Code.'"
   ]
  },
  {
   "cell_type": "markdown",
   "metadata": {
    "id": "IsRgCMTIAgH9"
   },
   "source": [
    "## Task 3: Extract the store ID\n",
    "\n",
    "Now imagine that you've been provided `url`, which is a URL containing the store's actual ID at the end of it.\n",
    "\n",
    "1.  Extract the seven-character store ID from the end of `url` and assign the result to a variable called `id`.\n",
    "2.  Print the contents of `id`."
   ]
  },
  {
   "cell_type": "code",
   "execution_count": null,
   "metadata": {
    "colab": {
     "base_uri": "https://localhost:8080/"
    },
    "executionInfo": {
     "elapsed": 178,
     "status": "ok",
     "timestamp": 1679251352831,
     "user": {
      "displayName": "Arwen Shackelford",
      "userId": "14614635049532489764"
     },
     "user_tz": 300
    },
    "id": "nbWgk78BAgH-",
    "outputId": "80af19c8-c7e3-4cca-a09d-046616d89f38"
   },
   "outputs": [],
   "source": [
    "url = \"https://exampleURL1.com/r626c36\"\n",
    "\n",
    "# 1. ### YOUR CODE HERE ###\n",
    "\n",
    "\n",
    "# 2. ### YOUR CODE HERE ###\n"
   ]
  },
  {
   "cell_type": "markdown",
   "metadata": {
    "id": "UxMGjPYYAgH-"
   },
   "source": [
    "<details>\n",
    "    <summary><h4><strong>Hint 1</strong></h4></summary>\n",
    "\n",
    "Refer back to what you learned about saving strings to variables and string slicing.\n",
    "\n",
    "</details>"
   ]
  },
  {
   "cell_type": "markdown",
   "metadata": {
    "id": "tgauUF4OAgH-"
   },
   "source": [
    "<details>\n",
    "    <summary><h4><strong>Hint 2</strong></h4></summary>\n",
    "\n",
    "To slice a string that is stored in a variable, use indexing brackets on the variable. Inside the brackets, specify the starting and stopping values of the array, separated by a colon (`:`).\n",
    "\n",
    "</details>"
   ]
  },
  {
   "cell_type": "markdown",
   "metadata": {
    "id": "O_3MMwZnAgH-"
   },
   "source": [
    "<details>\n",
    "    <summary><h4><strong>Hint 3</strong></h4></summary>\n",
    "\n",
    "*  Note that the store ID `r626c36` is seven characters long. In the brackets containing the string indices, `[-7:]` indicates to extract the last seven characters of the string. There is no stop value in this case because an empty stop value implies `len(string)` (the ending index of the string).\n",
    "\n",
    "*  Use the `print()` function to display the slice.\n",
    "\n",
    "</details>"
   ]
  },
  {
   "cell_type": "markdown",
   "metadata": {
    "id": "8YuKkGqfAgH-"
   },
   "source": [
    "## Task 4: String extraction function\n",
    "\n",
    "You have many URLs that contain store IDs, but many of them are invalid&mdash;either because they use an invalid protocol (the beginning of the URL) or because the store ID is not seven characters long.\n",
    "\n",
    "*  The correct URL protocol is `https:` Anything else is invalid.\n",
    "*  A valid store ID must have exactly seven characters.\n",
    "\n",
    "\n",
    "Define a function called `url_checker` that accepts the following argument:\n",
    "*  `url` - a URL string\n",
    "\n",
    "Return:\n",
    "*  If both the protocol and the store ID are invalid:\n",
    "    * print two lines: <br/>\n",
    "    `'{protocol} is an invalid protocol.'` <br/>\n",
    "    `'{store_id} is an invalid store ID.'` <br/>\n",
    "*  If only the protocol is invalid:\n",
    "    * print: <br/>\n",
    "    `'{protocol} is an invalid protocol.'` <br/>\n",
    "*  If only the store ID is invalid:\n",
    "    * print: <br/>\n",
    "        `'{store_id} is an invalid store ID.'` <br/>\n",
    "*  If both the protocol and the store ID are valid, return the store ID.\n",
    "\n",
    "In the above cases, `{protocol}` is a string of the protocol and `{store_id}` is a string of the store ID.\n",
    "\n",
    "*Example:*\n",
    "\n",
    "```\n",
    " [IN] url_checker('http://exampleURL1.com/r626c3')\n",
    "[OUT] 'http: is an invalid protocol.'\n",
    "      'r626c3 is an invalid store ID.'\n",
    "\n",
    " [IN] url_checker('ftps://exampleURL1.com/r626c36')\n",
    "[OUT] 'ftps: is an invalid protocol.'\n",
    "\n",
    " [IN] url_checker('https://exampleURL1.com/r626c3')\n",
    "[OUT] 'r626c3 is an invalid store ID.'\n",
    "\n",
    " [IN] url_checker('https://exampleURL1.com/r626c36')\n",
    "[OUT] 'r626c36'\n",
    "```\n",
    "\n",
    "**Note that there is more than one way to solve this problem.**"
   ]
  },
  {
   "cell_type": "code",
   "execution_count": null,
   "metadata": {
    "id": "iUHHc1ueigi4"
   },
   "outputs": [],
   "source": [
    "# Sample valid URL for reference while writing your function:\n",
    "url = 'https://exampleURL1.com/r626c36'\n",
    "\n",
    "### YOUR CODE HERE ###\n"
   ]
  },
  {
   "cell_type": "markdown",
   "metadata": {
    "id": "hu5Po0s255b1"
   },
   "source": [
    "<details>\n",
    "    <summary><h4><strong>Hint 1</strong></h4></summary>\n",
    "\n",
    "*  Consider using the `split()` method to split `url` into separate elements, then assign the first element and last element to their own variables, so you can check them.\n",
    "Refer to the [str.split() Python documentation](https://docs.python.org/3/library/stdtypes.html#str.split) for more information on this method.\n",
    "\n",
    "</details>"
   ]
  },
  {
   "cell_type": "markdown",
   "metadata": {
    "id": "H2m7vOVe7nph"
   },
   "source": [
    "<details>\n",
    "    <summary><h4><strong>Hint 2</strong></h4></summary>\n",
    "\n",
    "There are different possible outcomes, so the logic should follow an if, elif, elif, else branching scheme.\n",
    "\n",
    "</details>"
   ]
  },
  {
   "cell_type": "markdown",
   "metadata": {
    "id": "ePTBNGhF79sB"
   },
   "source": [
    "<details>\n",
    "    <summary><h4><strong>Hint 3</strong></h4></summary>\n",
    "\n",
    "Use string formatting to insert the URL-specific protocol string and store ID string into your print statements.\n",
    "\n",
    "</details>"
   ]
  },
  {
   "cell_type": "markdown",
   "metadata": {
    "id": "qBDtbcLj9n9d"
   },
   "source": [
    "### Test your function\n",
    "Test your function against the following cases by running the cell below."
   ]
  },
  {
   "cell_type": "code",
   "execution_count": null,
   "metadata": {
    "colab": {
     "base_uri": "https://localhost:8080/",
     "height": 105
    },
    "executionInfo": {
     "elapsed": 213,
     "status": "ok",
     "timestamp": 1679952730435,
     "user": {
      "displayName": "Matteo Riotto",
      "userId": "15211004813978485634"
     },
     "user_tz": 420
    },
    "id": "vle6y9719n9d",
    "outputId": "bf167846-292e-4e64-fc7c-82e3ca5616ff"
   },
   "outputs": [],
   "source": [
    "# RUN THIS CELL TO TEST YOUR FUCTION            # Should return:\n",
    "url_checker('http://exampleURL1.com/r626c3')    # 'http: is an invalid protocol.'\n",
    "print()                                         # 'r626c3 is an invalid store ID.'\n",
    "\n",
    "url_checker('ftps://exampleURL1.com/r626c36')   # 'ftps: is an invalid protocol.\n",
    "print()\n",
    "url_checker('https://exampleURL1.com/r626c3')   # 'r626c3 is an invalid store ID.'\n",
    "print()\n",
    "url_checker('https://exampleURL1.com/r626c36')  # 'r626c36'"
   ]
  },
  {
   "cell_type": "markdown",
   "metadata": {
    "id": "2YkzeLnEAgIA"
   },
   "source": [
    "## Conclusions\n",
    "**What are your key takeaways from this lab?**\n",
    "\n"
   ]
  },
  {
   "cell_type": "markdown",
   "metadata": {
    "id": "16cy_uBYrvdP"
   },
   "source": [
    "[Double-click to record your response.]"
   ]
  }
 ],
 "metadata": {
  "colab": {
   "provenance": []
  },
  "kernelspec": {
   "display_name": "Python 3",
   "language": "python",
   "name": "python3"
  },
  "language_info": {
   "codemirror_mode": {
    "name": "ipython",
    "version": 3
   },
   "file_extension": ".py",
   "mimetype": "text/x-python",
   "name": "python",
   "nbconvert_exporter": "python",
   "pygments_lexer": "ipython3",
   "version": "3.7.6"
  }
 },
 "nbformat": 4,
 "nbformat_minor": 1
}
