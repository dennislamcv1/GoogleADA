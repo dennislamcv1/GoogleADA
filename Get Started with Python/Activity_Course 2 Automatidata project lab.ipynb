{
 "cells": [
  {
   "cell_type": "markdown",
   "metadata": {
    "id": "DtNBZFHO3M7n"
   },
   "source": [
    "## **Automatidata project**\n",
    "**Course 2 - Get Started with Python**"
   ]
  },
  {
   "cell_type": "markdown",
   "metadata": {
    "id": "zJCatj3xzrQZ"
   },
   "source": [
    "You have just started as a data professional in a fictional data analytics firm, Automatidata. Their client, the New York City Taxi and Limousine Commission (New York City TLC), has hired the Automatidata team for its reputation in helping their clients develop data-based solutions.\n",
    "\n",
    "The team is still in the early stages of the project. Previously, you were asked to complete a project proposal by your supervisor, DeShawn Washington. You have received notice that your project proposal has been approved and that New York City TLC has given the Automatidata team access to their data. To get clear insights, New York TLC's data must be analyzed, key variables identified, and the dataset ensured it is ready for analysis.\n",
    "\n",
    "A notebook was structured and prepared to help you in this project. Please complete the questions inside and prepare a summary for the data team."
   ]
  },
  {
   "cell_type": "markdown",
   "metadata": {
    "id": "rgSbVJvomcVa"
   },
   "source": [
    "# Course 2 End-of-course project: Inspect and analyze data\n",
    "\n",
    "In this activity, you will examine data provided and prepare it for analysis.  \n",
    "<br/>   \n",
    "\n",
    "**The purpose** of this project is to investigate and understand the data provided.\n",
    "  \n",
    "**The goal** is to use a dataframe contructed within Python, perform a cursory inspection of the provided dataset and inform team members of your findings. \n",
    "<br/>  \n",
    "*This activity has three parts:*\n",
    "\n",
    "**Part 1:** Understand the situation \n",
    "* How can you best prepare to understand and organize the provided taxi cab information?\n",
    "\n",
    "**Part 2:** Understand the data\n",
    "\n",
    "* Create a pandas dataframe for data learning, and future exploratory data analysis (EDA) and statistical activities.\n",
    "\n",
    "* View and interpret the datasets data table\n",
    "\n",
    "* Sort and interpret the data table for two variables of your choice.\n",
    "\n",
    "**Part 3:** Understand the variables\n",
    "\n",
    "* What is the min, mean, and max of your chosen variables?\n",
    "\n",
    "* Visualize the variables\n",
    "\n",
    "<br/> \n",
    "Follow the instructions and answer the following questions to complete the activity. Then, you will complete an Executive Summary using the questions listed on the PACE Strategy Document.\n",
    "\n",
    "Be sure to complete this activity before moving on. The next course item will provide you with a completed exemplar to compare to your own work. \n",
    "\n"
   ]
  },
  {
   "cell_type": "markdown",
   "metadata": {
    "id": "HjFGokxv2pc5"
   },
   "source": [
    "# **Identify data types and relevant variables using Python**\n"
   ]
  },
  {
   "cell_type": "markdown",
   "metadata": {
    "id": "i54DhoTln2Sb"
   },
   "source": [
    "### **Exercise Instructions:**\n"
   ]
  },
  {
   "cell_type": "markdown",
   "metadata": {
    "id": "-yJ7-1vdrS2D"
   },
   "source": [
    "**Complete the following step-by-step instructions to inspect and analyze this NYC taxi dataset.**\n",
    "\n",
    "This activity will help ensure the information is,\n",
    "\n",
    "1.   Ready to answer questions and yield insights\n",
    "\n",
    "2.   Ready for visualizations\n",
    "\n",
    "3.   Ready for future hypothesis testing and statistical methods\n",
    "\n",
    "**Follow the instructions and answer questions to complete this activity. Afterward,**\n",
    "\n",
    "1.   Write a short Executive Summary using your findings.\n",
    "\n",
    "2.  Use the structured notebook provided to help you in this project. Please complete the questions inside and prepare a summary for the data team.\n",
    "\n",
    "3. Consider the questions presented  in the [Course 2 PACE strategy document](https://docs.google.com/document/d/1JM7h5MAQkD9uxoUhgpVBeT5R15y85LRaMo30I7bIFdk/template/preview).\n",
    "\n",
    "4.   Compare your data insights with the provided exemplar to confirm of your approach and results.\n"
   ]
  },
  {
   "cell_type": "markdown",
   "metadata": {
    "id": "MRUYfzCb4vop"
   },
   "source": [
    "Throughout these project notebooks, you'll see references to the problem-solving framework PACE. The following notebook components are labeled with the respective PACE stage: Plan, Analyze, Construct, and Execute.\n",
    "\n",
    "## **PACE stages** \n",
    "\n",
    "\n",
    "<img src=\"images/Pace.png\" width=\"100\" height=\"100\" align=left>\n",
    "\n",
    "   *        [Plan](#scrollTo=psz51YkZVwtN&line=3&uniqifier=1)\n",
    "   *        [Analyze](#scrollTo=mA7Mz_SnI8km&line=4&uniqifier=1)\n",
    "   *        [Construct](#scrollTo=Lca9c8XON8lc&line=2&uniqifier=1)\n",
    "   *        [Execute](#scrollTo=401PgchTPr4E&line=2&uniqifier=1)"
   ]
  },
  {
   "cell_type": "markdown",
   "metadata": {
    "id": "zRHb2QQWj99m"
   },
   "source": [
    "<img src=\"images/Plan.png\" width=\"100\" height=\"100\" align=left>\n",
    "\n",
    "\n",
    "## PACE: **Plan**"
   ]
  },
  {
   "cell_type": "markdown",
   "metadata": {
    "id": "pWEfG5zJV5oG"
   },
   "source": [
    "### **Task 1. Understand the situation**\n",
    "\n",
    "*   How can you best prepare to understand and organize the provided taxi cab information? \n",
    "\n",
    "\n",
    "*Begin by exploring your dataset and consider reviewing the Data Dictionary.*"
   ]
  },
  {
   "cell_type": "code",
   "execution_count": 1,
   "metadata": {
    "id": "sN8127LgAtg9"
   },
   "outputs": [],
   "source": [
    "#==> ENTER YOUR CODE OR RESPONSE HERE\n"
   ]
  },
  {
   "cell_type": "code",
   "execution_count": 2,
   "metadata": {
    "id": "H6ogC5ut6NSH"
   },
   "outputs": [],
   "source": [
    "### **==> EXEMPLAR CODE and OUTPUT**\n",
    "#\n",
    "# Question 1: How best to prepare?\n",
    "#\n",
    "# Question 2: What follow-along code books could help?\n"
   ]
  },
  {
   "cell_type": "markdown",
   "metadata": {
    "id": "1E9Y5aC0IAA-"
   },
   "source": [
    "<img src=\"images/Analyze.png\" width=\"100\" height=\"100\" align=left>\n",
    "\n",
    "## PACE: **Analyze**"
   ]
  },
  {
   "cell_type": "markdown",
   "metadata": {
    "id": "L6KgK-M8o3we"
   },
   "source": [
    "### **Task 2a. Build dataframe**\n",
    "\n",
    "\n",
    "\n",
    "\n",
    "\n",
    "\n",
    "\n",
    "\n",
    "\n",
    "\n",
    "\n",
    "\n",
    "\n",
    "\n"
   ]
  },
  {
   "cell_type": "markdown",
   "metadata": {
    "id": "D4WK_AxP_S__"
   },
   "source": [
    "Create a pandas dataframe for data learning, exploratory data analysis (EDA), and statistical activities.\n",
    "\n",
    "**Code the following,**\n",
    "\n",
    "*   import pandas as pd #library exercise for buidling dataframes\n",
    "\n",
    "*   import numpy as np                #numpy is imported with pandas\n",
    "\n",
    "*   import matplotlib.pyplot as plt   #visualization library\n",
    "\n",
    "*   import seaborn as sns             #visualization library\n",
    "\n",
    "*   df = pd.read_csv('Datasets\\NYC taxi data.csv')\n",
    "\n",
    "**Note:** pair the data object name \"df\" with pandas functions to manipulate data, such as df.groupby()."
   ]
  },
  {
   "cell_type": "code",
   "execution_count": 3,
   "metadata": {
    "id": "OZSXM4q5zrQh"
   },
   "outputs": [],
   "source": [
    "#==> ENTER YOUR CODE OR RESPONSE HERE"
   ]
  },
  {
   "cell_type": "markdown",
   "metadata": {
    "id": "gYx1emvno7U_"
   },
   "source": [
    "### **Task 2b. Understand the data - Interpret the data table**\n",
    "\n",
    "View and interpret the datasets data table by \"**coding the following,**\n",
    "\n",
    "1.   df.head(10)\n",
    "2.   df.info()\n",
    "\n",
    "*Consider the following two questions:*\n",
    "\n",
    "**Question 1:** When reviewing the df.head() output, are there any data points that surprise you or are not correct?\n",
    "\n",
    "**Question 2:** When reviewing the df.info output, What kind of data types are we working with?"
   ]
  },
  {
   "cell_type": "code",
   "execution_count": 4,
   "metadata": {
    "id": "t7Nck2hh4R6J"
   },
   "outputs": [],
   "source": [
    "#==> ENTER YOUR CODE OR RESPONSE HERE"
   ]
  },
  {
   "cell_type": "code",
   "execution_count": 5,
   "metadata": {
    "id": "3NctoTSAvGGD"
   },
   "outputs": [],
   "source": [
    "#==> ENTER YOUR CODE OR RESPONSE HERE"
   ]
  },
  {
   "cell_type": "markdown",
   "metadata": {
    "id": "BMNnIoc51_1N"
   },
   "source": [
    "### **Task 2c. Understand the data - Sort by variables**\n",
    "\n",
    "Sort and interpret the data table for two variables of your choice.\n",
    "\n",
    "**Answer the following three questions:**\n",
    "\n",
    "**Question 1:** Sort your first variable (`trip_distance`) from minimum to maximum value, do the values seem normal?\n",
    "\n",
    "**Question 2:** Sort your by your second variable (`total_amount`), are any values unusual?\n",
    "\n",
    "**Question 3:** Are the resulting rows similar for both sorts? Why or why not?"
   ]
  },
  {
   "cell_type": "code",
   "execution_count": 6,
   "metadata": {
    "id": "bAQeHW-d2S1-"
   },
   "outputs": [],
   "source": [
    "#==> Enter your code here to sort your first variable."
   ]
  },
  {
   "cell_type": "code",
   "execution_count": 7,
   "metadata": {
    "id": "W77hp8q3w-zi"
   },
   "outputs": [],
   "source": [
    "#==> Enter your code here to sort your second variable."
   ]
  },
  {
   "cell_type": "markdown",
   "metadata": {
    "id": "tF_82VLgzrQm"
   },
   "source": [
    "<img src=\"images/Construct.png\" width=\"100\" height=\"100\" align=left>\n",
    "\n",
    "## PACE: **Construct**\n",
    "\n",
    "\n"
   ]
  },
  {
   "cell_type": "markdown",
   "metadata": {
    "id": "j3jXzt2CKmn8"
   },
   "source": [
    "### **Task 3a. Understand the data - View Descriptive statistics**\n",
    "\n",
    "**Instructions:** Using pandas df.describe(), what is the min, mean, and max of your chosen variables?\n",
    "\n",
    "**Code and perform the following,**\n",
    "\n",
    "*   df.describe()\n",
    "\n",
    "*   **Question 1:** What is the min, mean, and max of your first variable?\n",
    "\n",
    "*   **Question 2:** What is the min, mean, and max of second variable?\n",
    "\n",
    "*   **Question 3:** Are the values easily readable? Would could be done to make them more easily readable? \n"
   ]
  },
  {
   "cell_type": "code",
   "execution_count": 8,
   "metadata": {
    "id": "P_FjX2gzPOiM"
   },
   "outputs": [],
   "source": [
    "#==> ENTER YOUR CODE OR RESPONSE HERE\n",
    "\n",
    "#Question 1: what is the min, mean and max of your first variable ?\n",
    "\n",
    "\n",
    "#Question 2: what is the min, mean, and max of your second variable?"
   ]
  },
  {
   "cell_type": "markdown",
   "metadata": {
    "id": "aFijr3BAq_0P"
   },
   "source": [
    "### **Task 3b. Visualize your variables**"
   ]
  },
  {
   "cell_type": "markdown",
   "metadata": {
    "id": "EekkPpVSVj_u"
   },
   "source": [
    "**Instructions:** Create a histogram for each of the two variables. Act and reflect on the following steps:\n",
    "\n",
    "1.   Histogram of your first variable (`total_amount`)\n",
    "\n",
    "2.   Histogram of your second variable (`trip_distance`)\n",
    "\n",
    "3.   Are your variables numerical (did the code work)?  "
   ]
  },
  {
   "cell_type": "code",
   "execution_count": 9,
   "metadata": {
    "id": "Mst6ZyUn7GXp"
   },
   "outputs": [],
   "source": [
    "#==> ENTER YOUR CODE OR RESPONSE TO VISUALIZE THE FIRST VARIABLE HERE"
   ]
  },
  {
   "cell_type": "code",
   "execution_count": 10,
   "metadata": {
    "id": "urG4I0p67JbE"
   },
   "outputs": [],
   "source": [
    "#==> ENTER YOUR CODE OR RESPONSE TO VISUALIZE THE SECOND VARIABLE HERE"
   ]
  },
  {
   "cell_type": "markdown",
   "metadata": {
    "id": "BMHV86A6zrQo"
   },
   "source": [
    "<img src=\"images/Execute.png\" width=\"100\" height=\"100\" align=left>\n",
    "\n",
    "## PACE: **Execute**\n"
   ]
  },
  {
   "cell_type": "markdown",
   "metadata": {
    "id": "u3HxcMZgz6iW"
   },
   "source": [
    "### **Given your efforts, what can you summarize for DeShawn and the data team?**\n",
    "\n",
    "*Note for Learners: Your answer should address Luana's request for a summary that covers the following points:* \n",
    "\n",
    "*   A summary of the data types for each variable\n",
    "\n",
    "*   The minimum, mean, and max for the two variables\n",
    "\n",
    "*   Any relevant and irrelevant columns\n",
    "\n",
    "*  A summary of the data visualization\n",
    "\n",
    "*After looking at the dataset, the two variables that are most likely to help build a predictive model are total_amount and trip_distance. Those two variables are most likely to be helfpul because those variables show a picture of a taxi cab ride.*  "
   ]
  }
 ],
 "metadata": {
  "colab": {
   "collapsed_sections": [
    "u3HxcMZgz6iW"
   ],
   "provenance": []
  },
  "kernelspec": {
   "display_name": "Python 3",
   "language": "python",
   "name": "python3"
  },
  "language_info": {
   "codemirror_mode": {
    "name": "ipython",
    "version": 3
   },
   "file_extension": ".py",
   "mimetype": "text/x-python",
   "name": "python",
   "nbconvert_exporter": "python",
   "pygments_lexer": "ipython3",
   "version": "3.7.6"
  }
 },
 "nbformat": 4,
 "nbformat_minor": 1
}
