{
 "cells": [
  {
   "cell_type": "markdown",
   "metadata": {
    "id": "-Lwnt5KN31Fq"
   },
   "source": [
    "<h1>Exemplar: Dictionaries and sets</h1>"
   ]
  },
  {
   "cell_type": "markdown",
   "metadata": {
    "id": "g3HOxOPG39KQ"
   },
   "source": [
    "## Introduction\n",
    "\n",
    "In this lab, you will practice creating, modifying, and working with data structures in Python. This will develop your knowledge of different kinds of data structures and the different operations that you can perform with them to answer questions about the data. This will help you prepare for projects you may encounter where you will need to use data structures to store and keep track of data.\n",
    "\n",
    "In your work as an analyst, you are continuing your research into air quality data collected by the U.S. Environmental Protection Agency (EPA). The air quality index (AQI) is a number that runs from 0 to 500. The higher the AQI value, the greater the level of air pollution and the greater the health concern. For example, an AQI value of 50 or below represents good air quality, while an AQI value over 300 represents hazardous air quality. Refer to this guide from [AirNow.gov](https://www.airnow.gov/aqi/aqi-basics/) for more information.\n",
    "\n",
    "In this activity, you will create, modify, and update dictionaries and sets. You will also be working with more data than in previous labs to more closely resemble situations encountered by working data professionals."
   ]
  },
  {
   "cell_type": "markdown",
   "metadata": {
    "id": "nWswZUkx388N"
   },
   "source": [
    "## Tips for completing this lab\n",
    "\n",
    "As you navigate this lab, keep the following tips in mind:\n",
    "\n",
    "- `### YOUR CODE HERE ###` indicates where you should write code. Be sure to replace this with your own code before running the code cell.\n",
    "- Feel free to open the hints for additional guidance as you work on each task.\n",
    "- To enter your answer to a question, double-click the markdown cell to edit. Be sure to replace the \"[Double-click to enter your responses here.]\" with your own answer.\n",
    "- You can save your work manually by clicking File and then Save in the menu bar at the top of the notebook.\n",
    "- You can download your work locally by clicking File and then Download and then specifying your preferred file format in the menu bar at the top of the notebook."
   ]
  },
  {
   "cell_type": "markdown",
   "metadata": {
    "id": "JlXRqG234ys5"
   },
   "source": [
    "# Task 1: Create a dictionary to store information</h2></summary>\n",
    "\n",
    "Dictionaries are useful when you need a data structure to store information that can be referenced or looked up.\n",
    "\n",
    "In this task you'll begin with three `list` objects:\n",
    "\n",
    "* `state_list` - an ordered list of the state where each data point was recorded\n",
    "* `county_list` - an ordered list of the county where each data point was recorded\n",
    "* `aqi_list` - an ordered list of AQI records\n",
    "\n",
    "As a refresher, here is an example table of some of the information contained in these variables:\n",
    "\n",
    "| state_name | county_name | aqi |\n",
    "| --- | --- | --- |\n",
    "| Arizona | Maricopa | 9 |\n",
    "| California | Alameda | 11 |\n",
    "| California | Sacramento | 35 |\n",
    "| Kentucky | Jefferson | 6 |\n",
    "| Louisiana | East Baton Rouge | 5 |\n",
    "\n",
    "\n",
    "</details>"
   ]
  },
  {
   "cell_type": "markdown",
   "metadata": {
    "id": "Xnom2939uK6t"
   },
   "source": [
    "## 1a: Create a list of tuples\n",
    "\n",
    "Begin with an intermediary step to prepare the information to be put in a dictionary.\n",
    "\n",
    "* Convert `state_list`, `county_list`, and `aqi_list` to tuples, where each tuple contains information for a single record: `(state, county, aqi)`.\n",
    "\n",
    "* Assign the result to a variable called `epa_tuples`.\n",
    "\n"
   ]
  },
  {
   "cell_type": "code",
   "execution_count": 1,
   "metadata": {
    "id": "ifs5GtHdctXg"
   },
   "outputs": [],
   "source": [
    "# RUN THIS CELL TO IMPORT YOUR DATA\n",
    "import ada_c2_labs as lab\n",
    "state_list = lab.fetch_epa('state')\n",
    "county_list = lab.fetch_epa('county')\n",
    "aqi_list = lab.fetch_epa('aqi')"
   ]
  },
  {
   "cell_type": "code",
   "execution_count": 2,
   "metadata": {
    "id": "UFDv3-UMSSQ1"
   },
   "outputs": [],
   "source": [
    "### YOUR CODE HERE ###\n",
    "epa_tuples = zip(state_list, county_list, aqi_list)"
   ]
  },
  {
   "cell_type": "markdown",
   "metadata": {
    "id": "Jj_vkIbrfOFN"
   },
   "source": [
    "<details><summary><h4>Hint 1</h4></summary>\n",
    "\n",
    "Refer to what you learned about element-wise combination of iterable objects.\n",
    "\n",
    "</details>"
   ]
  },
  {
   "cell_type": "markdown",
   "metadata": {
    "id": "NxWv7DjUffHi"
   },
   "source": [
    "<details><summary><h4>Hint 2</h4></summary>\n",
    "\n",
    "It's possible to create a list of tuples using a loop, but there's a much simpler way of accomplishing the task using a built-in Python function.\n",
    "\n",
    "</details>"
   ]
  },
  {
   "cell_type": "markdown",
   "metadata": {
    "id": "-QK1uv6Gf998"
   },
   "source": [
    "<details><summary><h4>Hint 3</h4></summary>\n",
    "\n",
    "The `zip()` function accepts any number of iterable objects as arguments. If the arguments are all of equal length, the function returns an iterator object of tuples, where each tuple contains `element[i]` of each argument.\n",
    "\n",
    "You can then either loop over the iterator object or pass it to the `list()` function to unpack its values.\n",
    "\n",
    "Refer to the [zip() Python documentation](https://docs.python.org/3/library/functions.html#zip) for more information.\n",
    "\n",
    "</details>"
   ]
  },
  {
   "cell_type": "markdown",
   "metadata": {
    "id": "tKtXEIRrgiY0"
   },
   "source": [
    "## 1b: Create a dictionary\n",
    "\n",
    "Now that you have either a list of tuples or an iterator object containing AQI records, use it to create a dictionary that allows you to look up a state and get all the county-AQI pairs associated with that state.\n",
    "\n",
    "* Create a dictionary called `aqi_dict`:\n",
    "    * Use a loop to unpack information from each tuple in `epa_tuples`.\n",
    "    * Your dictionary's keys should be states.\n",
    "    * The value at each key should be a list of tuples, where each tuple is a county-AQI pair of a record from a given state.\n",
    "\n",
    "*Example:*\n",
    "```\n",
    "[IN]  aqi_dict['Vermont']\n",
    "[OUT] [('Chittenden', 18.0),\n",
    "       ('Chittenden', 20.0),\n",
    "       ('Chittenden', 3.0),\n",
    "       ('Chittenden', 49.0),\n",
    "       ('Rutland', 15.0),\n",
    "       ('Chittenden', 3.0),\n",
    "       ('Chittenden', 6.0),\n",
    "       ('Rutland', 3.0),\n",
    "       ('Rutland', 6.0),\n",
    "       ('Chittenden', 5.0),\n",
    "       ('Chittenden', 2.0)]\n",
    "```"
   ]
  },
  {
   "cell_type": "code",
   "execution_count": 3,
   "metadata": {
    "id": "5wf42bG-d6wC"
   },
   "outputs": [],
   "source": [
    "### YOUR CODE HERE ###\n",
    "aqi_dict = {}\n",
    "for state, county, aqi in epa_tuples:\n",
    "    if state in aqi_dict:\n",
    "        aqi_dict[state].append((county, aqi))\n",
    "    else:\n",
    "        aqi_dict[state] = [(county, aqi)]"
   ]
  },
  {
   "cell_type": "markdown",
   "metadata": {
    "id": "Tndsby6dn4c4"
   },
   "source": [
    "<details><summary><h4>Hint 1</h4></summary>\n",
    "\n",
    "Refer to what you learned about unpacking tuples in loops and creating dictionaries.\n",
    "\n",
    "</details>"
   ]
  },
  {
   "cell_type": "markdown",
   "metadata": {
    "id": "zJ45IKZ0oA4Z"
   },
   "source": [
    "<details><summary><h4>Hint 2</h4></summary>\n",
    "\n",
    "There are 3 elements in each tuple in `epa_tuples`. Therefore, for each iteration of your loop, you'll need to unpack these 3 elements into their own variables.\n",
    "\n",
    "</details>"
   ]
  },
  {
   "cell_type": "markdown",
   "metadata": {
    "id": "6IzSWU-sodMQ"
   },
   "source": [
    "<details><summary><h4>Hint 3</h4></summary>\n",
    "\n",
    "With each loop iteration, check whether the state is already a key in `aqi_dict`. Then, use conditional logic:\n",
    "* If it is, append the county and AQI as a tuple to the list at that state's value.\n",
    "* If it's not, assign the state as a new key in `aqi_dict`, with a value that is a list containing the county-AQI tuple.\n",
    "\n",
    "</details>"
   ]
  },
  {
   "cell_type": "markdown",
   "metadata": {
    "id": "igHmjfKI0eHK"
   },
   "source": [
    "# Task 2: Use the dictionary to retrieve information\n",
    "\n",
    "Now that you have a dictionary of county-AQI readings by state, you can use it to retrieve information and draw further insight from your data."
   ]
  },
  {
   "cell_type": "markdown",
   "metadata": {
    "id": "cGZhPv6g06W4"
   },
   "source": [
    "## 2a: Calculate how many readings were recorded in the state of Arizona\n",
    "\n",
    "Use your Python skills to calculate the number of readings that were recorded in the state of Arizona.\n",
    "\n",
    "*Expected output:*\n",
    "```\n",
    "[OUT] 72\n",
    "```"
   ]
  },
  {
   "cell_type": "code",
   "execution_count": 4,
   "metadata": {
    "colab": {
     "base_uri": "https://localhost:8080/"
    },
    "executionInfo": {
     "elapsed": 161,
     "status": "ok",
     "timestamp": 1680527888894,
     "user": {
      "displayName": "Matteo Riotto",
      "userId": "15211004813978485634"
     },
     "user_tz": 240
    },
    "id": "E14DYfPFzk5K",
    "outputId": "02d84aaf-61b2-494f-9d0c-4a8223f394ff"
   },
   "outputs": [
    {
     "data": {
      "text/plain": [
       "72"
      ]
     },
     "execution_count": 4,
     "metadata": {},
     "output_type": "execute_result"
    }
   ],
   "source": [
    "### YOUR CODE HERE ###\n",
    "len(aqi_dict['Arizona'])"
   ]
  },
  {
   "cell_type": "markdown",
   "metadata": {
    "id": "JQacJGL09nn2"
   },
   "source": [
    "<details><summary><h4>Hint</h4></summary>\n",
    "\n",
    "Because you only need a count of records, try using the `len()` function to check how many records are in the list that represents the value associated with the `'Arizona'` key.\n",
    "\n",
    "</details>"
   ]
  },
  {
   "cell_type": "markdown",
   "metadata": {
    "id": "vWGIlgb29Nzd"
   },
   "source": [
    "## 2b: Calculate the mean AQI from the state of California\n",
    "\n",
    "Use your Python skills to calculate the mean of the AQI readings that were recorded in the state of California. Note that there are many different approaches you can take. Be creative!\n",
    "\n",
    "*Expected output:*\n",
    "```\n",
    "[OUT] 9.412280701754385\n",
    "```"
   ]
  },
  {
   "cell_type": "code",
   "execution_count": 5,
   "metadata": {
    "colab": {
     "base_uri": "https://localhost:8080/"
    },
    "executionInfo": {
     "elapsed": 7,
     "status": "ok",
     "timestamp": 1680527963706,
     "user": {
      "displayName": "Matteo Riotto",
      "userId": "15211004813978485634"
     },
     "user_tz": 240
    },
    "id": "Rb9y0usK0Ebn",
    "outputId": "c1bc86ad-6fb4-4628-9234-2944dcdd1e41"
   },
   "outputs": [
    {
     "data": {
      "text/plain": [
       "9.412280701754385"
      ]
     },
     "execution_count": 5,
     "metadata": {},
     "output_type": "execute_result"
    }
   ],
   "source": [
    "### YOUR CODE HERE ###\n",
    "ca_aqi_list = [aqi for county, aqi in aqi_dict['California']]\n",
    "ca_aqi_mean = sum(ca_aqi_list) / len(ca_aqi_list)\n",
    "ca_aqi_mean"
   ]
  },
  {
   "cell_type": "markdown",
   "metadata": {
    "id": "M5wrWklg-caP"
   },
   "source": [
    "<details><summary><h4>Hint 1</h4></summary>\n",
    "\n",
    "When you look up a state as a key in `aqi_dict`, its corresponding value is a list of tuples. Consider using a list comprehension to unpack the data contained in each tuple so you can perform operations on it.\n",
    "\n",
    "</details>"
   ]
  },
  {
   "cell_type": "markdown",
   "metadata": {
    "id": "S2AJij6g_cy6"
   },
   "source": [
    "<details><summary><h4>Hint2</h4></summary>\n",
    "\n",
    "If you can create a list of just the AQI values from each tuple in the values of the 'California' key, then you can calculate the mean of the list in the next step.\n",
    "\n",
    "</details>"
   ]
  },
  {
   "cell_type": "markdown",
   "metadata": {
    "id": "IA7ArHMU_5w4"
   },
   "source": [
    "<details><summary><h4>Hint 3</h4></summary>\n",
    "\n",
    "One way to construct your list is:\n",
    "```\n",
    "[aqi for county, aqi in aqi_dict['California']]\n",
    "```\n",
    "Then, you can sum all the elements in the list and divide by the length of the list to calculate the mean.\n",
    "\n",
    "</details>"
   ]
  },
  {
   "cell_type": "markdown",
   "metadata": {
    "id": "QK6P3Az0J_H9"
   },
   "source": [
    "# Task 3: Define a `county_counter()` function\n",
    "\n",
    "You want to be able to quickly look up how many times a county is represented in a given state's readings. Even though you already have a list containing just county names, it's not safe to rely on the counts from that list alone because some states might have counties with the same name. Therefore, you'll need to use the state-specific information in `aqi_dict` to calculate this information."
   ]
  },
  {
   "cell_type": "markdown",
   "metadata": {
    "id": "vqEANCSJOUU0"
   },
   "source": [
    "## 3a: Write the function\n",
    "\n",
    "* Define a function called `county_counter` that takes one argument:\n",
    "    * `state` - a string of the name of a U.S. state\n",
    "\n",
    "* Return `county_dict` - a `dictionary` object whose keys are counties of the `state` given in the function's argument. For each county key, the corresponding value should be the count of the number of times that county is represented in the AQI data for that state.\n",
    "\n",
    "*Example:*\n",
    "```\n",
    "[IN]  county_counter('Florida')\n",
    "[OUT] {'Duval': 13,\n",
    "       'Hillsborough': 9,\n",
    "       'Broward': 18,\n",
    "       'Miami-Dade': 15,\n",
    "       'Orange': 6,\n",
    "       'Palm Beach': 5,\n",
    "       'Pinellas': 6,\n",
    "       'Sarasota': 9}\n",
    "```\n",
    "\n",
    "**NOTE:** Depending on the version of Python you're using, the order of the items returned by a dictionary can vary, so it's possible that your keys might not print in the same order as listed above. However, the key-value pairs themselves will be the same if you do the exercise successfully."
   ]
  },
  {
   "cell_type": "code",
   "execution_count": 6,
   "metadata": {
    "id": "VoYZhy8PLMvN"
   },
   "outputs": [],
   "source": [
    "### YOUR CODE HERE ###\n",
    "def county_counter(state):\n",
    "    county_dict = {}\n",
    "    for county, aqi in aqi_dict[state]:\n",
    "        if county in county_dict:\n",
    "            county_dict[county] +=1\n",
    "        else:\n",
    "            county_dict[county] = 1\n",
    "    return county_dict"
   ]
  },
  {
   "cell_type": "markdown",
   "metadata": {
    "id": "731imqkOOs3w"
   },
   "source": [
    "<details><summary><h4>Hint 1</h4></summary>\n",
    "\n",
    "Refer to what you learned about function syntax, how dictionaries behave with iteration techniques, and how to unpack tuples.\n",
    "\n",
    "</details>"
   ]
  },
  {
   "cell_type": "markdown",
   "metadata": {
    "id": "5IiueHVyPN6i"
   },
   "source": [
    "<details><summary><h4>Hint 2</h4></summary>\n",
    "\n",
    "* Use `aqi_dict` in the body of the function.\n",
    "\n",
    "* When you look up a state as a key in `aqi_dict`, its corresponding value is a list of tuples. Unpack the tuples to extract the county, which you can then use to build `county_dict`.\n",
    "\n",
    "</details>"
   ]
  },
  {
   "cell_type": "markdown",
   "metadata": {
    "id": "c-IjDlffPyST"
   },
   "source": [
    "<details><summary><h4>Hint 3</h4></summary>\n",
    "\n",
    "* Begin by instantiating `county_dict` as an empty dictionary.\n",
    "* Then, in a `for` loop, unpack `county, aqi` from each tuple in `aqi_dict[state]`.\n",
    "* Next, use conditional logic to assemble `county_dict`:\n",
    "    * If `county` is already a key in `county_dict`, increment the value at that key by 1.\n",
    "    * If `county` is not a key in `county_dict`, then assign it as a new key whose value is 1.\n",
    "* Return `county_dict`.\n",
    "\n",
    "</details>"
   ]
  },
  {
   "cell_type": "markdown",
   "metadata": {
    "id": "3lt2nty2QzHM"
   },
   "source": [
    "## 3b: Use the function to check Washington County, PA.\n",
    "\n",
    "Use the `county_counter()` function to calculate how many AQI readings were from `Washington` County, `Pennsylvania`.\n",
    "\n",
    "*Expected result:*\n",
    "```\n",
    "[OUT] 7\n",
    "```"
   ]
  },
  {
   "cell_type": "code",
   "execution_count": 7,
   "metadata": {
    "colab": {
     "base_uri": "https://localhost:8080/"
    },
    "executionInfo": {
     "elapsed": 152,
     "status": "ok",
     "timestamp": 1680528631611,
     "user": {
      "displayName": "Matteo Riotto",
      "userId": "15211004813978485634"
     },
     "user_tz": 240
    },
    "id": "hLdLi46fM0wy",
    "outputId": "7391963a-94fc-48eb-f23e-2b142565fbb8"
   },
   "outputs": [
    {
     "data": {
      "text/plain": [
       "7"
      ]
     },
     "execution_count": 7,
     "metadata": {},
     "output_type": "execute_result"
    }
   ],
   "source": [
    "### YOUR CODE HERE ###\n",
    "pa_dict = county_counter('Pennsylvania')\n",
    "pa_dict['Washington']"
   ]
  },
  {
   "cell_type": "markdown",
   "metadata": {
    "id": "N68ywkC5R5x1"
   },
   "source": [
    "<details><summary><h4>Hint</h4></summary>\n",
    "\n",
    "Use the `county_counter()` function to generate a dictionary of county counts for the state of Pennsylvania. Then, use the resulting dictionary to look up the count for Washington county.\n",
    "\n",
    "</details>\n"
   ]
  },
  {
   "cell_type": "markdown",
   "metadata": {
    "id": "R5KpMuUtVk66"
   },
   "source": [
    "## 3c: Use the function to check the different counties in Indiana\n",
    "\n",
    "Use the `county_counter` function to obtain a list of all the different counties in the state of Indiana.\n",
    "\n",
    "*Expected result:*\n",
    "```\n",
    "[OUT] dict_keys(['Marion', 'St. Joseph', 'Vanderburgh', 'Allen', 'Vigo'\n",
    "      'Hendricks', 'Lake'])\n",
    "```\n",
    "\n",
    "**NOTE:** Depending on the version of Python you're using, the order of the items returned by a dictionary can vary, so it's possible that your keys might not print in this same order as listed above. However, the key-value pairs themselves will be the same if you do the exercise successfully."
   ]
  },
  {
   "cell_type": "code",
   "execution_count": 8,
   "metadata": {
    "colab": {
     "base_uri": "https://localhost:8080/"
    },
    "executionInfo": {
     "elapsed": 216,
     "status": "ok",
     "timestamp": 1680295256697,
     "user": {
      "displayName": "Matteo Riotto",
      "userId": "15211004813978485634"
     },
     "user_tz": 420
    },
    "id": "liiiVWXgV4_8",
    "outputId": "c73b05a3-7585-49e3-f55e-59c1b0ab6b61"
   },
   "outputs": [
    {
     "data": {
      "text/plain": [
       "dict_keys(['Marion', 'St. Joseph', 'Vanderburgh', 'Allen', 'Vigo', 'Hendricks', 'Lake'])"
      ]
     },
     "execution_count": 8,
     "metadata": {},
     "output_type": "execute_result"
    }
   ],
   "source": [
    "### YOUR CODE HERE ###\n",
    "county_counter('Indiana').keys()"
   ]
  },
  {
   "cell_type": "markdown",
   "metadata": {
    "id": "7nLYmg5ZWnDz"
   },
   "source": [
    "<details><summary><h4>Hint 1</h4></summary>\n",
    "\n",
    "Refer to what you learned about dictionary methods.\n",
    "\n",
    "</details>"
   ]
  },
  {
   "cell_type": "markdown",
   "metadata": {
    "id": "EOLQUj4ZWvgz"
   },
   "source": [
    "<details><summary><h4>Hint 2</h4></summary>\n",
    "\n",
    "Enter `'Indiana'` as an argument to your `county_counter()` function to get a dictionary of county counts in the state of Indiana. Then, use a dictionary method on the resulting dictionary.\n",
    "\n",
    "</details>"
   ]
  },
  {
   "cell_type": "markdown",
   "metadata": {
    "id": "2B-xdyiCXNdm"
   },
   "source": [
    "<details><summary><h4>Hint 3</h4></summary>\n",
    "\n",
    "Use the `keys()` dictionary method to return a list of the dictionary's keys, which represents the different counties in the state of Indiana.\n",
    "\n",
    "</details>"
   ]
  },
  {
   "cell_type": "markdown",
   "metadata": {
    "id": "gqDduvi4Xe1U"
   },
   "source": [
    "# Task 4: Use sets to determine how many counties share names\n",
    "\n",
    "In this task, you'll create a list of every county from every state, then use it to determine how many counties have the same name."
   ]
  },
  {
   "cell_type": "markdown",
   "metadata": {
    "id": "PY-64mhWeJiZ"
   },
   "source": [
    "## 4a: Construct a list of every county from every state\n",
    "\n",
    "1.  * Use `aqi_dict` and `county_counter()` to construct a list of every county from every state.\n",
    "    * Assign the result to a variable called `all_counties`.\n",
    "\n",
    "2. Find the length of `all_counties`.\n",
    "\n",
    "*Expected result:*\n",
    "```\n",
    "[OUT] 277\n",
    "```"
   ]
  },
  {
   "cell_type": "markdown",
   "metadata": {
    "id": "S4CXm4CrfFyh"
   },
   "source": [
    "<details><summary><h4>Hint 1</h4></summary>\n",
    "\n",
    "Refer to what you learned about looping over dictionaries. Also, review previous tasks you completed in this notebook.\n",
    "\n",
    "</details>"
   ]
  },
  {
   "cell_type": "markdown",
   "metadata": {
    "id": "LdobBRhXfM-f"
   },
   "source": [
    "<details><summary><h4>Hint 2</h4></summary>\n",
    "\n",
    "* Note that when you call the `keys()` method on a dictionary, the returned object is similar to a list, but it's not of type `list`. It's a dictionary view object, but you can convert it to a list using the `list()` function.\n",
    "\n",
    "* Be mindful of the following:\n",
    "    * `list_a.append(list_b)` increases the length of `list_a`  by 1 no matter how long `list_b` is, because `append()` creates a list of lists.\n",
    "    * `list_a + list_b` increases the length of `list_a` by `len(list_b)`, because adding (`+`) lists combines them.\n",
    "\n",
    "</details>"
   ]
  },
  {
   "cell_type": "markdown",
   "metadata": {
    "id": "kaFWKV3OhXrb"
   },
   "source": [
    "<details><summary><h4>Hint 3</h4></summary>\n",
    "\n",
    "1. Instantiate an empty list called `all_counties`.\n",
    "2. Loop over each state in `aqi_dict.keys()`. For each iteration:\n",
    "    * Extract a list of that state's counties using `list(county_counter(state).keys())`.\n",
    "    * Add the list of counties to `all_counties`.\n",
    "3. Print `len(all_counties)`\n",
    "\n",
    "</details>"
   ]
  },
  {
   "cell_type": "code",
   "execution_count": 9,
   "metadata": {
    "colab": {
     "base_uri": "https://localhost:8080/"
    },
    "executionInfo": {
     "elapsed": 166,
     "status": "ok",
     "timestamp": 1680528881216,
     "user": {
      "displayName": "Matteo Riotto",
      "userId": "15211004813978485634"
     },
     "user_tz": 240
    },
    "id": "2z7AZm6KaEj0",
    "outputId": "4a9560d1-f757-4652-9ce2-21431fe7c905"
   },
   "outputs": [
    {
     "data": {
      "text/plain": [
       "277"
      ]
     },
     "execution_count": 9,
     "metadata": {},
     "output_type": "execute_result"
    }
   ],
   "source": [
    "# 1. ### YOUR CODE HERE ###\n",
    "all_counties = []\n",
    "for state in aqi_dict.keys():\n",
    "    counties = list(county_counter(state).keys())\n",
    "    all_counties += counties\n",
    "    \n",
    "# 2. ### YOUR CODE HERE ###\n",
    "len(all_counties)"
   ]
  },
  {
   "cell_type": "markdown",
   "metadata": {
    "id": "gDepYdewiSIV"
   },
   "source": [
    "## 4b: Calculate how many counties share names\n",
    "\n",
    "Use `all_counties` and your knowledge of sets to determine how many counties share names.\n",
    "\n",
    "*Expected result:*\n",
    "```\n",
    "[OUT] 23\n",
    "```"
   ]
  },
  {
   "cell_type": "code",
   "execution_count": 10,
   "metadata": {
    "colab": {
     "base_uri": "https://localhost:8080/"
    },
    "executionInfo": {
     "elapsed": 9,
     "status": "ok",
     "timestamp": 1680297704209,
     "user": {
      "displayName": "Matteo Riotto",
      "userId": "15211004813978485634"
     },
     "user_tz": 420
    },
    "id": "ai7AFt_9irLm",
    "outputId": "78834ce6-acd3-4ded-f80f-d4fa4fc9ac6e"
   },
   "outputs": [
    {
     "data": {
      "text/plain": [
       "23"
      ]
     },
     "execution_count": 10,
     "metadata": {},
     "output_type": "execute_result"
    }
   ],
   "source": [
    "### YOUR CODE HERE ###\n",
    "num_counties = len(all_counties)\n",
    "num_unique_names = len(set(all_counties))\n",
    "num_counties - num_unique_names"
   ]
  },
  {
   "cell_type": "markdown",
   "metadata": {
    "id": "5_C1MQq85aHA"
   },
   "source": [
    "<details><summary><h4>Hint 1</h4></summary>\n",
    "\n",
    "Refer to what you've learned about sets.\n",
    "\n",
    "</details>"
   ]
  },
  {
   "cell_type": "markdown",
   "metadata": {
    "id": "FE7GBLPF5aBy"
   },
   "source": [
    "<details><summary><h4>Hint 2</h4></summary>\n",
    "\n",
    "A set cannot contain any duplicate elements. Each value is unique.\n",
    "\n",
    "</details>"
   ]
  },
  {
   "cell_type": "markdown",
   "metadata": {
    "id": "5_YEjQ2n5Z9I"
   },
   "source": [
    "<details><summary><h4>Hint 3</h4></summary>\n",
    "\n",
    "1. Use the `set()` function to get the set of all unique county names in `all_counties`.\n",
    "\n",
    "2. Calculate the length of `set(all_counties)`. This is the number of unique county names in the data.\n",
    "\n",
    "3. Subtract this number from `len(all_counties)` to get the number of times a county name was duplicated.\n",
    "\n",
    "</details>"
   ]
  },
  {
   "cell_type": "markdown",
   "metadata": {
    "id": "xhKq_IF9k2z5"
   },
   "source": [
    "Note that this doesn't tell you how many *different* county names were duplicated. It's possible that 24 states all had a county that shared the same one name. It's also possible that there were 23 different counties that each shared a name with a county in just one other state.\n",
    "\n",
    "Further analysis could uncover more details about this. Perhaps you can figure it out!"
   ]
  },
  {
   "cell_type": "markdown",
   "metadata": {
    "id": "K9nId3uu5Z47"
   },
   "source": [
    "# Conclusion\n",
    "\n",
    "**What are your key takeaways from this lab?**"
   ]
  },
  {
   "cell_type": "markdown",
   "metadata": {
    "id": "A2eoSHnIQG1I"
   },
   "source": [
    "- Python has many built-in functions that are useful for building dictionaries and sets.\n",
    "- Dictionaries in Python are useful for representing data in terms of keys mapped to values.\n",
    "- A set will not allow duplicate values.\n",
    "    - The values a set contains are unchangable and unordered.\n",
    "- Functions and loop iteration can be used to perform calculations on dictionary values.\n",
    "    - Once the values have been calculated, they can be saved to other data types, such as tuples, lists, and sets.\n",
    "- There are many ways to access data stored inside a dictionary.\n"
   ]
  }
 ],
 "metadata": {
  "colab": {
   "provenance": [],
   "toc_visible": true
  },
  "kernelspec": {
   "display_name": "Python 3",
   "language": "python",
   "name": "python3"
  },
  "language_info": {
   "codemirror_mode": {
    "name": "ipython",
    "version": 3
   },
   "file_extension": ".py",
   "mimetype": "text/x-python",
   "name": "python",
   "nbconvert_exporter": "python",
   "pygments_lexer": "ipython3",
   "version": "3.7.6"
  }
 },
 "nbformat": 4,
 "nbformat_minor": 1
}
