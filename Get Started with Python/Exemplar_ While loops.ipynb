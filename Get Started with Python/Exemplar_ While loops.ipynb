{
 "cells": [
  {
   "cell_type": "markdown",
   "metadata": {
    "id": "JwaiQtxjvkqT"
   },
   "source": [
    "<summary><h1>Exemplar: While loops</h1></summary>"
   ]
  },
  {
   "cell_type": "markdown",
   "metadata": {
    "id": "m6wrnw_xvtjg"
   },
   "source": [
    "## Introduction \n",
    "\n",
    "Data analysts often work with code that requires repetition. In Python, iterative statements can help automate repetitive processes to make them more efficient.\n",
    "\n",
    "In this lab, imagine you have transitioned fully into marketing for the movie theater. One of your tasks is analyzing customer purchases at the concession stand and automating messages to alert staff when a customer has earned a coupon.\n",
    "\n",
    "You will practice using while loops to iterate through data and perform repeated comparisons. "
   ]
  },
  {
   "cell_type": "markdown",
   "metadata": {
    "id": "A1sRocYbv0Ok"
   },
   "source": [
    "## Tips for completing this lab\n",
    "\n",
    "As you navigate this lab, keep the following tips in mind:\n",
    "\n",
    "- `### YOUR CODE HERE ###` indicates where you should write code. Be sure to replace this with your own code before running the code cell.\n",
    "- Feel free to open the hints for additional guidance as you work on each task.\n",
    "- To enter your answer to a question, double-click the markdown cell to edit. Be sure to replace the \"[Double-click to enter your responses here.]\" with your own answer.\n",
    "- You can save your work manually by clicking File and then Save in the menu bar at the top of the notebook.\n",
    "- You can download your work locally by clicking File and then Download and then specifying your preferred file format in the menu bar at the top of the notebook."
   ]
  },
  {
   "cell_type": "markdown",
   "metadata": {
    "id": "v6jkDWLzv9cE"
   },
   "source": [
    "## Task 1: Iterate with a `while` loop\n",
    "\n",
    "While continuing your work as an analyst for a movie theater, you've been asked to create a function that will require a `while` loop. To prepare for the job, first practice using `while` loops.\n",
    "\n",
    "In this warmup task:\n",
    "\n",
    "* Create a variable called `candy_purchased` that will act as a counter. Initialize it with a starting value of `0`.\n",
    "* Write a `while` loop that will continue iterating until `5` candies have been purchased.\n",
    "    * Each iteration of the loop must print `'Candy purchased: {number}'` and increment `candy_purchased` by one.\n",
    "\n",
    "*Expected output:*\n",
    "```\n",
    "Candy purchased: 0\n",
    "Candy purchased: 1\n",
    "Candy purchased: 2\n",
    "Candy purchased: 3\n",
    "Candy purchased: 4\n",
    "Candy purchased: 5\n",
    "```"
   ]
  },
  {
   "cell_type": "code",
   "execution_count": 1,
   "metadata": {
    "colab": {
     "base_uri": "https://localhost:8080/"
    },
    "executionInfo": {
     "elapsed": 207,
     "status": "ok",
     "timestamp": 1680124550690,
     "user": {
      "displayName": "Matteo Riotto",
      "userId": "15211004813978485634"
     },
     "user_tz": 420
    },
    "id": "yRtGWWmiv-We",
    "outputId": "792467f5-b26f-45c3-ad38-e23bbf4f5f86"
   },
   "outputs": [
    {
     "name": "stdout",
     "output_type": "stream",
     "text": [
      "Candy purchased: 0\n",
      "Candy purchased: 1\n",
      "Candy purchased: 2\n",
      "Candy purchased: 3\n",
      "Candy purchased: 4\n",
      "Candy purchased: 5\n"
     ]
    }
   ],
   "source": [
    "# Assign `candy_purchased` to an initial value of 0 to act as a counter\n",
    "candy_purchased = 0\n",
    "\n",
    "# Create an iterative statement using `while` and `candy_purchased`\n",
    "# Display how many purchases have been made with each iteration\n",
    "\n",
    "while candy_purchased <= 5:\n",
    "    print('Candy purchased: ' + str(candy_purchased))\n",
    "    # Increment the candy_purchased counter\n",
    "    candy_purchased += 1\n"
   ]
  },
  {
   "cell_type": "markdown",
   "metadata": {
    "id": "cht_dmcXNFfa"
   },
   "source": [
    "<details>\n",
    "    <summary><h4><strong>Hint 1</strong></h4></summary>\n",
    "\n",
    "Refer back to what you learned about iterating using `while` loops and comparison operators.\n",
    "\n",
    "</details>"
   ]
  },
  {
   "cell_type": "markdown",
   "metadata": {
    "id": "yCi7qymPNRxx"
   },
   "source": [
    "<details>\n",
    "    <summary><h4><strong>Hint 2</strong></h4></summary>\n",
    "\n",
    "* After creating a counter variable, you can use a `while` loop to iterate while a condition is true.\n",
    "\n",
    "* Check your syntax and indentation.\n",
    "\n",
    "* Make sure to increment the `candy_purchased` counter with each iteration of the loop.\n",
    "\n",
    "* If your output isn't matching the example output, reconsider the order of your operations in the body of the `while` loop.\n",
    "\n",
    "</details>"
   ]
  },
  {
   "cell_type": "markdown",
   "metadata": {
    "id": "dhBqSkauPJSh"
   },
   "source": [
    "<details>\n",
    "    <summary><h4><strong>Hint 3</strong></h4></summary>\n",
    "\n",
    "* The `while` statement can be declared either for `candy_purchased <= 5` or `candy_purchased < 6`.\n",
    "\n",
    "* For each iteration:\n",
    "    * First, print `'Candy purchased: {number}'`\n",
    "    * Then, increment `candy_purchased` by one\n",
    "\n",
    "</details>"
   ]
  },
  {
   "cell_type": "markdown",
   "metadata": {
    "id": "DEGwRhgNwBYH"
   },
   "source": [
    "# Task 2: Iterate using `while` and `if`\n",
    "\n",
    "In the next warmup task, you'll use a `while` loop that has an `if` statement and some Boolean logic.\n",
    "\n",
    "* Write a `while` loop where `candy_purchased` begins at `0` and stops after 100 purchases have been made. Your code must:\n",
    "    * Increment `candy_purchased` by one with each iteration\n",
    "    * Print `'Candy purchased: {number}'` only when a multiple of 10 purchases have been made\n",
    "\n",
    "*Expected output:*\n",
    "```\n",
    "Candy purchased: 0\n",
    "Candy purchased: 10\n",
    "Candy purchased: 20\n",
    "Candy purchased: 30\n",
    "Candy purchased: 40\n",
    "Candy purchased: 50\n",
    "Candy purchased: 60\n",
    "Candy purchased: 70\n",
    "Candy purchased: 80\n",
    "Candy purchased: 90\n",
    "Candy purchased: 100\n",
    "```"
   ]
  },
  {
   "cell_type": "code",
   "execution_count": 2,
   "metadata": {
    "colab": {
     "base_uri": "https://localhost:8080/"
    },
    "executionInfo": {
     "elapsed": 214,
     "status": "ok",
     "timestamp": 1680124818227,
     "user": {
      "displayName": "Matteo Riotto",
      "userId": "15211004813978485634"
     },
     "user_tz": 420
    },
    "id": "MRE-fZgIKb9T",
    "outputId": "9bbcdce7-15d4-45b1-8d30-84a31ecd06c6"
   },
   "outputs": [
    {
     "name": "stdout",
     "output_type": "stream",
     "text": [
      "Candy purchased: 0\n",
      "Candy purchased: 10\n",
      "Candy purchased: 20\n",
      "Candy purchased: 30\n",
      "Candy purchased: 40\n",
      "Candy purchased: 50\n",
      "Candy purchased: 60\n",
      "Candy purchased: 70\n",
      "Candy purchased: 80\n",
      "Candy purchased: 90\n",
      "Candy purchased: 100\n"
     ]
    }
   ],
   "source": [
    "candy_purchased = 0\n",
    "\n",
    "while candy_purchased <= 100:\n",
    "    if candy_purchased % 10 == 0:\n",
    "        print('Candy purchased: ' + str(candy_purchased))\n",
    "    candy_purchased += 1\n"
   ]
  },
  {
   "cell_type": "markdown",
   "metadata": {
    "id": "vP2NyzYvRXAF"
   },
   "source": [
    "<details>\n",
    "    <summary><h4><strong>Hint 1</strong></h4></summary>\n",
    "\n",
    "Refer back to what you learned about comparison operators, `while` loops, `if` statements, and Boolean logic.\n",
    "\n",
    "</details>"
   ]
  },
  {
   "cell_type": "markdown",
   "metadata": {
    "id": "Ney2LZoYRgG9"
   },
   "source": [
    "<details>\n",
    "    <summary><h4><strong>Hint 2</strong></h4></summary>\n",
    "\n",
    "After setting the counter to an initial value, initialize the `while` loop on a new line. Make sure the body of the while loop is indented. Additional iterative statements, such as `if`, are contained in the body of the loop and indented to the same level, though their own body is indented further.\n",
    "\n",
    "</details>"
   ]
  },
  {
   "cell_type": "markdown",
   "metadata": {
    "id": "JNOpqBWQS6b8"
   },
   "source": [
    "<details>\n",
    "    <summary><h4><strong>Hint 3</strong></h4></summary>\n",
    "\n",
    "* Define the `while` loop to execute until either `candy_purchased <= 100` or `candy_purchased < 101`.\n",
    "\n",
    "* Begin the body with an `if` statement that uses the modulo operator to check the `candy_purchased` variable for perfect divisibility by 10 and execute the print statement only when the `if` statement evaluates to `True`.\n",
    "\n",
    "* Finally, increment the `candy_purchased` counter by one.\n",
    "\n",
    "</details>"
   ]
  },
  {
   "cell_type": "markdown",
   "metadata": {
    "id": "ZmI550JXWWbG"
   },
   "source": [
    "# Task 3: Create a webpage timer function\n",
    "\n",
    "Now that you have some practice constructing `while` loops, it's time to take on the project you've been asked to complete for the theater.\n",
    "\n",
    "This task makes use of a function called `sleep()` from the `time` module. Whenever `sleep(n)` is executed, the program will pause for `n` seconds. Run the below cell as an illustrative example to help you understand."
   ]
  },
  {
   "cell_type": "code",
   "execution_count": 3,
   "metadata": {
    "colab": {
     "base_uri": "https://localhost:8080/"
    },
    "executionInfo": {
     "elapsed": 3230,
     "status": "ok",
     "timestamp": 1680014982487,
     "user": {
      "displayName": "Matteo Riotto",
      "userId": "15211004813978485634"
     },
     "user_tz": 420
    },
    "id": "KAjdm2ZPXCBc",
    "outputId": "e4ab6322-a536-47af-8d2a-0bb1ddfb5c2c"
   },
   "outputs": [
    {
     "name": "stdout",
     "output_type": "stream",
     "text": [
      "3\n",
      "2\n",
      "1\n"
     ]
    }
   ],
   "source": [
    "from time import sleep\n",
    "\n",
    "n = 3\n",
    "while n > 0:\n",
    "    print(n)\n",
    "    sleep(1)    # Execution pauses for 1 second\n",
    "    n = n - 1   # Decrement n by 1"
   ]
  },
  {
   "cell_type": "markdown",
   "metadata": {
    "id": "4Ir0fa0cXbQN"
   },
   "source": [
    "For the purposes of this task, pretend that 1 second = 1 minute, so the above cell would represent a 3-minute countdown.\n",
    "\n",
    "The movie theater has implemented online reservations through their website. From the seat selection page, customers have a limited amount of time to make their selection. You must write a function that counts down and reminds the user that they have limited time to make a selection. When time expires, it must print a timeout message.\n",
    "\n",
    "*  Instantiate a variable called `mins` and assign it a starting value of `10`.\n",
    "*  Write a `while` loop that uses the `sleep()` function and decrements `mins` from `10` minutes. For each minute:\n",
    "\n",
    "    *  Print how many minutes remain as an integer. <br/>**BUT:**\n",
    "    *  If there are 5 minutes left, print `Place your reservation soon! 5 minutes remaining.` instead of the integer.\n",
    "    *  If there are 2 minutes left, print `Don't lose your seats! 2 minutes remaining.` instead of the integer.\n",
    "    *  When zero minutes remain, print `User timed out.` instead of the integer.\n",
    "\n",
    "*Expected output:*\n",
    "\n",
    "```\n",
    "10\n",
    "9\n",
    "8\n",
    "7\n",
    "6\n",
    "Place your reservation soon! 5 minutes remaining.\n",
    "4\n",
    "3\n",
    "Don't lose your seats! 2 minutes remaining.\n",
    "1\n",
    "User timed out.\n",
    "```\n",
    "\n",
    "**Note that there is more than one way to solve this problem.**"
   ]
  },
  {
   "cell_type": "code",
   "execution_count": 4,
   "metadata": {
    "colab": {
     "base_uri": "https://localhost:8080/"
    },
    "executionInfo": {
     "elapsed": 11462,
     "status": "ok",
     "timestamp": 1679980970381,
     "user": {
      "displayName": "Matteo Riotto",
      "userId": "15211004813978485634"
     },
     "user_tz": 420
    },
    "id": "9ITkAwisuxlU",
    "outputId": "1a4b572b-cf74-4247-c252-a8aaddb288c4"
   },
   "outputs": [
    {
     "name": "stdout",
     "output_type": "stream",
     "text": [
      "10\n",
      "9\n",
      "8\n",
      "7\n",
      "6\n",
      "Place your reservation soon! 5 minutes remaining.\n",
      "4\n",
      "3\n",
      "Don't lose your seats! 2 minutes remaining.\n",
      "1\n",
      "User timed out.\n"
     ]
    }
   ],
   "source": [
    "from time import sleep\n",
    "\n",
    "### YOUR CODE HERE ###\n",
    "mins = 10\n",
    "\n",
    "while mins >= 0:\n",
    "    sleep(1)\n",
    "    if mins == 5:\n",
    "        print('Place your reservation soon! 5 minutes remaining.')\n",
    "        mins -=1\n",
    "    elif mins == 2:\n",
    "        print('Don\\'t lose your seats! 2 minutes remaining.')\n",
    "        mins -=1\n",
    "    elif mins == 0:\n",
    "        print('User timed out.')\n",
    "        mins -=1\n",
    "    else:\n",
    "        print(mins)\n",
    "        mins -=1"
   ]
  },
  {
   "cell_type": "markdown",
   "metadata": {
    "id": "Faxm3SvNffcq"
   },
   "source": [
    "<details><summary><h4><strong>Hint 1</strong></h4></summary>\n",
    "\n",
    "*  There are four possible print statements to consider for each minute. Consider an if, elif, elif, else branching scheme.\n",
    "\n",
    "*  Test for the special cases first (`mins == 5`, `mins == 2`, `mins == 0`).\n",
    "\n",
    "</details>"
   ]
  },
  {
   "cell_type": "markdown",
   "metadata": {
    "id": "jL3E4vvFj0z5"
   },
   "source": [
    "<details><summary><h4><strong>Hint 2</strong></h4></summary>\n",
    "\n",
    "*  If your code is stuck in an infinite loop, check to make sure that you're decrementing the `mins` variable by one each time a condition that causes a print statement is satisfied.\n",
    "\n",
    "*  If you're having trouble with the `sleep()` function, try writing the code without it. If you can get the code to work without it, experiment with adding the `sleep()` function in different places to see how it affects the code's execution.\n",
    "\n",
    "</details>"
   ]
  },
  {
   "cell_type": "markdown",
   "metadata": {
    "id": "xjT5AY8ymFv1"
   },
   "source": [
    "<details><summary><h4><strong>Hint 3</strong></h4></summary>\n",
    "\n",
    "One approach is to set a `while` loop to execute when `mins >= 0`. For each iteration:\n",
    "* Run `sleep(1)`\n",
    "* Check if `mins == 5`. If it does, print the designated message, then decrement `mins` by one.\n",
    "* Check if `mins == 2`. If it does, print the designated message, then decrement `mins` by one.\n",
    "* Check if `mins == 0`. If it does, print the designated message, then decrement `mins` by one.\n",
    "* If none of the above conditions are met, print `mins` and decrement its value by one.\n",
    "\n",
    "</details>"
   ]
  },
  {
   "cell_type": "markdown",
   "metadata": {
    "id": "6QUnKJF9wv32"
   },
   "source": [
    "## Conclusion\n",
    "\n",
    "**What are your key takeaways from this lab?**"
   ]
  },
  {
   "cell_type": "markdown",
   "metadata": {
    "id": "bEQJSXfiw0xX"
   },
   "source": [
    "* Iterative statements play a major role in automating processes that need to be repeated.\n",
    "* `while` loops allow you to repeat a process until a specific condition is no longer true.\n",
    "* Comparison operators can be used to check one value against another.\n",
    "* Variables can be set as counters and incremented by different amounts to help control your `while` loop.\n"
   ]
  }
 ],
 "metadata": {
  "colab": {
   "provenance": [],
   "toc_visible": true
  },
  "kernelspec": {
   "display_name": "Python 3",
   "language": "python",
   "name": "python3"
  },
  "language_info": {
   "codemirror_mode": {
    "name": "ipython",
    "version": 3
   },
   "file_extension": ".py",
   "mimetype": "text/x-python",
   "name": "python",
   "nbconvert_exporter": "python",
   "pygments_lexer": "ipython3",
   "version": "3.7.6"
  }
 },
 "nbformat": 4,
 "nbformat_minor": 1
}
