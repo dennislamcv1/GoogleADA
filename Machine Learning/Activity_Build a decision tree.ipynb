{
 "cells": [
  {
   "cell_type": "markdown",
   "metadata": {
    "id": "700acefd-8120-42a9-a650-c610467e2a4c"
   },
   "source": [
    "# Activity: Build a decision tree\n",
    "\n",
    "## Introduction\n",
    "\n",
    "A decision tree model can makes predictions for a target based on multiple features. Because decision trees are used across a wide array of industries, becoming proficient in the process of building one will help you expand your skill set in a widely-applicable way.   \n",
    "\n",
    "For this activity, you work as a consultant for an airline. The airline is interested in predicting whether a future customer would be satisfied with their services given customer feedback given previous customer feedback about their flight experience. The airline would like you to construct and evaluate a model that can accomplish this goal. Specifically, they are interested in knowing which features are most important to customer satisfaction.\n",
    "\n",
    "The data for this activity includes survey responses from 129,880 customers. It includes data points such as class, flight distance, and in-flight entertainment, among others. In a previous activity, you utilized a binomial logistic regression model to help the airline better understand this data. In this activity, your goal will be to utilize a decision tree model to predict whether or not a customer will be satisfied with their flight experience. \n",
    "\n",
    "Because this activity uses a dataset from the industry, you will need to conduct basic EDA, data cleaning, and other manipulations to prepare the data for modeling.\n",
    "\n",
    "In this activity, you’ll practice the following skills:\n",
    "\n",
    "* Importing packages and loading data\n",
    "* Exploring the data and completing the cleaning process\n",
    "* Building a decision tree model \n",
    "* Tuning hyperparameters using `GridSearchCV`\n",
    "* Evaluating a decision tree model using a confusion matrix and various other plots"
   ]
  },
  {
   "cell_type": "markdown",
   "metadata": {
    "id": "b42252b9-b980-4ee0-8cfd-82f4239b6d1a"
   },
   "source": [
    "## Step 1: Imports\n",
    "\n",
    "Import relevant Python packages. Use `DecisionTreeClassifier`,` plot_tree`, and various imports from `sklearn.metrics` to build, visualize, and evaluate the model."
   ]
  },
  {
   "cell_type": "markdown",
   "metadata": {
    "id": "d871f2b3"
   },
   "source": [
    "### Import packages"
   ]
  },
  {
   "cell_type": "code",
   "execution_count": null,
   "metadata": {
    "id": "aacf7b0d-d652-46c4-a9fc-f1ff377bdd0c"
   },
   "outputs": [],
   "source": [
    "### YOUR CODE HERE ###\n",
    "\n",
    "# Standard operational package imports\n",
    "# Important imports for modeling and evaluation\n",
    "# Visualization package imports"
   ]
  },
  {
   "cell_type": "markdown",
   "metadata": {
    "id": "6b7f8803-44ee-47cf-b97a-efaf5c0fdd59",
    "tags": []
   },
   "source": [
    "### Load the dataset"
   ]
  },
  {
   "cell_type": "markdown",
   "metadata": {
    "id": "a60990fd-4723-4a2b-a0db-9dfa6c7c881c"
   },
   "source": [
    "Load the **Invistico_Airline.csv** dataset. Save the resulting pandas DataFrame in a variable named `df_original`. "
   ]
  },
  {
   "cell_type": "code",
   "execution_count": null,
   "metadata": {
    "id": "80535d2f-8b1a-4715-b07a-f3734d8cc4c5"
   },
   "outputs": [],
   "source": [
    "### YOUR CODE HERE ###"
   ]
  },
  {
   "cell_type": "markdown",
   "metadata": {
    "id": "7bc1c9bb"
   },
   "source": [
    "<details>\n",
    "  <summary><h4><strong>Hint 1</strong></h4></summary>\n",
    "\n",
    "Use a function from the pandas library to read in the csv file.\n",
    "    \n",
    "</details>"
   ]
  },
  {
   "cell_type": "markdown",
   "metadata": {
    "id": "d8807846"
   },
   "source": [
    "<details>\n",
    "  <summary><h4><strong>Hint 2</strong></h4></summary>\n",
    "\n",
    "Use the `read_csv` function and pass in the file name as a string. \n",
    "\n",
    "</details>"
   ]
  },
  {
   "cell_type": "markdown",
   "metadata": {
    "id": "6035eeb5"
   },
   "source": [
    "<details>\n",
    "  <summary><h4><strong>Hint 3</strong></h4></summary>\n",
    "\n",
    "Use `pd.read_csv(\"insertfilenamehere\")`.\n",
    "\n",
    "</details>"
   ]
  },
  {
   "cell_type": "markdown",
   "metadata": {
    "id": "46448192-f2f8-4f78-9f76-6e4bb699da7b"
   },
   "source": [
    "### Output the first 10 rows of data"
   ]
  },
  {
   "cell_type": "code",
   "execution_count": null,
   "metadata": {
    "id": "U8JZjN-zJwx6"
   },
   "outputs": [],
   "source": [
    "### YOUR CODE HERE ###"
   ]
  },
  {
   "cell_type": "markdown",
   "metadata": {
    "id": "tooWlpMBHqoi"
   },
   "source": [
    "<details>\n",
    "  <summary><h4><strong>Hint 1</strong></h4></summary>\n",
    "\n",
    "Use the `head()` function.\n",
    "\n",
    "</details>"
   ]
  },
  {
   "cell_type": "markdown",
   "metadata": {
    "id": "l8_h8SKmX8yu"
   },
   "source": [
    "<details>\n",
    "  <summary><h4><strong>Hint 2</strong></h4></summary>\n",
    "\n",
    "If only five rows are output, it is because the function by default returns five rows. To change this, specify how many rows `(n = )` you want to output.\n",
    "\n",
    "</details>"
   ]
  },
  {
   "cell_type": "markdown",
   "metadata": {
    "id": "ec269f85-6622-4f82-bdcd-1874224a4052",
    "tags": []
   },
   "source": [
    "## Step 2: Data exploration, data cleaning, and model preparation\n",
    "\n",
    "### Prepare the data\n",
    "\n",
    "After loading the dataset, prepare the data to be suitable for decision tree classifiers. This includes: \n",
    "\n",
    "*   Exploring the data\n",
    "*   Checking for missing values\n",
    "*   Encoding the data\n",
    "*   Renaming a column\n",
    "*   Creating the training and testing data"
   ]
  },
  {
   "cell_type": "markdown",
   "metadata": {
    "id": "d7ccd368"
   },
   "source": [
    "### Explore the data\n",
    "\n",
    "Check the data type of each column. Note that decision trees expect numeric data. "
   ]
  },
  {
   "cell_type": "code",
   "execution_count": null,
   "metadata": {
    "id": "c84ecc35"
   },
   "outputs": [],
   "source": [
    "### YOUR CODE HERE ###"
   ]
  },
  {
   "cell_type": "markdown",
   "metadata": {
    "id": "338fa42f"
   },
   "source": [
    "<details>\n",
    "  <summary><h4><strong>Hint 1</strong></h4></summary>\n",
    "\n",
    "Use the `dtypes` attribute on the DataFrame.\n",
    "</details>"
   ]
  },
  {
   "cell_type": "markdown",
   "metadata": {
    "id": "768367ea"
   },
   "source": [
    "### Output unique values \n",
    "\n",
    "The `Class` column is ordinal (meaning there is an inherent order that is significant). For example, airlines typically charge more for 'Business' than 'Eco Plus' and 'Eco'. Output the unique values in the `Class` column. "
   ]
  },
  {
   "cell_type": "code",
   "execution_count": null,
   "metadata": {
    "id": "52205295"
   },
   "outputs": [],
   "source": [
    "### YOUR CODE HERE ###"
   ]
  },
  {
   "cell_type": "markdown",
   "metadata": {
    "id": "40a58c8b"
   },
   "source": [
    "<details>\n",
    "  <summary><h4><strong> Hint 1 </strong></h4></summary>\n",
    "\n",
    "Use the `unique()` function on the column `'Class'`.\n",
    "\n",
    "</details>"
   ]
  },
  {
   "cell_type": "markdown",
   "metadata": {
    "id": "381c04eb"
   },
   "source": [
    "### Check the counts of the predicted labels\n",
    "\n",
    "In order to predict customer satisfaction, verify if the dataset is imbalanced. To do this, check the counts of each of the predicted labels. "
   ]
  },
  {
   "cell_type": "code",
   "execution_count": null,
   "metadata": {
    "id": "8098d8a3"
   },
   "outputs": [],
   "source": [
    "### YOUR CODE HERE ###"
   ]
  },
  {
   "cell_type": "markdown",
   "metadata": {
    "id": "9221f9a4"
   },
   "source": [
    "<details>\n",
    "  <summary><h4><strong> Hint 1</strong> </h4></summary>\n",
    "\n",
    "Use a function from the pandas library that returns a pandas series containing counts of unique values. \n",
    "\n",
    "</details>"
   ]
  },
  {
   "cell_type": "markdown",
   "metadata": {
    "id": "62d8c90f"
   },
   "source": [
    "<details>\n",
    "  <summary><h4><strong> Hint 2</strong> </h4></summary>\n",
    "\n",
    "Use the `value_counts()` function. Set the `dropna` parameter passed in to this function to `False` if you want to examine how many NaN values there are. \n",
    "\n",
    "</details>"
   ]
  },
  {
   "cell_type": "markdown",
   "metadata": {
    "id": "868c4ea3"
   },
   "source": [
    "**Question:** How many satisfied and dissatisfied customers were there?"
   ]
  },
  {
   "cell_type": "markdown",
   "metadata": {
    "id": "M8nBc7uC6Gkw"
   },
   "source": [
    "[Write your response here. Double-click (or enter) to edit.]"
   ]
  },
  {
   "cell_type": "markdown",
   "metadata": {
    "id": "b6bd7c91"
   },
   "source": [
    "**Question:** What percentage of customers were satisfied? "
   ]
  },
  {
   "cell_type": "markdown",
   "metadata": {
    "id": "pgSK9GlM6J15"
   },
   "source": [
    "[Write your response here. Double-click (or enter) to edit.]"
   ]
  },
  {
   "cell_type": "markdown",
   "metadata": {
    "id": "4222ca54"
   },
   "source": [
    "### Check for missing values"
   ]
  },
  {
   "cell_type": "markdown",
   "metadata": {
    "id": "TgANHJBVxpbI"
   },
   "source": [
    "The sklearn decision tree implementation does not support missing values. Check for missing values in the rows of the data. "
   ]
  },
  {
   "cell_type": "code",
   "execution_count": null,
   "metadata": {
    "id": "842031fb"
   },
   "outputs": [],
   "source": [
    "### YOUR CODE HERE ###"
   ]
  },
  {
   "cell_type": "markdown",
   "metadata": {
    "id": "ptn9xlIjJOAL"
   },
   "source": [
    "<details>\n",
    "  <summary><h4><strong>Hint 1</h4></summary></strong>\n",
    "\n",
    "Use the `isnull` function and the `sum` function. \n",
    "\n",
    "</details>"
   ]
  },
  {
   "cell_type": "markdown",
   "metadata": {
    "id": "307f50c5"
   },
   "source": [
    "<details>\n",
    "  <summary><h4><strong> Hint 2 </strong> </h4></summary>\n",
    "\n",
    "To get the number of rows in the data with missing values, use the `isnull` function followed by the `sum` function.\n",
    "\n",
    "</details>"
   ]
  },
  {
   "cell_type": "markdown",
   "metadata": {
    "id": "5c11852b"
   },
   "source": [
    "**Question:** Why is it important to check how many rows and columns there are in the dataset?"
   ]
  },
  {
   "cell_type": "markdown",
   "metadata": {},
   "source": [
    "[Write your response here. Double-click (or enter) to edit.]"
   ]
  },
  {
   "cell_type": "markdown",
   "metadata": {},
   "source": [
    "### Check the number of rows and columns in the dataset"
   ]
  },
  {
   "cell_type": "code",
   "execution_count": null,
   "metadata": {
    "id": "a5e89463"
   },
   "outputs": [],
   "source": [
    "### YOUR CODE HERE ###"
   ]
  },
  {
   "cell_type": "markdown",
   "metadata": {
    "id": "10900f58"
   },
   "source": [
    "<details>\n",
    "  <summary><h4><strong> Hint 1 </strong> </h4></summary>\n",
    "\n",
    "Use the `shape` attribute on the DataFrame.\n",
    "\n",
    "</details>"
   ]
  },
  {
   "cell_type": "markdown",
   "metadata": {
    "id": "eb005a73-4621-45b9-8114-30472ce20327"
   },
   "source": [
    "### Drop the rows with missing values\n",
    "\n",
    "Drop the rows with missing values and save the resulting pandas DataFrame in a variable named `df_subset`."
   ]
  },
  {
   "cell_type": "code",
   "execution_count": null,
   "metadata": {
    "id": "1cee438e-8b1f-4855-855e-3723d1958b69"
   },
   "outputs": [],
   "source": [
    "### YOUR CODE HERE ###"
   ]
  },
  {
   "cell_type": "markdown",
   "metadata": {
    "id": "dec2a35e-ba31-4ec8-b8fc-1c0bdf075d19",
    "tags": []
   },
   "source": [
    "<details>\n",
    "  <summary><h4><strong> Hint 1 </strong> </h4></summary>\n",
    "\n",
    "Use the `dropna` function.\n",
    "\n",
    "</details>"
   ]
  },
  {
   "cell_type": "markdown",
   "metadata": {
    "id": "374b2b21"
   },
   "source": [
    "<details>\n",
    "  <summary><h4><strong>Hint 2</strong></h4></summary>\n",
    "\n",
    "Set the axis parameter passed into the `dropna` function to `0` if you want to drop rows containing missing values, or `1` if you want to drop columns containing missing values. Optionally, use reset_index to avoid a SettingWithCopy warning later in the notebook. \n",
    "\n",
    "</details>"
   ]
  },
  {
   "cell_type": "markdown",
   "metadata": {
    "id": "ymfmX-WvW31z"
   },
   "source": [
    "### Check for missing values\n",
    "\n",
    "Check that `df_subset` does not contain any missing values."
   ]
  },
  {
   "cell_type": "code",
   "execution_count": null,
   "metadata": {
    "id": "n36d4yztW4BA"
   },
   "outputs": [],
   "source": [
    "### YOUR CODE HERE ###"
   ]
  },
  {
   "cell_type": "markdown",
   "metadata": {
    "id": "8ed62a28"
   },
   "source": [
    "<details>\n",
    "  <summary><h4><strong> Hint 1</strong></h4></summary>\n",
    "\n",
    "Use the `isna()`function and the `sum()` function. \n",
    "\n",
    "</details>"
   ]
  },
  {
   "cell_type": "markdown",
   "metadata": {
    "id": "d5a45cd9"
   },
   "source": [
    "<details>\n",
    "  <summary><h4><strong> Hint 2</strong> </h4></summary>\n",
    "\n",
    "To get the number of rows in the data with missing values, use the `isna()` function followed by the `sum()` function.\n",
    "\n",
    "</details>"
   ]
  },
  {
   "cell_type": "markdown",
   "metadata": {
    "id": "18c6650e"
   },
   "source": [
    "### Check the number of rows and columns in the dataset again\n",
    "\n",
    "Check how many rows and columns are remaining in the dataset. You should now have 393 fewer rows of data."
   ]
  },
  {
   "cell_type": "code",
   "execution_count": null,
   "metadata": {
    "id": "fa951c92"
   },
   "outputs": [],
   "source": [
    "### YOUR CODE HERE ###"
   ]
  },
  {
   "cell_type": "markdown",
   "metadata": {
    "id": "d491a508"
   },
   "source": [
    "### Encode the data\n",
    "\n",
    "Four columns (`satisfaction`, `Customer Type`, `Type of Travel`, `Class`) are the pandas dtype object. Decision trees need numeric columns. Start by converting the ordinal `Class` column into numeric. "
   ]
  },
  {
   "cell_type": "code",
   "execution_count": null,
   "metadata": {
    "id": "4d580627"
   },
   "outputs": [],
   "source": [
    "### YOUR CODE HERE ###"
   ]
  },
  {
   "cell_type": "markdown",
   "metadata": {
    "id": "d07b3ae9"
   },
   "source": [
    "<details>\n",
    "  <summary><h4><strong> Hint 1 </strong> </h4></summary>\n",
    "\n",
    "Use the `map()` or `replace()` function. \n",
    "\n",
    "</details>"
   ]
  },
  {
   "cell_type": "markdown",
   "metadata": {
    "id": "fa6d2042"
   },
   "source": [
    "<details>\n",
    "  <summary><h4><strong>Hint 2</strong></h4></summary>\n",
    "\n",
    "For both functions, you will need to pass in a dictionary of class mappings `{\"Business\": 3, \"Eco Plus\": 2, \"Eco\": 1})`.\n",
    "\n",
    "</details>"
   ]
  },
  {
   "cell_type": "markdown",
   "metadata": {
    "id": "LOy2vjgVyMw-"
   },
   "source": [
    "### Represent the data in the target variable numerically\n",
    "\n",
    "To represent the data in the target variable numerically, assign `\"satisfied\"` to the label `1` and `\"unsatisfied\"` to the label `0` in the `satisfaction` column. "
   ]
  },
  {
   "cell_type": "code",
   "execution_count": null,
   "metadata": {
    "id": "q1o64I02zay7"
   },
   "outputs": [],
   "source": [
    "### YOUR CODE HERE ###\n"
   ]
  },
  {
   "cell_type": "markdown",
   "metadata": {
    "id": "gPed8NIG1DYR"
   },
   "source": [
    "<details>\n",
    "  <summary><h4><strong> Hint 1 </strong> </h4></summary>\n",
    "\n",
    "Use the `map()` function to assign existing values in a column to new values.\n",
    "\n",
    "</details>"
   ]
  },
  {
   "cell_type": "markdown",
   "metadata": {
    "id": "5m6ZF0yp1DYT"
   },
   "source": [
    "<details>\n",
    "  <summary><h4><strong> Hint 2 </strong></h4></summary>\n",
    "\n",
    "Call `map()` on the `satisfaction` column and pass in a dictionary specifying that `\"satisfied\"` should be assigned to `1` and `\"unsatisfied\"` should be assigned to `0`.\n",
    "\n",
    "</details>"
   ]
  },
  {
   "cell_type": "markdown",
   "metadata": {
    "id": "s_Jf_sDy2Mmp"
   },
   "source": [
    "<details>\n",
    "  <summary><h4><strong> Hint 3 </strong></h4></summary>\n",
    "\n",
    "Update the `satisfaction` column in `df_subset` with the newly assigned values.\n",
    "\n",
    "</details>"
   ]
  },
  {
   "cell_type": "markdown",
   "metadata": {
    "id": "WzdzBLmB2j-e"
   },
   "source": [
    "### Convert categorical columns into numeric\n",
    "\n",
    "There are other columns in the dataset that are still categorical. Be sure to convert categorical columns in the dataset into numeric."
   ]
  },
  {
   "cell_type": "code",
   "execution_count": null,
   "metadata": {
    "id": "pKog_5f22j-g"
   },
   "outputs": [],
   "source": [
    "### YOUR CODE HERE ###\n",
    "\n"
   ]
  },
  {
   "cell_type": "markdown",
   "metadata": {
    "id": "pPiAhRMq2j-i"
   },
   "source": [
    "<details>\n",
    "  <summary><h4><strong> Hint 1 </strong> </h4></summary>\n",
    "\n",
    "Use the `get_dummies()` function. \n",
    "\n",
    "</details>"
   ]
  },
  {
   "cell_type": "markdown",
   "metadata": {
    "id": "F4ybCX5t2j-j"
   },
   "source": [
    "<details>\n",
    "  <summary><h4><strong> Hint 2 </strong></h4></summary>\n",
    "\n",
    "Set the `drop_first` parameter to `True`. This removes redundant data.\n",
    "\n",
    "</details>"
   ]
  },
  {
   "cell_type": "markdown",
   "metadata": {
    "id": "06bbe8dd"
   },
   "source": [
    "### Check column data types\n",
    "\n",
    "Now that you have converted categorical columns into numeric, check your column data types."
   ]
  },
  {
   "cell_type": "code",
   "execution_count": null,
   "metadata": {
    "id": "d39eecf9",
    "scrolled": true
   },
   "outputs": [],
   "source": [
    "### YOUR CODE HERE ###"
   ]
  },
  {
   "cell_type": "markdown",
   "metadata": {
    "id": "67c44d42"
   },
   "source": [
    "<details>\n",
    "  <summary><h4><strong> Hint 1</strong></h4></summary>\n",
    "\n",
    "Use the `dtypes` attribute on the DataFrame.\n",
    "\n",
    "</details>"
   ]
  },
  {
   "cell_type": "markdown",
   "metadata": {
    "id": "0aaf5733"
   },
   "source": [
    "### Create the training and testing data\n",
    "\n",
    "Put 75% of the data into a training set and the remaining 25% into a testing set. "
   ]
  },
  {
   "cell_type": "code",
   "execution_count": null,
   "metadata": {
    "id": "77bffb4e"
   },
   "outputs": [],
   "source": [
    "### YOUR CODE HERE ###"
   ]
  },
  {
   "cell_type": "markdown",
   "metadata": {
    "id": "acae11f0"
   },
   "source": [
    "<details>\n",
    "  <summary><h4><strong> Hint 1</strong></h4></summary>\n",
    "\n",
    "Use `train_test_split`.\n",
    "\n",
    "</details>"
   ]
  },
  {
   "cell_type": "markdown",
   "metadata": {
    "id": "TVTdzUmKfY3g"
   },
   "source": [
    "<details>\n",
    "  <summary><h4><strong> Hint 2</strong></h4></summary>\n",
    "\n",
    "Pass in `0` to `random_state`.\n",
    "\n",
    "</details>"
   ]
  },
  {
   "cell_type": "markdown",
   "metadata": {
    "id": "101f3580"
   },
   "source": [
    "<details>\n",
    "  <summary><h4><strong>Hint 3</strong></h4></summary>\n",
    "\n",
    "If you named your features matrix X and your target y, then it would be `train_test_split(X, y, test_size=0.25, random_state=0)`.\n",
    "\n",
    "</details>"
   ]
  },
  {
   "cell_type": "markdown",
   "metadata": {
    "id": "58bb9bf2"
   },
   "source": [
    "## Step 3: Model building"
   ]
  },
  {
   "cell_type": "markdown",
   "metadata": {
    "id": "a81f66ae"
   },
   "source": [
    "### Fit a decision tree classifier model to the data\n",
    "\n",
    "Make a decision tree instance called `decision_tree` and pass in `0` to the `random_state` parameter. This is only so that if other data professionals run this code, they get the same results. Fit the model on the training set, use the `predict()` function on the testing set, and assign those predictions to the variable `dt_pred`. "
   ]
  },
  {
   "cell_type": "code",
   "execution_count": null,
   "metadata": {
    "id": "5a4211cb"
   },
   "outputs": [],
   "source": [
    "### YOUR CODE HERE ###"
   ]
  },
  {
   "cell_type": "markdown",
   "metadata": {
    "id": "ad9dac6b"
   },
   "source": [
    "<details>\n",
    "  <summary><h4><strong> Hint 1</strong></h4></summary>\n",
    "\n",
    "Use `DecisionTreeClassifier`, the `fit()` function, and the `predict()` function.\n",
    "\n",
    "</details>"
   ]
  },
  {
   "cell_type": "markdown",
   "metadata": {
    "id": "dac3da82"
   },
   "source": [
    "**Question:** What are some advantages of using decision trees versus other models you have learned about? "
   ]
  },
  {
   "cell_type": "markdown",
   "metadata": {
    "id": "RaOxZ4_66j4D"
   },
   "source": [
    "[Write your response here. Double-click (or enter) to edit.]"
   ]
  },
  {
   "cell_type": "markdown",
   "metadata": {
    "id": "d638b5bb"
   },
   "source": [
    "## Step 4: Results and evaluation\n",
    "\n",
    "Print out the decision tree model's accuracy, precision, recall, and F1 score."
   ]
  },
  {
   "cell_type": "code",
   "execution_count": null,
   "metadata": {
    "id": "6de9be28"
   },
   "outputs": [],
   "source": [
    "### YOUR CODE HERE ###"
   ]
  },
  {
   "cell_type": "markdown",
   "metadata": {
    "id": "3c6c01ff"
   },
   "source": [
    "<details>\n",
    "  <summary><h4><strong> Hint 1</strong></h4></summary>\n",
    "\n",
    "Use four different functions from `metrics` to get the accuracy, precision, recall, and F1 score.\n",
    "    \n",
    "</details>"
   ]
  },
  {
   "cell_type": "markdown",
   "metadata": {
    "id": "72550972"
   },
   "source": [
    "<details>\n",
    "  <summary><h4><strong>Hint 2</strong></h4></summary>\n",
    "\n",
    "Input `y_test` and `y_pred` into the `metrics.accuracy_score`, `metrics.precision_score`, `metrics.recall_score` and `metrics.f1_score` functions.\n",
    "    \n",
    "</details> "
   ]
  },
  {
   "cell_type": "markdown",
   "metadata": {
    "id": "14c49f02"
   },
   "source": [
    "**Question:** Are there any additional steps you could take to improve the performance or function of your decision tree?"
   ]
  },
  {
   "cell_type": "markdown",
   "metadata": {
    "id": "YTIryEN26nqo"
   },
   "source": [
    "[Write your response here. Double-click (or enter) to edit.]"
   ]
  },
  {
   "cell_type": "markdown",
   "metadata": {
    "id": "2d63fb90"
   },
   "source": [
    "### Produce a confusion matrix"
   ]
  },
  {
   "cell_type": "markdown",
   "metadata": {
    "id": "0524c798"
   },
   "source": [
    "Data professionals often like to know the types of errors made by an algorithm. To obtain this information, produce a confusion matrix."
   ]
  },
  {
   "cell_type": "code",
   "execution_count": null,
   "metadata": {
    "id": "df15d57b"
   },
   "outputs": [],
   "source": [
    "### YOUR CODE HERE ###"
   ]
  },
  {
   "cell_type": "markdown",
   "metadata": {
    "id": "13e29875"
   },
   "source": [
    "<details>\n",
    "  <summary><h4><strong>Hint 1</strong></h4></summary>\n",
    "\n",
    "Refer to [the content about plotting a confusion matrix](https://www.coursera.org/learn/regression-analysis-simplify-complex-data-relationships/lecture/SpRqe/evaluate-a-binomial-logistic-regression-model).\n",
    "\n",
    "</details>"
   ]
  },
  {
   "cell_type": "markdown",
   "metadata": {
    "id": "4fdef8f5"
   },
   "source": [
    "<details>\n",
    "  <summary><h4><strong>Hint 2</strong></h4></summary>\n",
    "\n",
    "Use `metrics.confusion_matrix`, `metrics.ConfusionMatrixDisplay`, and the `plot()` function.\n",
    "\n",
    "</details>"
   ]
  },
  {
   "cell_type": "markdown",
   "metadata": {
    "id": "90154f0f"
   },
   "source": [
    "**Question:** What patterns can you identify between true positives and true negatives, as well as false positives and false negatives?"
   ]
  },
  {
   "cell_type": "markdown",
   "metadata": {
    "id": "2NVELuWM6sPT"
   },
   "source": [
    "[Write your response here. Double-click (or enter) to edit.]"
   ]
  },
  {
   "cell_type": "markdown",
   "metadata": {
    "id": "3e2c1c7d"
   },
   "source": [
    "### Plot the decision tree\n",
    "\n",
    "Examine the decision tree. Use `plot_tree` function to produce a visual representation of the tree to pinpoint where the splits in the data are occurring."
   ]
  },
  {
   "cell_type": "code",
   "execution_count": null,
   "metadata": {
    "id": "9ef5e9c3"
   },
   "outputs": [],
   "source": [
    "### YOUR CODE HERE ###"
   ]
  },
  {
   "cell_type": "markdown",
   "metadata": {
    "id": "2cfefc38"
   },
   "source": [
    "<details>\n",
    "  <summary><h4><strong>Hint 1</strong></h4></summary>\n",
    "\n",
    "If your tree is hard to read, pass `2` or `3` in the parameter `max_depth`. \n",
    "\n",
    "</details>"
   ]
  },
  {
   "cell_type": "markdown",
   "metadata": {
    "id": "5eqcSxJojW4r"
   },
   "source": [
    "### Build a feature importance graph\n",
    "\n",
    "Uncover which features might be most important to your decision tree model by building a feature importance graph. "
   ]
  },
  {
   "cell_type": "code",
   "execution_count": null,
   "metadata": {
    "id": "a194241a"
   },
   "outputs": [],
   "source": [
    "### YOUR CODE HERE ###"
   ]
  },
  {
   "cell_type": "markdown",
   "metadata": {
    "id": "b1def607"
   },
   "source": [
    "**Question:** Based on the feature importance graph, which features are the most important for this model?"
   ]
  },
  {
   "cell_type": "markdown",
   "metadata": {
    "id": "QQF4ByIw60iZ"
   },
   "source": [
    "[Write your response here. Double-click (or enter) to edit.]"
   ]
  },
  {
   "cell_type": "markdown",
   "metadata": {
    "id": "9a84e65a"
   },
   "source": [
    "### Hyperparameter tuning\n",
    "\n",
    "Knowing how and when to adjust or tune a model can help a data professional significantly increase performance. In this section, you will find the best values for the hyperparameters `max_depth` and `min_samples_leaf` using grid search and cross validation. Below are some values for the hyperparameters `max_depth` and `min_samples_leaf`.   "
   ]
  },
  {
   "cell_type": "code",
   "execution_count": null,
   "metadata": {
    "id": "7b47fcab"
   },
   "outputs": [],
   "source": [
    "tree_para = {'max_depth':[1,2,3,4,5,6,7,8,9,10,11,12,13,14,15,16,17,18,19,20,30,40,50],\n",
    "             'min_samples_leaf': [2,3,4,5,6,7,8,9, 10, 15, 20, 50]}\n",
    "\n",
    "scoring = {'accuracy', 'precision', 'recall', 'f1'}"
   ]
  },
  {
   "cell_type": "markdown",
   "metadata": {
    "id": "22672b1f"
   },
   "source": [
    "### Check combinations of values\n",
    "\n",
    "Check every combination of values to examine which pair has the best evaluation metrics. Make a decision tree instance called `tuned_decision_tree` with `random_state=0`, make a `GridSearchCV` instance called `clf`, make sure to refit the estimator using `\"f1\"`, and fit the model on the training set. \n",
    "\n",
    "**Note:** This cell may take up to 15 minutes to run."
   ]
  },
  {
   "cell_type": "code",
   "execution_count": null,
   "metadata": {
    "id": "ca41e241"
   },
   "outputs": [],
   "source": [
    "### YOUR CODE HERE ###"
   ]
  },
  {
   "cell_type": "markdown",
   "metadata": {
    "id": "ab2eca46"
   },
   "source": [
    "<details>\n",
    "  <summary><h4><strong>Hint 1</strong></h4></summary>\n",
    "\n",
    "Refer to [the content about decision trees and grid search](https://www.coursera.org/learn/the-nuts-and-bolts-of-machine-learning/lecture/afopk/tune-a-decision-tree). \n",
    "\n",
    "</details>"
   ]
  },
  {
   "cell_type": "markdown",
   "metadata": {
    "id": "6122d0d0"
   },
   "source": [
    "<details>\n",
    "  <summary><h4><strong> Hint 2</strong></h4></summary>\n",
    "\n",
    "Use `DecisionTreeClassifier()`, `GridSearchCV()`, and the `clf.fit()` function.\n",
    "\n",
    "</details>"
   ]
  },
  {
   "cell_type": "markdown",
   "metadata": {
    "id": "59b8a1db"
   },
   "source": [
    "**Question:** How can you determine the best combination of values for the hyperparameters? "
   ]
  },
  {
   "cell_type": "markdown",
   "metadata": {},
   "source": [
    "[Write your response here. Double-click (or enter) to edit.]"
   ]
  },
  {
   "cell_type": "markdown",
   "metadata": {},
   "source": [
    "### Compute the best combination of values for the hyperparameters"
   ]
  },
  {
   "cell_type": "code",
   "execution_count": null,
   "metadata": {
    "id": "213279f3",
    "scrolled": true
   },
   "outputs": [],
   "source": [
    "### YOUR CODE HERE ###"
   ]
  },
  {
   "cell_type": "markdown",
   "metadata": {
    "id": "2519f981"
   },
   "source": [
    "<details>\n",
    "  <summary><h4><strong> Hint 1</strong></h4></summary>\n",
    "\n",
    "Use the `best_estimator_` attribute.\n",
    "\n",
    "</details>"
   ]
  },
  {
   "cell_type": "markdown",
   "metadata": {},
   "source": [
    "**Question:** What is the best combination of values for the hyperparameters? "
   ]
  },
  {
   "cell_type": "markdown",
   "metadata": {},
   "source": [
    "[Write your response here. Double-click (or enter) to edit.]"
   ]
  },
  {
   "cell_type": "markdown",
   "metadata": {
    "id": "6b001fad"
   },
   "source": [
    "<strong> Question: What was the best average validation score? </strong>"
   ]
  },
  {
   "cell_type": "code",
   "execution_count": null,
   "metadata": {
    "id": "e615523c"
   },
   "outputs": [],
   "source": [
    "### YOUR CODE HERE ###"
   ]
  },
  {
   "cell_type": "markdown",
   "metadata": {
    "id": "kOBEhD6Z65oM"
   },
   "source": [
    "[Write your response here. Double-click (or enter) to edit.]"
   ]
  },
  {
   "cell_type": "markdown",
   "metadata": {
    "id": "19a7569f"
   },
   "source": [
    "<details>\n",
    "  <summary><h4><strong>Hint 1</strong> </h4></summary>\n",
    "\n",
    "Use the `.best_score_` attribute.\n",
    "\n",
    "</details>"
   ]
  },
  {
   "cell_type": "markdown",
   "metadata": {
    "id": "dfad3e62"
   },
   "source": [
    "### Determine the \"best\" decision tree model's accuracy, precision, recall, and F1 score\n",
    "\n",
    "Print out the decision tree model's accuracy, precision, recall, and F1 score. This task can be done in a number of ways. "
   ]
  },
  {
   "cell_type": "code",
   "execution_count": null,
   "metadata": {
    "id": "e8b96047"
   },
   "outputs": [],
   "source": [
    "### YOUR CODE HERE\n",
    "\n",
    "results = pd.DataFrame(columns=[])\n",
    "\n",
    "def make_results(model_name, model_object):\n",
    "\n",
    "    # Get all the results from the CV and put them in a df\n",
    "\n",
    "    # Isolate the row of the df with the max(mean f1 score\n",
    "\n",
    "    # Extract accuracy, precision, recall, and f1 score from that row\n",
    "\n",
    "    # Create table of results"
   ]
  },
  {
   "cell_type": "markdown",
   "metadata": {
    "id": "bb7d7d85"
   },
   "source": [
    "<details>\n",
    "  <summary><h4><strong>Hint 1</strong></h4></summary>\n",
    "\n",
    "Get all the results (`.cv_results_`) from the GridSearchCV instance (`clf`).\n",
    "\n",
    "</details>"
   ]
  },
  {
   "cell_type": "markdown",
   "metadata": {
    "id": "28e0535f"
   },
   "source": [
    "<details>\n",
    "  <summary><h4><strong>Hint 2</strong></h4></summary>\n",
    "\n",
    "Output `mean_test_f1`, `mean_test_recall`, `mean_test_precision`, and `mean_test_accuracy` from `clf.cv_results_`.\n",
    "</details>"
   ]
  },
  {
   "cell_type": "markdown",
   "metadata": {
    "id": "ac4e8ee6"
   },
   "source": [
    "**Question:** Was the additional performance improvement from hyperparameter tuning worth the computational cost? Why or why not?"
   ]
  },
  {
   "cell_type": "markdown",
   "metadata": {
    "id": "DGJjCpVt7T6w"
   },
   "source": [
    "[Write your response here. Double-click (or enter) to edit.]"
   ]
  },
  {
   "cell_type": "markdown",
   "metadata": {
    "id": "46b88d61"
   },
   "source": [
    "### Plot the \"best\" decision tree\n",
    "\n",
    "Use the `plot_tree` function to produce a representation of the tree to pinpoint where the splits in the data are occurring. This will allow you to review the \"best\" decision tree."
   ]
  },
  {
   "cell_type": "code",
   "execution_count": null,
   "metadata": {
    "id": "e5ab9b48"
   },
   "outputs": [],
   "source": [
    "### YOUR CODE HERE ###"
   ]
  },
  {
   "cell_type": "markdown",
   "metadata": {
    "id": "65d32f07"
   },
   "source": [
    "The plot makes it seem like `'Inflight entertainment'`, `'Seat comfort'`, and `'Ease of Online booking'` are among the most important features. The code below outputs a \"most important\" features graph from the model."
   ]
  },
  {
   "cell_type": "markdown",
   "metadata": {
    "id": "7L7ZMmffjw1G"
   },
   "source": [
    "### Build another feature importance graph\n",
    "\n",
    "Just like you did for your first decision tree, build another feature importance graph to validate which features are most important."
   ]
  },
  {
   "cell_type": "code",
   "execution_count": null,
   "metadata": {
    "id": "1d1e1946"
   },
   "outputs": [],
   "source": [
    "importances = clf.best_estimator_.feature_importances_\n",
    "\n",
    "forest_importances = pd.Series(importances, index=X.columns)\n",
    "\n",
    "fig, ax = plt.subplots()\n",
    "forest_importances.plot.bar(ax=ax)"
   ]
  },
  {
   "cell_type": "markdown",
   "metadata": {
    "id": "2bd24ff3"
   },
   "source": [
    "**Question:** Did the feature importance graph confirm your most important features? "
   ]
  },
  {
   "cell_type": "markdown",
   "metadata": {
    "id": "L1tS-NeZ7Zqd"
   },
   "source": [
    "[Write your response here. Double-click (or enter) to edit.]"
   ]
  },
  {
   "cell_type": "markdown",
   "metadata": {
    "id": "2fd8272a"
   },
   "source": [
    "**Question:** What do you think is the most important metric in this business case?"
   ]
  },
  {
   "cell_type": "markdown",
   "metadata": {
    "id": "VIPd2AHb7fOF"
   },
   "source": [
    "[Write your response here. Double-click (or enter) to edit.]"
   ]
  },
  {
   "cell_type": "markdown",
   "metadata": {
    "id": "090f4bd3"
   },
   "source": [
    "## Conclusion\n",
    "\n",
    "**What are some key takeaways that you learned from this lab?**\n",
    "\n",
    "[Write your response here. Double-click (or enter) to edit.]\n",
    "\n",
    "**What findings would you share with others?**\n",
    "\n",
    "[Write your response here. Double-click (or enter) to edit.]\n",
    "\n",
    "**What would you recommend to stakeholders?**\n",
    " \n",
    " [Write your response here. Double-click (or enter) to edit.]"
   ]
  }
 ],
 "metadata": {
  "colab": {
   "collapsed_sections": [],
   "provenance": []
  },
  "gpuClass": "standard",
  "kernelspec": {
   "display_name": "Python 3",
   "language": "python",
   "name": "python3"
  },
  "language_info": {
   "codemirror_mode": {
    "name": "ipython",
    "version": 3
   },
   "file_extension": ".py",
   "mimetype": "text/x-python",
   "name": "python",
   "nbconvert_exporter": "python",
   "pygments_lexer": "ipython3",
   "version": "3.7.6"
  }
 },
 "nbformat": 4,
 "nbformat_minor": 5
}
