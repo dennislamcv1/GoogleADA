{
 "cells": [
  {
   "cell_type": "markdown",
   "metadata": {
    "id": "d25eed62-5910-4d10-a976-c18c4f7d99f7"
   },
   "source": [
    "# Exemplar: Explore confidence intervals"
   ]
  },
  {
   "cell_type": "markdown",
   "metadata": {
    "id": "b50579ec-09df-4bb1-ad5a-d28f4790ca16"
   },
   "source": [
    "## Introduction"
   ]
  },
  {
   "cell_type": "markdown",
   "metadata": {
    "id": "6a8992ac-22d5-41db-aa09-263b464950e0"
   },
   "source": [
    "The Air Quality Index (AQI) is the Environmental Protection Agency's index for reporting air quality. A value close to 0 signals little to no public health concern, while higher values are associated with increased risk to public health. The United States is considering a new federal policy that would create a subsidy for renewable energy in states observing an average AQI of 10 or above.<br>\n",
    "\n",
    "You've just started your new role as a data analyst in the Strategy division of Ripple Renewable Energy (RRE). RRE operates in the following U.S. states: `California`, `Florida`, `Michigan`, `Ohio`, `Pennsylvania`, `Texas`. You've been tasked with constructing an analysis which identifies which of these states are most likely to be affected, should the new federal policy be enacted."
   ]
  },
  {
   "cell_type": "markdown",
   "metadata": {
    "id": "6e4e3b8a-b5f9-4fe1-a824-0bd3aece693c"
   },
   "source": [
    "Your manager has requested that you do the following for your analysis:\n",
    "1. Provide a summary of the mean AQI for the states in which RRE operates.\n",
    "2. Construct a boxplot visualization for AQI of these states using `seaborn`.\n",
    "3. Evaluate which state(s) may be most affected by this policy, based on the data and your boxplot visualization.\n",
    "4. Construct a confidence interval for the RRE state with the highest mean AQI."
   ]
  },
  {
   "cell_type": "markdown",
   "metadata": {
    "id": "3b4dc9a5-d724-4696-a704-57fefa9d5938"
   },
   "source": [
    "## Step 1: Relevant imports\n",
    "\n",
    "### Import packages\n",
    "\n",
    "Import `pandas` and `numpy`."
   ]
  },
  {
   "cell_type": "code",
   "execution_count": 1,
   "metadata": {
    "id": "0b3d0e1c-23b9-4491-82a5-ac1e4bd36f30"
   },
   "outputs": [],
   "source": [
    "# Import relevant packages.\n",
    "\n",
    "### YOUR CODE HERE ###\n",
    "\n",
    "import pandas as pd\n",
    "import numpy as np"
   ]
  },
  {
   "cell_type": "markdown",
   "metadata": {
    "id": "a4f7c0d0-027e-475a-bce5-ad96d059cd04"
   },
   "source": [
    "### Load the dataset\n",
    "\n",
    "The dataset provided gives national Air Quality Index (AQI) measurements by state over time. Use `pandas` to import the file `c4_epa_air_quality.csv` as a DataFrame named `aqi`.\n",
    "\n",
    "*Note: For the purposes of your analysis, you can assume this data is randomly sampled from a larger population.*"
   ]
  },
  {
   "cell_type": "code",
   "execution_count": 2,
   "metadata": {
    "id": "1ce82ed7-cf32-4028-ac77-a377e7638458",
    "tags": []
   },
   "outputs": [],
   "source": [
    "# Use read_csv() to import the data.\n",
    "\n",
    "### YOUR CODE HERE ###\n",
    "\n",
    "aqi = pd.read_csv('c4_epa_air_quality.csv')"
   ]
  },
  {
   "cell_type": "markdown",
   "metadata": {
    "id": "JLW4ftpm15LA"
   },
   "source": [
    "## Step 2: Data exploration"
   ]
  },
  {
   "cell_type": "markdown",
   "metadata": {
    "id": "c1ee0813-5e74-4564-8ea1-8d724700754a"
   },
   "source": [
    "### Explore your dataset\n",
    "\n",
    "Before proceeding to your deliverables, spend some time exploring the `aqi` DataFrame. "
   ]
  },
  {
   "cell_type": "code",
   "execution_count": 3,
   "metadata": {
    "id": "0444122d-6fba-4051-8b09-b15392aacebf"
   },
   "outputs": [
    {
     "name": "stdout",
     "output_type": "stream",
     "text": [
      "Use describe() to summarize AQI\n",
      "        Unnamed: 0  date_local  state_name  county_name      city_name  \\\n",
      "count   260.000000         260         260          260            260   \n",
      "unique         NaN           1          52          149            190   \n",
      "top            NaN  2018-01-01  California  Los Angeles  Not in a city   \n",
      "freq           NaN         260          66           14             21   \n",
      "mean    129.500000         NaN         NaN          NaN            NaN   \n",
      "std      75.199734         NaN         NaN          NaN            NaN   \n",
      "min       0.000000         NaN         NaN          NaN            NaN   \n",
      "25%      64.750000         NaN         NaN          NaN            NaN   \n",
      "50%     129.500000         NaN         NaN          NaN            NaN   \n",
      "75%     194.250000         NaN         NaN          NaN            NaN   \n",
      "max     259.000000         NaN         NaN          NaN            NaN   \n",
      "\n",
      "       local_site_name   parameter_name   units_of_measure  arithmetic_mean  \\\n",
      "count              257              260                260       260.000000   \n",
      "unique             253                1                  1              NaN   \n",
      "top            Kapolei  Carbon monoxide  Parts per million              NaN   \n",
      "freq                 2              260                260              NaN   \n",
      "mean               NaN              NaN                NaN         0.403169   \n",
      "std                NaN              NaN                NaN         0.317902   \n",
      "min                NaN              NaN                NaN         0.000000   \n",
      "25%                NaN              NaN                NaN         0.200000   \n",
      "50%                NaN              NaN                NaN         0.276315   \n",
      "75%                NaN              NaN                NaN         0.516009   \n",
      "max                NaN              NaN                NaN         1.921053   \n",
      "\n",
      "               aqi  \n",
      "count   260.000000  \n",
      "unique         NaN  \n",
      "top            NaN  \n",
      "freq           NaN  \n",
      "mean      6.757692  \n",
      "std       7.061707  \n",
      "min       0.000000  \n",
      "25%       2.000000  \n",
      "50%       5.000000  \n",
      "75%       9.000000  \n",
      "max      50.000000  \n",
      "For a more thorough examination of observations by state use values_counts()\n",
      "California              66\n",
      "Arizona                 14\n",
      "Ohio                    12\n",
      "Florida                 12\n",
      "Texas                   10\n",
      "New York                10\n",
      "Pennsylvania            10\n",
      "Michigan                 9\n",
      "Colorado                 9\n",
      "Minnesota                7\n",
      "New Jersey               6\n",
      "Indiana                  5\n",
      "North Carolina           4\n",
      "Massachusetts            4\n",
      "Maryland                 4\n",
      "Oklahoma                 4\n",
      "Virginia                 4\n",
      "Nevada                   4\n",
      "Connecticut              4\n",
      "Kentucky                 3\n",
      "Missouri                 3\n",
      "Wyoming                  3\n",
      "Iowa                     3\n",
      "Hawaii                   3\n",
      "Utah                     3\n",
      "Vermont                  3\n",
      "Illinois                 3\n",
      "New Hampshire            2\n",
      "District Of Columbia     2\n",
      "New Mexico               2\n",
      "Montana                  2\n",
      "Oregon                   2\n",
      "Alaska                   2\n",
      "Georgia                  2\n",
      "Washington               2\n",
      "Idaho                    2\n",
      "Nebraska                 2\n",
      "Rhode Island             2\n",
      "Tennessee                2\n",
      "Maine                    2\n",
      "South Carolina           1\n",
      "Puerto Rico              1\n",
      "Arkansas                 1\n",
      "Kansas                   1\n",
      "Mississippi              1\n",
      "Alabama                  1\n",
      "Louisiana                1\n",
      "Delaware                 1\n",
      "South Dakota             1\n",
      "West Virginia            1\n",
      "North Dakota             1\n",
      "Wisconsin                1\n",
      "Name: state_name, dtype: int64\n"
     ]
    }
   ],
   "source": [
    "# Explore the `aqi` DataFrame.\n",
    "\n",
    "### YOUR CODE HERE ###\n",
    "\n",
    "print(\"Use describe() to summarize AQI\")\n",
    "print(aqi.describe(include='all'))\n",
    "\n",
    "print(\"For a more thorough examination of observations by state use values_counts()\")\n",
    "print(aqi['state_name'].value_counts())"
   ]
  },
  {
   "cell_type": "markdown",
   "metadata": {
    "id": "DOPQ6EL9ZmrB"
   },
   "source": [
    "**Question:** What time range does this data cover?\n",
    "\n",
    "All of the sites collected data on January 1st, 2018."
   ]
  },
  {
   "cell_type": "markdown",
   "metadata": {
    "id": "Sw0U5NWpZ1wp"
   },
   "source": [
    "**Question:** What are the minimum and maximum AQI values observed in the dataset?\n",
    "\n",
    "The minimum AQI value is 0 and the maximum AQI value is 50."
   ]
  },
  {
   "cell_type": "markdown",
   "metadata": {
    "id": "LWBj7cKZZ_du"
   },
   "source": [
    "**Question:** Are all states equally represented in the dataset?\n",
    "\n",
    "No, all states are not equally represented. California has 66 sites that reported AQI for this dataset, while states such as Delaware and Alabama have only one site that reported AQI. "
   ]
  },
  {
   "cell_type": "markdown",
   "metadata": {
    "id": "e3fe028b-178b-49c0-9765-a566f862ab1b"
   },
   "source": [
    "<details>\n",
    "  <summary><h4><strong>Hint 1</strong></h4></summary>\n",
    "\n",
    "Refer to [the content about descriptive statisics](https://www.coursera.org/learn/the-power-of-statistics/lecture/jVRS4/measures-of-central-tendency).\n",
    "</details>"
   ]
  },
  {
   "cell_type": "markdown",
   "metadata": {
    "id": "d7cba139-a71c-4b21-aef6-47e248da9315"
   },
   "source": [
    "<details>\n",
    "  <summary><h4><strong>Hint 2</strong></h4></summary>\n",
    "\n",
    "Use `pandas` or `numpy` to explore the `aqi` DataFrame.\n",
    "</details>"
   ]
  },
  {
   "cell_type": "markdown",
   "metadata": {
    "id": "8b7138ff-2e02-42df-8946-c0bd1076169c"
   },
   "source": [
    "<details>\n",
    "  <summary><h4><strong>Hint 3</strong></h4></summary>\n",
    "\n",
    "Use any of the following functions:\n",
    "- `pandas`: `describe()`,`value_counts()`,`shape()`\n",
    "- `numpy`: `unique()`,`mean()`\n",
    "    \n",
    "</details>"
   ]
  },
  {
   "cell_type": "markdown",
   "metadata": {
    "id": "fd48d0f0-3f90-455e-87a1-0da43fcac202"
   },
   "source": [
    "## Step 3: Statistical tests\n",
    "\n",
    "### Summarize the mean AQI for RRE states\n",
    "\n",
    "Start with your first deliverable. Summarize the mean AQI for the states in which RRE operates."
   ]
  },
  {
   "cell_type": "code",
   "execution_count": 4,
   "metadata": {
    "id": "83ef0d80-48ec-4a5a-8acd-0fab137243c3",
    "tags": []
   },
   "outputs": [
    {
     "data": {
      "text/html": [
       "<div>\n",
       "<style scoped>\n",
       "    .dataframe tbody tr th:only-of-type {\n",
       "        vertical-align: middle;\n",
       "    }\n",
       "\n",
       "    .dataframe tbody tr th {\n",
       "        vertical-align: top;\n",
       "    }\n",
       "\n",
       "    .dataframe thead th {\n",
       "        text-align: right;\n",
       "    }\n",
       "</style>\n",
       "<table border=\"1\" class=\"dataframe\">\n",
       "  <thead>\n",
       "    <tr style=\"text-align: right;\">\n",
       "      <th></th>\n",
       "      <th>aqi</th>\n",
       "      <th>state_name</th>\n",
       "    </tr>\n",
       "    <tr>\n",
       "      <th>state_name</th>\n",
       "      <th></th>\n",
       "      <th></th>\n",
       "    </tr>\n",
       "  </thead>\n",
       "  <tbody>\n",
       "    <tr>\n",
       "      <th>California</th>\n",
       "      <td>12.121212</td>\n",
       "      <td>66</td>\n",
       "    </tr>\n",
       "    <tr>\n",
       "      <th>Florida</th>\n",
       "      <td>5.500000</td>\n",
       "      <td>12</td>\n",
       "    </tr>\n",
       "    <tr>\n",
       "      <th>Michigan</th>\n",
       "      <td>8.111111</td>\n",
       "      <td>9</td>\n",
       "    </tr>\n",
       "    <tr>\n",
       "      <th>Ohio</th>\n",
       "      <td>3.333333</td>\n",
       "      <td>12</td>\n",
       "    </tr>\n",
       "    <tr>\n",
       "      <th>Pennsylvania</th>\n",
       "      <td>2.900000</td>\n",
       "      <td>10</td>\n",
       "    </tr>\n",
       "    <tr>\n",
       "      <th>Texas</th>\n",
       "      <td>2.700000</td>\n",
       "      <td>10</td>\n",
       "    </tr>\n",
       "  </tbody>\n",
       "</table>\n",
       "</div>"
      ],
      "text/plain": [
       "                    aqi  state_name\n",
       "state_name                         \n",
       "California    12.121212          66\n",
       "Florida        5.500000          12\n",
       "Michigan       8.111111           9\n",
       "Ohio           3.333333          12\n",
       "Pennsylvania   2.900000          10\n",
       "Texas          2.700000          10"
      ]
     },
     "execution_count": 4,
     "metadata": {},
     "output_type": "execute_result"
    }
   ],
   "source": [
    "# Summarize the mean AQI for RRE states.\n",
    "\n",
    "### YOUR CODE HERE ###\n",
    "\n",
    "# Create a list of RRE states.\n",
    "\n",
    "rre_states = ['California','Florida','Michigan','Ohio','Pennsylvania','Texas']\n",
    "\n",
    "# Subset `aqi` to only consider these states.\n",
    "\n",
    "aqi_rre = aqi[aqi['state_name'].isin(rre_states)]\n",
    "\n",
    "# Find the mean aqi for each of the RRE states.\n",
    "\n",
    "aqi_rre.groupby(['state_name']).agg({\"aqi\":\"mean\",\"state_name\":\"count\"}) #alias as aqi_rre"
   ]
  },
  {
   "cell_type": "markdown",
   "metadata": {
    "id": "1078da6e-ce25-45c1-9707-9bf32ecc128f"
   },
   "source": [
    "<details>\n",
    "  <summary><h4><strong>Hint 1</strong></h4></summary>\n",
    "\n",
    "Subset your DataFrame to only include those states in which RRE operates. \n",
    "    \n",
    "</details>"
   ]
  },
  {
   "cell_type": "markdown",
   "metadata": {
    "id": "096f97f3-7d89-4f0f-805a-2517807eec0d"
   },
   "source": [
    "<details>\n",
    "  <summary><h4><strong>Hint 2</strong></h4></summary>\n",
    "\n",
    "Define a list consisting of the states in which RRE operates and use that list to subset your DataFrame. \n",
    "    \n",
    "</details>"
   ]
  },
  {
   "cell_type": "markdown",
   "metadata": {
    "id": "77d4a686-be3d-40c1-9d27-099677f182b9"
   },
   "source": [
    "<details>\n",
    "  <summary><h4><strong>Hint 3</strong></h4></summary>\n",
    "\n",
    "Use `pandas` `isin.()` to subset your DataFrame by the list of RRE states.\n",
    "    \n",
    "</details>"
   ]
  },
  {
   "cell_type": "markdown",
   "metadata": {
    "id": "883abc8c-5aa9-480e-ac4b-c1c64f8ae0fd"
   },
   "source": [
    "### Construct a boxplot visualization for the AQI of these states\n",
    "\n",
    "Seaborn is a simple visualization library, commonly imported as `sns`. Import `seaborn` below, then utilize a boxplot visualization from this library to compare the distributions of AQI scores by state."
   ]
  },
  {
   "cell_type": "code",
   "execution_count": 5,
   "metadata": {
    "id": "ca381599-7cba-4454-922c-3383a2b7608d"
   },
   "outputs": [],
   "source": [
    "# Import seaborn as sns.\n",
    "\n",
    "### YOUR CODE HERE ###\n",
    "\n",
    "import seaborn as sns"
   ]
  },
  {
   "cell_type": "markdown",
   "metadata": {
    "id": "01510e30-26e6-4408-9599-e7016fdb9948"
   },
   "source": [
    "### Create an in-line visualization showing the distribution of `aqi` by `state_name`\n",
    "\n",
    "Now, create an in-line visualization showing the distribution of `aqi` by `state_name`."
   ]
  },
  {
   "cell_type": "code",
   "execution_count": 6,
   "metadata": {
    "id": "50040050-1ff3-4d0e-a9e1-d2fd00454ce3"
   },
   "outputs": [
    {
     "data": {
      "text/plain": [
       "<matplotlib.axes._subplots.AxesSubplot at 0x7f69b28394d0>"
      ]
     },
     "execution_count": 6,
     "metadata": {},
     "output_type": "execute_result"
    },
    {
     "data": {
      "image/png": "[encoded data removed]",
      "text/plain": [
       "<Figure size 432x288 with 1 Axes>"
      ]
     },
     "metadata": {
      "needs_background": "light"
     },
     "output_type": "display_data"
    }
   ],
   "source": [
    "### YOUR CODE HERE ###\n",
    "\n",
    "sns.boxplot(x=aqi_rre[\"state_name\"],y=aqi_rre[\"aqi\"])"
   ]
  },
  {
   "cell_type": "markdown",
   "metadata": {
    "id": "2ec7b69d-072c-4c42-b0b4-7cff1aaa1579"
   },
   "source": [
    "<details>\n",
    "  <summary><h4><strong>Hint 1</strong></h4></summary>\n",
    "\n",
    "Use the boxplot visual for this purpose.\n",
    "    \n",
    "</details>"
   ]
  },
  {
   "cell_type": "markdown",
   "metadata": {
    "id": "4218e686-47fc-49cc-b98d-fbca88144a34",
    "tags": []
   },
   "source": [
    "<details>\n",
    "  <summary><h4><strong>Hint 2</strong></h4></summary>\n",
    "\n",
    "Reference [Seaborn's boxplot visualization documentation](https://seaborn.pydata.org/generated/seaborn.boxplot.html). \n",
    "    \n",
    "</details>"
   ]
  },
  {
   "cell_type": "markdown",
   "metadata": {
    "id": "a3f8a76b-a277-4488-adf2-0ffc9d89e496",
    "tags": []
   },
   "source": [
    "<details>\n",
    "  <summary><h4><strong>Hint 3</strong></h4></summary>\n",
    "\n",
    "Assign `state_name` to the x argument and `aqi` to the y.\n",
    "    \n",
    "</details>"
   ]
  },
  {
   "cell_type": "markdown",
   "metadata": {
    "id": "5e2af1a1-7816-4d8b-929b-41268234a579"
   },
   "source": [
    "**Question:** Based on the data and your visualizations, which state(s) do you suspect will be most affected by this policy?\n",
    "\n",
    "- California: The mean and a signficant portion of the boxplot range over 10.\n",
    "- Michigan: While the mean is below 10, the boxplot ranges above 10."
   ]
  },
  {
   "cell_type": "markdown",
   "metadata": {
    "id": "30760c51-641f-4971-9837-4ae60b72cd64"
   },
   "source": [
    "<details>\n",
    "  <summary><h4><strong>Hint 1</strong></h4></summary>\n",
    "\n",
    "Consider the mean AQI for the RRE states, as well as the distribution in the boxplots relative to the policy limit (10).\n",
    "    \n",
    "</details>"
   ]
  },
  {
   "cell_type": "markdown",
   "metadata": {
    "id": "b01231e9-0a80-4457-a47e-c62c2c230ae4"
   },
   "source": [
    "### Construct a confidence interval for the RRE state with the highest mean AQI\n",
    "\n",
    "Recall the four-step process for constructing a confidence interval:\n",
    "\n",
    "1.   Identify a sample statistic.\n",
    "2.   Choose a confidence level.\n",
    "3.   Find the margin of error. \n",
    "4.   Calculate the interval."
   ]
  },
  {
   "cell_type": "markdown",
   "metadata": {
    "id": "587f8053-6cbd-454a-a390-9307e5a65b1b"
   },
   "source": [
    "### Construct your sample statistic\n",
    "\n",
    "To contruct your sample statistic, find the mean AQI for your state."
   ]
  },
  {
   "cell_type": "code",
   "execution_count": 7,
   "metadata": {
    "id": "58af6462-80ab-4055-85de-c99c87129752"
   },
   "outputs": [
    {
     "data": {
      "text/plain": [
       "12.121212121212121"
      ]
     },
     "execution_count": 7,
     "metadata": {},
     "output_type": "execute_result"
    }
   ],
   "source": [
    "# Find the mean aqi for your state.\n",
    "\n",
    "### YOUR CODE HERE ###\n",
    "\n",
    "aqi_ca = aqi[aqi['state_name']=='California']\n",
    "\n",
    "sample_mean = aqi_ca['aqi'].mean()\n",
    "sample_mean"
   ]
  },
  {
   "cell_type": "markdown",
   "metadata": {
    "id": "3361efb6-9def-4140-8d55-061487583b3e"
   },
   "source": [
    "<details>\n",
    "  <summary><h4><strong>Hint 1</strong></h4></summary>\n",
    "\n",
    "Reference what you've previously learned to recall what a [sample statistic](https://www.coursera.org/learn/the-power-of-statistics/supplement/cdOx7/construct-a-confidence-interval-for-a-small-sample-size) is.\n",
    "    \n",
    "</details>"
   ]
  },
  {
   "cell_type": "markdown",
   "metadata": {
    "id": "54189c3c-a318-447b-b48f-b7bcd9b8a178"
   },
   "source": [
    "<details>\n",
    "  <summary><h4><strong>Hint 2</strong></h4></summary>\n",
    "\n",
    "Calculate the mean for your highest AQI state to arrive at your sample statistic.\n",
    "    \n",
    "</details>"
   ]
  },
  {
   "cell_type": "markdown",
   "metadata": {
    "id": "a2659e8e-1f67-441f-825c-8473c9f88081"
   },
   "source": [
    "<details>\n",
    " <summary><h4><strong>Hint 3</strong></h4></summary>\n",
    "\n",
    "Call the `mean()` function within `pandas` on your DataFrame.\n",
    "    \n",
    "</details>"
   ]
  },
  {
   "cell_type": "markdown",
   "metadata": {
    "id": "9a15605d-5b99-4033-940f-1fab630ad6c1"
   },
   "source": [
    "### Choose your confidence level\n",
    "\n",
    "Choose your confidence level for your analysis. The most typical confidence level chosen is 95%; however, you can choose 90% or 99% if you want decrease or increase (respectively) your level of confidence about your result."
   ]
  },
  {
   "cell_type": "code",
   "execution_count": 8,
   "metadata": {
    "id": "0a9c1f39-b4e2-4ec3-9369-dd313fd2d835",
    "outputId": "c035e170-c781-46b7-d1ec-5af2c66a7b1f"
   },
   "outputs": [
    {
     "data": {
      "text/plain": [
       "0.95"
      ]
     },
     "execution_count": 8,
     "metadata": {},
     "output_type": "execute_result"
    }
   ],
   "source": [
    "# Input your confidence level.\n",
    "\n",
    "### YOUR CODE HERE ###\n",
    "\n",
    "confidence_level = 0.95\n",
    "confidence_level"
   ]
  },
  {
   "cell_type": "markdown",
   "metadata": {
    "id": "ac18cb1b-40ca-4de3-bc0a-08be82f64781"
   },
   "source": [
    "### Find your margin of error (ME)\n",
    "\n",
    "Recall **margin of error = z * standard error**, where z is the appropriate z-value for the given confidence level. To calculate your margin of error:\n",
    "\n",
    "- Find your z-value. \n",
    "- Find the approximate z for common confidence levels.\n",
    "- Calculate your **standard error** estimate. \n",
    "\n",
    "| Confidence Level | Z Score |\n",
    "| --- | --- |\n",
    "| 90% | 1.65 |\n",
    "| 95% | 1.96 |\n",
    "| 99% | 2.58 |\n"
   ]
  },
  {
   "cell_type": "code",
   "execution_count": 9,
   "metadata": {
    "id": "930e5fb6-171c-4bba-a601-d5e3b84e2fdb"
   },
   "outputs": [
    {
     "name": "stdout",
     "output_type": "stream",
     "text": [
      "standard error:\n",
      "0.8987209641127412\n",
      "margin of error:\n",
      "1.7614930896609726\n"
     ]
    }
   ],
   "source": [
    "# Calculate your margin of error.\n",
    "\n",
    "### YOUR CODE HERE ###\n",
    "\n",
    "# Begin by identifying the z associated with your chosen confidence level.\n",
    "\n",
    "z_value = 1.96\n",
    "\n",
    "# Next, calculate your standard error.\n",
    "\n",
    "standard_error = aqi_ca['aqi'].std() / np.sqrt(aqi_ca.shape[0])\n",
    "print(\"standard error:\")\n",
    "print(standard_error)\n",
    "\n",
    "# Lastly, use the above to calculate your margin of error.\n",
    "\n",
    "margin_of_error = standard_error * z_value\n",
    "print(\"margin of error:\")\n",
    "print(margin_of_error)"
   ]
  },
  {
   "cell_type": "markdown",
   "metadata": {
    "id": "6b0d173b-06d4-4e82-81d8-092b24132bd2"
   },
   "source": [
    "### Calculate your interval\n",
    "\n",
    "Calculate both a lower and upper limit surrounding your sample mean to create your interval."
   ]
  },
  {
   "cell_type": "code",
   "execution_count": 10,
   "metadata": {
    "id": "f83a7ba7-afdd-4d8c-8b78-849cff363180"
   },
   "outputs": [
    {
     "data": {
      "text/plain": [
       "(10.359719031551148, 13.882705210873095)"
      ]
     },
     "execution_count": 10,
     "metadata": {},
     "output_type": "execute_result"
    }
   ],
   "source": [
    "# Calculate your confidence interval (upper and lower limits).\n",
    "\n",
    "### YOUR CODE HERE ###\n",
    "\n",
    "upper_ci_limit = sample_mean + margin_of_error\n",
    "lower_ci_limit = sample_mean - margin_of_error\n",
    "(lower_ci_limit, upper_ci_limit)"
   ]
  },
  {
   "cell_type": "markdown",
   "metadata": {
    "id": "5c6af474-8803-40c3-88fe-3ae8d4523097"
   },
   "source": [
    "<details>\n",
    "  <summary><h4><strong>Hint 1</strong></h4></summary>\n",
    "\n",
    "Refer to [the content about constructing a confidence interval](https://www.coursera.org/learn/the-power-of-statistics/lecture/3jbsX/construct-a-confidence-interval-for-a-proportion).\n",
    "    \n",
    "</details>"
   ]
  },
  {
   "cell_type": "markdown",
   "metadata": {
    "id": "d515ba65-5524-492e-ba06-64d3a4e90e8f"
   },
   "source": [
    "<details>\n",
    "  <summary><h4><strong>Hint 2</strong></h4></summary>\n",
    "\n",
    "Identify the sample mean from your prior work. Then use the margin of error to construct your upper and lower limits.  \n",
    "    \n",
    "</details>"
   ]
  },
  {
   "cell_type": "markdown",
   "metadata": {
    "id": "22532a0b-8db5-4874-9869-39d3e80a5ea9"
   },
   "source": [
    "<details>\n",
    "  <summary><h4><strong>Hint 3</strong></h4></summary>\n",
    "\n",
    "Subtract the margin of error from the sample mean to construct your lower limit, and add the margin of error to your sample mean to construct your upper limit.\n",
    "    \n",
    "</details>"
   ]
  },
  {
   "cell_type": "markdown",
   "metadata": {
    "id": "82e06ed3-2ec3-4851-b3df-2c6d969ea616"
   },
   "source": [
    "### Alternative: Construct the interval using `scipy.stats.norm.interval()`\n",
    "\n",
    "`scipy` presents a simpler solution to developing a confidence interval. To use this, first import the `stats` module from `scipy`."
   ]
  },
  {
   "cell_type": "code",
   "execution_count": 11,
   "metadata": {
    "id": "0b6d2ecc-03ff-47ab-9d2d-57857fc38ca0"
   },
   "outputs": [],
   "source": [
    "# Import stats from scipy.\n",
    "\n",
    "### YOUR CODE HERE ###\n",
    "\n",
    "from scipy import stats"
   ]
  },
  {
   "cell_type": "markdown",
   "metadata": {
    "id": "ba8af068-f28e-4c29-82c9-238bc0f16ed1"
   },
   "source": [
    "## Step 4: Results and evaluation\n",
    "\n",
    "### Recalculate your confidence interval\n",
    "\n",
    "Provide your chosen `confidence_level`, `sample_mean`, and `standard_error` to `stats.norm.interval()` and recalculate your confidence interval."
   ]
  },
  {
   "cell_type": "code",
   "execution_count": 12,
   "metadata": {
    "id": "f908eb99-ce5c-472f-891e-80a47cef5fed"
   },
   "outputs": [
    {
     "data": {
      "text/plain": [
       "(10.359751399400034, 13.882672843024208)"
      ]
     },
     "execution_count": 12,
     "metadata": {},
     "output_type": "execute_result"
    }
   ],
   "source": [
    "### YOUR CODE HERE ###\n",
    "\n",
    "stats.norm.interval(alpha=confidence_level, loc=sample_mean, scale=standard_error)"
   ]
  },
  {
   "cell_type": "markdown",
   "metadata": {
    "id": "feb3e273-1aab-4965-bceb-8b8933c743b5"
   },
   "source": [
    "# Considerations\n",
    "\n",
    "**What are key takeaways from this lab?**\n",
    "\n",
    "* Based on the mean AQI for RRE states, California and Michigan were most likely to have experienced a mean AQI above 10.\n",
    "* With California experiencing the highest sample mean AQI in the data, it appears to be the state most likely to be affected by the policy change. \n",
    "* Constructing a confidence interval allowed you to estimate the sample mean AQI with a certain degree of confidence.\n",
    "\n",
    "**What findings would you share with others?**\n",
    "\n",
    "* Present this notebook to convey the analytical process and describe the methodology behind constructing the confidence interval. \n",
    "* Convey that a confidence interval at the 95% level of confidence from this sample data yielded `[10.36 , 13.88]`, which provides the interpretation \"given the observed sample AQI measurements, there is a 95% confidence that the population mean AQI for California was between 10.36 and 13.88. This range is notably greater than 10.\"\n",
    "* Share how varying the confidence level changes the interval. For example, if you varied the confidence level to 99%, the confidence interval would become `[9.80 , 14.43]`. \n",
    "\n",
    "\n",
    "**What would you convey to external stakeholders?**\n",
    "\n",
    "* Explain statistical significance at a high level. \n",
    "* Describe California's observed mean AQI and suggest focusing on that state.\n",
    "* Share the result of the 95% confidence interval, describing what this means relative to the threshold of 10.\n",
    "* Convey any potential shortcomings of this analysis, such as the short time period being referenced. "
   ]
  },
  {
   "cell_type": "markdown",
   "metadata": {
    "id": "0IVWUekbeFEq"
   },
   "source": [
    "**References**\n",
    "\n",
    "[seaborn.boxplot — seaborn 0.12.1 documentation](https://seaborn.pydata.org/generated/seaborn.boxplot.html). (n.d.). "
   ]
  }
 ],
 "metadata": {
  "colab": {
   "collapsed_sections": [],
   "provenance": []
  },
  "kernelspec": {
   "display_name": "Python 3",
   "language": "python",
   "name": "python3"
  },
  "language_info": {
   "codemirror_mode": {
    "name": "ipython",
    "version": 3
   },
   "file_extension": ".py",
   "mimetype": "text/x-python",
   "name": "python",
   "nbconvert_exporter": "python",
   "pygments_lexer": "ipython3",
   "version": "3.7.6"
  }
 },
 "nbformat": 4,
 "nbformat_minor": 5
}
