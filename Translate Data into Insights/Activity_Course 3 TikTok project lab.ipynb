{
 "cells": [
  {
   "cell_type": "markdown",
   "metadata": {
    "id": "DtNBZFHO3M7n"
   },
   "source": [
    "# **TikTok Project**\n",
    "**Course 3 - Go Beyond the Numbers: Translate Data into Insights**"
   ]
  },
  {
   "cell_type": "markdown",
   "metadata": {
    "id": "ASDNhWAxE-r3"
   },
   "source": [
    "Your TikTok data team is still in the early stages of their latest project. So far, you’ve completed a project proposal and used Python to inspect and organize the TikTok dataset.\n",
    "\n",
    "Orion Rainier, a Data Scientist at TikTok, is pleased with the work you have already completed and is requesting your assistance with some Exploratory Data Analysis (EDA) and data visualization. The management team asked to see a Python notebook showing data structuring and cleaning, as well as any matplotlib/seaborn visualizations plotted to help us understand the data. At the very least, include a graph comparing claim counts to opinion counts, as well as boxplots of the most important variables (like “video duration,” “video like count,” “video comment count,” and “video view count”) to check for outliers. Also, include a breakdown of “author ban status” counts.\n",
    "\n",
    "Additionally, the management team has recently asked all EDA to include Tableau visualizations. Tableau visualizations are particularly helpful in status reports to the client and board members. For this data, create a Tableau dashboard showing a simple claims versus opinions count, as well as stacked bar charts of claims versus opinions for variables like video view counts, video like counts, video share counts, and video download counts. Make sure it is easy to understand to someone who isn’t data savvy, and remember that the assistant director is a person with visual impairments.\n",
    "\n",
    "You also notice a follow-up email from the Data Science Lead, Willow Jaffey. Willow suggests including an executive summary of your analysis to share with teammates.\n",
    "\n",
    "A notebook was structured and prepared to help you in this project. Please complete the following questions."
   ]
  },
  {
   "cell_type": "markdown",
   "metadata": {
    "id": "rgSbVJvomcVa"
   },
   "source": [
    "# **Course 3 End-of-course project: Exploratory data analysis**\n",
    "\n",
    "In this activity, you will examine data provided and prepare it for analysis. You will also design a professional data visualization that tells a story, and will help data-driven decisions for business needs.\n",
    "\n",
    "Please note that the Tableau visualization activity is optional, and will not affect your completion of the course. Completing the Tableau activity will help you practice planning out and plotting a data visualization based on a specific business need. The structure of this activity is designed to emulate the proposals you will likely be assigned in your career as a data professional. Completing this activity will help prepare you for those career moments.\n",
    "<br/>\n",
    "\n",
    "**The purpose** of this project is to conduct exploratory data analysis on a provided data set. Your mission is to continue the investigation you began in C2 and perform further EDA on this data with the aim of learning more about the variables. Of particular interest is information related to what distinguishes claim videos from opinion videos.\n",
    "\n",
    "**The goal** is to explore the dataset and create visualizations.\n",
    "<br/>\n",
    "*This activity has 4 parts:*\n",
    "\n",
    "**Part 1:** Imports, links, and loading\n",
    "\n",
    "**Part 2:** Data Exploration\n",
    "*   Data cleaning\n",
    "\n",
    "\n",
    "**Part 3:** Build visualizations\n",
    "\n",
    "**Part 4:** Evaluate and share results"
   ]
  },
  {
   "cell_type": "markdown",
   "metadata": {
    "id": "pI2gfRn9Fs8-"
   },
   "source": [
    "Follow the instructions and answer the question below to complete the activity. Then, you will complete an executive summary using the questions listed on the PACE Strategy Document.\n",
    "\n",
    "Be sure to complete this activity before moving on. The next course item will provide you with a completed exemplar to compare to your own work."
   ]
  },
  {
   "cell_type": "markdown",
   "metadata": {
    "id": "jPs4VVaxFpd-"
   },
   "source": [
    "# **Visualize a story in Tableau and Python**"
   ]
  },
  {
   "cell_type": "markdown",
   "metadata": {
    "id": "rdR5eWbYx8GE"
   },
   "source": [
    "<img src=\"images/Pace.png\" width=\"100\" height=\"100\" align=left>\n",
    "\n",
    "# **PACE stages**"
   ]
  },
  {
   "cell_type": "markdown",
   "metadata": {
    "id": "viBVsQThegig"
   },
   "source": [
    "Throughout these project notebooks, you'll see references to the problem-solving framework PACE. The following notebook components are labeled with the respective PACE stage: Plan, Analyze, Construct, and Execute."
   ]
  },
  {
   "cell_type": "markdown",
   "metadata": {
    "id": "xKLZJUqMx8GE"
   },
   "source": [
    "<img src=\"images/Plan.png\" width=\"100\" height=\"100\" align=left>\n",
    "\n",
    "\n",
    "## **PACE: Plan**\n",
    "\n",
    "Consider the questions in your PACE Strategy Document and those below where applicable to craft your response:\n",
    "1. Identify any outliers:\n",
    "\n",
    "\n",
    "*   What methods are best for identifying outliers?\n",
    "*   How do you make the decision to keep or exclude outliers from any future models?\n",
    "\n"
   ]
  },
  {
   "cell_type": "markdown",
   "metadata": {
    "id": "n2PzLjWUO6mC"
   },
   "source": [
    "==> ENTER YOUR RESPONSE HERE"
   ]
  },
  {
   "cell_type": "markdown",
   "metadata": {
    "id": "SKur6gTPRcvy"
   },
   "source": [
    "### **Task 1. Imports, links, and loading**\n",
    "Go to Tableau Public\n",
    "The following link will help you complete this activity. Keep Tableau Public open as you proceed to the next steps.\n",
    "\n",
    "Link to supporting materials:\n",
    "Public Tableau: https://public.tableau.com/s/\n",
    "\n",
    "For EDA of the data, import the packages that would be most helpful, such as `pandas`, `numpy`, `matplotlib.pyplot`, and `seaborn`.\n"
   ]
  },
  {
   "cell_type": "code",
   "execution_count": null,
   "metadata": {
    "id": "EO8vKZI8x8GF"
   },
   "outputs": [],
   "source": [
    "# Import packages for data manipulation\n",
    "### YOUR CODE HERE ###\n",
    "\n",
    "# Import packages for data visualization\n",
    "### YOUR CODE HERE ###"
   ]
  },
  {
   "cell_type": "markdown",
   "metadata": {
    "id": "JRf06KQ-uK7i"
   },
   "source": [
    "Then, load the dataset into a dataframe. Read in the data and store it as a dataframe object.\n",
    "\n",
    "**Note:** As shown in this cell, the dataset has been automatically loaded in for you. You do not need to download the .csv file, or provide more code, in order to access the dataset and proceed with this lab. Please continue with this activity by completing the following instructions.\n"
   ]
  },
  {
   "cell_type": "code",
   "execution_count": null,
   "metadata": {
    "id": "w7XSDxoqyF9D"
   },
   "outputs": [],
   "source": [
    "# Load dataset into dataframe\n",
    "data = pd.read_csv(\"tiktok_dataset.csv\")"
   ]
  },
  {
   "cell_type": "markdown",
   "metadata": {
    "id": "3mipEiyZx8GI"
   },
   "source": [
    "<img src=\"images/Analyze.png\" width=\"100\" height=\"100\" align=left>\n",
    "\n",
    "## **PACE: Analyze**\n",
    "\n",
    "Consider the questions in your PACE Strategy Document and those below where applicable to complete your code."
   ]
  },
  {
   "cell_type": "markdown",
   "metadata": {
    "id": "n09krlKWRw_2"
   },
   "source": [
    "### **Task 2a: Data exploration and cleaning**\n",
    "\n",
    "The first step is to assess your data. Check the Data Source page on Tableau Public to get a sense of the size, shape and makeup of the data set.\n",
    "\n",
    "Consider functions that help you understand and structure the data.\n",
    "\n",
    "*    `.head()`\n",
    "*    `.info()`\n",
    "*    `.describe()`\n",
    "*    `.groupby()`\n",
    "*    `.sort_values()`\n",
    "\n",
    "Consider the following questions as you work:\n",
    "\n",
    "What do you do about missing data (if any)?\n",
    "\n",
    "Are there data outliers?"
   ]
  },
  {
   "cell_type": "markdown",
   "metadata": {
    "id": "uk6zuv_mUU2k"
   },
   "source": [
    "Start by discovering, using `.head()`, `.size`, and `.shape`."
   ]
  },
  {
   "cell_type": "code",
   "execution_count": null,
   "metadata": {
    "id": "cBOUo5p-tbib"
   },
   "outputs": [],
   "source": [
    "# Display and examine the first few rows of the dataframe\n",
    "### YOUR CODE HERE ###\n"
   ]
  },
  {
   "cell_type": "code",
   "execution_count": null,
   "metadata": {
    "id": "GvT82D1qyF9F"
   },
   "outputs": [],
   "source": [
    "# Get the size of the data\n",
    "### YOUR CODE HERE ###\n"
   ]
  },
  {
   "cell_type": "code",
   "execution_count": null,
   "metadata": {
    "id": "ZMVCmsoMvCEm"
   },
   "outputs": [],
   "source": [
    "# Get the shape of the data\n",
    "### YOUR CODE HERE ###\n"
   ]
  },
  {
   "cell_type": "markdown",
   "metadata": {
    "id": "psmn0VD0UWBk"
   },
   "source": [
    "Get basic information about the data, using `.info()`."
   ]
  },
  {
   "cell_type": "code",
   "execution_count": null,
   "metadata": {
    "id": "Thlb8oiyUPwe"
   },
   "outputs": [],
   "source": [
    "# Get basic information about the data\n",
    "### YOUR CODE HERE ###\n"
   ]
  },
  {
   "cell_type": "markdown",
   "metadata": {
    "id": "WulP4lZ9UVgy"
   },
   "source": [
    "Generate a table of descriptive statistics, using `.describe()`."
   ]
  },
  {
   "cell_type": "code",
   "execution_count": null,
   "metadata": {
    "id": "xMpkdNQ0UPmW"
   },
   "outputs": [],
   "source": [
    "# Generate a table of descriptive statistics\n",
    "### YOUR CODE HERE ###\n"
   ]
  },
  {
   "cell_type": "markdown",
   "metadata": {
    "id": "vCGi3U9nw4Er"
   },
   "source": [
    "### **Task 2b. Assess data types**"
   ]
  },
  {
   "cell_type": "markdown",
   "metadata": {
    "id": "aNBRa33TR_Is"
   },
   "source": [
    "In Tableau, staying on the data source page, double check the data types of the columns in the dataset. Refer to the dimensions and measures in Tableau.\n"
   ]
  },
  {
   "cell_type": "markdown",
   "metadata": {
    "id": "WtpiC1JvHRtS"
   },
   "source": [
    "Review the instructions linked in the previous Activity document to create the required Tableau visualization."
   ]
  },
  {
   "cell_type": "markdown",
   "metadata": {
    "id": "sPlm615Ywifi"
   },
   "source": [
    "### **Task 2c. Select visualization type(s)**"
   ]
  },
  {
   "cell_type": "markdown",
   "metadata": {
    "id": "2YdC51QBSG2v"
   },
   "source": [
    "Select data visualization types that will help you understand and explain the data.\n",
    "\n",
    "Now that you know which data columns you’ll use, it is time to decide which data visualization makes the most sense for EDA of the TikTok dataset. What type of data visualization(s) would be most helpful? Consider the distribution of the data.\n",
    "\n",
    "* Line graph\n",
    "* Bar chart\n",
    "* Box plot\n",
    "* Histogram\n",
    "* Heat map\n",
    "* Scatter plot\n",
    "* A geographic map\n"
   ]
  },
  {
   "cell_type": "markdown",
   "metadata": {
    "id": "7X7AvXvzLs5m"
   },
   "source": [
    "==> ENTER YOUR RESPONSE HERE"
   ]
  },
  {
   "cell_type": "markdown",
   "metadata": {
    "id": "f0sHpfkhx8GM"
   },
   "source": [
    "<img src=\"images/Construct.png\" width=\"100\" height=\"100\" align=left>\n",
    "\n",
    "## **PACE: Construct**\n",
    "\n",
    "Consider the questions in your PACE Strategy Document to reflect on the Construct stage."
   ]
  },
  {
   "cell_type": "markdown",
   "metadata": {
    "id": "BYWkZ4i3wgv4"
   },
   "source": [
    "### **Task 3. Build visualizations**\n",
    "\n",
    "Now that you have assessed your data, it’s time to plot your visualization(s)."
   ]
  },
  {
   "cell_type": "markdown",
   "metadata": {
    "id": "zxNu3SYf60OA"
   },
   "source": [
    "#### **video_duration_sec**\n",
    "\n",
    "Create a box plot to examine the spread of values in the `video_duration_sec` column."
   ]
  },
  {
   "cell_type": "code",
   "execution_count": null,
   "metadata": {
    "id": "Ts_lcV6qUQHq"
   },
   "outputs": [],
   "source": [
    "# Create a boxplot to visualize distribution of `video_duration_sec`\n",
    "### YOUR CODE HERE ###\n",
    "\n"
   ]
  },
  {
   "cell_type": "markdown",
   "metadata": {
    "id": "Kjwc7aGi7C63"
   },
   "source": [
    "Create a histogram of the values in the `video_duration_sec` column to further explore the distribution of this variable."
   ]
  },
  {
   "cell_type": "code",
   "execution_count": null,
   "metadata": {
    "id": "0zaJF_yU7UCp"
   },
   "outputs": [],
   "source": [
    "# Create a histogram\n",
    "### YOUR CODE HERE ###\n"
   ]
  },
  {
   "cell_type": "markdown",
   "metadata": {
    "id": "1GgGx8g87cqN"
   },
   "source": [
    "**Question:** What do you notice about the duration and distribution of the videos?"
   ]
  },
  {
   "cell_type": "markdown",
   "metadata": {
    "id": "QWM6LLlE7iMY"
   },
   "source": [
    "#### **video_view_count**\n",
    "\n",
    "Create a box plot to examine the spread of values in the `video_view_count` column."
   ]
  },
  {
   "cell_type": "code",
   "execution_count": null,
   "metadata": {
    "id": "qlUccI91a4NH"
   },
   "outputs": [],
   "source": [
    "# Create a boxplot to visualize distribution of `video_view_count`\n",
    "### YOUR CODE HERE ###\n",
    "\n"
   ]
  },
  {
   "cell_type": "markdown",
   "metadata": {
    "id": "yiMaq0Mr7jg1"
   },
   "source": [
    "Create a histogram of the values in the `video_view_count` column to further explore the distribution of this variable."
   ]
  },
  {
   "cell_type": "code",
   "execution_count": null,
   "metadata": {
    "id": "qpm2TdwB7j61"
   },
   "outputs": [],
   "source": [
    "# Create a histogram\n",
    "### YOUR CODE HERE ###\n"
   ]
  },
  {
   "cell_type": "markdown",
   "metadata": {
    "id": "vhoFNjHp7zg3"
   },
   "source": [
    "**Question:** What do you notice about the distribution of this variable?"
   ]
  },
  {
   "cell_type": "markdown",
   "metadata": {
    "id": "NIh6KV2X77BA"
   },
   "source": [
    "#### **video_like_count**\n",
    "\n",
    "Create a box plot to examine the spread of values in the `video_like_count` column."
   ]
  },
  {
   "cell_type": "code",
   "execution_count": null,
   "metadata": {
    "id": "N0UVdeRUzEEF"
   },
   "outputs": [],
   "source": [
    "# Create a boxplot to visualize distribution of `video_like_count`\n",
    "### YOUR CODE HERE ###\n",
    "\n"
   ]
  },
  {
   "cell_type": "markdown",
   "metadata": {
    "id": "-jV2GDg_78ae"
   },
   "source": [
    "Create a histogram of the values in the `video_like_count` column to further explore the distribution of this variable."
   ]
  },
  {
   "cell_type": "code",
   "execution_count": null,
   "metadata": {
    "id": "udOrLA5b79MV"
   },
   "outputs": [],
   "source": [
    "# Create a histogram\n",
    "### YOUR CODE HERE ###\n"
   ]
  },
  {
   "cell_type": "markdown",
   "metadata": {
    "id": "8dwSFmpZ8ENG"
   },
   "source": [
    "**Question:** What do you notice about the distribution of this variable?"
   ]
  },
  {
   "cell_type": "markdown",
   "metadata": {
    "id": "rJ23hEvE8HK5"
   },
   "source": [
    "#### **video_comment_count**\n",
    "\n",
    "Create a box plot to examine the spread of values in the `video_comment_count` column."
   ]
  },
  {
   "cell_type": "code",
   "execution_count": null,
   "metadata": {
    "id": "-gE1fkGo0eG9"
   },
   "outputs": [],
   "source": [
    "# Create a boxplot to visualize distribution of `video_comment_count`\n",
    "### YOUR CODE HERE ###\n",
    "\n"
   ]
  },
  {
   "cell_type": "markdown",
   "metadata": {
    "id": "ztXyeXEA8H0d"
   },
   "source": [
    "Create a histogram of the values in the `video_comment_count` column to further explore the distribution of this variable."
   ]
  },
  {
   "cell_type": "code",
   "execution_count": null,
   "metadata": {
    "id": "pQsVds2G8IYx"
   },
   "outputs": [],
   "source": [
    "# Create a histogram\n",
    "### YOUR CODE HERE ###\n"
   ]
  },
  {
   "cell_type": "markdown",
   "metadata": {
    "id": "TXLQaXcV8It4"
   },
   "source": [
    "**Question:** What do you notice about the distribution of this variable?"
   ]
  },
  {
   "cell_type": "markdown",
   "metadata": {
    "id": "QnWnT6ZK83wv"
   },
   "source": [
    "#### **video_share_count**\n",
    "\n",
    "Create a box plot to examine the spread of values in the `video_share_count` column."
   ]
  },
  {
   "cell_type": "code",
   "execution_count": null,
   "metadata": {
    "id": "VGdU83TL88gZ"
   },
   "outputs": [],
   "source": [
    "# Create a boxplot to visualize distribution of `video_share_count`\n",
    "### YOUR CODE HERE ###\n"
   ]
  },
  {
   "cell_type": "markdown",
   "metadata": {
    "id": "8-T74RQ8888t"
   },
   "source": [
    "*Create* a histogram of the values in the `video_share_count` column to further explore the distribution of this variable."
   ]
  },
  {
   "cell_type": "code",
   "execution_count": null,
   "metadata": {
    "id": "_jusEWSJ89co"
   },
   "outputs": [],
   "source": [
    "# Create a histogram\n",
    "### YOUR CODE HERE ###\n"
   ]
  },
  {
   "cell_type": "markdown",
   "metadata": {
    "id": "JWKhsOtG9Urp"
   },
   "source": [
    "**Question:** What do you notice about the distribution of this variable?"
   ]
  },
  {
   "cell_type": "markdown",
   "metadata": {
    "id": "ZDh2nxtC9ems"
   },
   "source": [
    "#### **video_download_count**\n",
    "\n",
    "Create a box plot to examine the spread of values in the `video_download_count` column."
   ]
  },
  {
   "cell_type": "code",
   "execution_count": null,
   "metadata": {
    "id": "CVILyJYB9fUe"
   },
   "outputs": [],
   "source": [
    "# Create a boxplot to visualize distribution of `video_download_count`\n",
    "### YOUR CODE HERE ###\n"
   ]
  },
  {
   "cell_type": "markdown",
   "metadata": {
    "id": "oVAlHAVY9fvC"
   },
   "source": [
    "Create a histogram of the values in the `video_download_count` column to further explore the distribution of this variable."
   ]
  },
  {
   "cell_type": "code",
   "execution_count": null,
   "metadata": {
    "id": "R9QBYK3g9gVu"
   },
   "outputs": [],
   "source": [
    "# Create a histogram\n",
    "### YOUR CODE HERE ###\n"
   ]
  },
  {
   "cell_type": "markdown",
   "metadata": {
    "id": "MZZ_BH3Y9sZ-"
   },
   "source": [
    "**Question:** What do you notice about the distribution of this variable?"
   ]
  },
  {
   "cell_type": "markdown",
   "metadata": {
    "id": "rJc1VcpN-ZRr"
   },
   "source": [
    "#### **Claim status by verification status**\n",
    "\n",
    "Now, create a histogram with four bars: one for each combination of claim status and verification status."
   ]
  },
  {
   "cell_type": "code",
   "execution_count": null,
   "metadata": {
    "id": "eTsTPNMK-chP"
   },
   "outputs": [],
   "source": [
    "# Create a histogram\n",
    "### YOUR CODE HERE ###\n"
   ]
  },
  {
   "cell_type": "markdown",
   "metadata": {
    "id": "-xJqYoLE-c72"
   },
   "source": [
    "**Question:** What do you notice about the number of verified users compared to unverified? And how does that affect their likelihood to post opinions?"
   ]
  },
  {
   "cell_type": "markdown",
   "metadata": {
    "id": "iEiA_ARk_Nxd"
   },
   "source": [
    "#### **Claim status by author ban status**\n",
    "\n",
    "The previous course used a `groupby()` statement to examine the count of each claim status for each author ban status. Now, use a histogram to communicate the same information."
   ]
  },
  {
   "cell_type": "code",
   "execution_count": null,
   "metadata": {
    "id": "IZHdWGPx_Olx"
   },
   "outputs": [],
   "source": [
    "# Create a histogram\n",
    "### YOUR CODE HERE ###\n"
   ]
  },
  {
   "cell_type": "markdown",
   "metadata": {
    "id": "TfjwFMlR_RBT"
   },
   "source": [
    "**Question:** What do you notice about the number of active authors compared to banned authors for both claims and opinions?"
   ]
  },
  {
   "cell_type": "markdown",
   "metadata": {
    "id": "_uAmAERs_Z9j"
   },
   "source": [
    "#### **Median view counts by ban status**\n",
    "\n",
    "Create a bar plot with three bars: one for each author ban status. The height of each bar should correspond with the median number of views for all videos with that author ban status."
   ]
  },
  {
   "cell_type": "code",
   "execution_count": null,
   "metadata": {
    "id": "c7xVuf5O_asQ"
   },
   "outputs": [],
   "source": [
    "# Create a bar plot\n",
    "### YOUR CODE HERE ###"
   ]
  },
  {
   "cell_type": "markdown",
   "metadata": {
    "id": "obw-wzm-_jca"
   },
   "source": [
    "**Question:** What do you notice about the median view counts for non-active authors compared to that of active authors? Based on that insight, what variable might be a good indicator of claim status?"
   ]
  },
  {
   "cell_type": "code",
   "execution_count": null,
   "metadata": {
    "id": "eFNVhyYQhSL0"
   },
   "outputs": [],
   "source": [
    "# Calculate the median view count for claim status.\n",
    "### YOUR CODE HERE ###"
   ]
  },
  {
   "cell_type": "code",
   "execution_count": null,
   "metadata": {
    "id": "h6XBJb0d_kdS"
   },
   "outputs": [],
   "source": [
    "### YOUR CODE HERE ###"
   ]
  },
  {
   "cell_type": "markdown",
   "metadata": {
    "id": "2FjUxqMd_71P"
   },
   "source": [
    "#### **Total views by claim status**\n",
    "\n",
    "Create a pie graph that depicts the proportions of total views for claim videos and total views for opinion videos."
   ]
  },
  {
   "cell_type": "code",
   "execution_count": null,
   "metadata": {
    "id": "aR0WS23aAD6J"
   },
   "outputs": [],
   "source": [
    "# Create a pie graph\n",
    "### YOUR CODE HERE ###\n"
   ]
  },
  {
   "cell_type": "markdown",
   "metadata": {
    "id": "_NYxRNBjAMHv"
   },
   "source": [
    "**Question:** What do you notice about the overall view count for claim status?"
   ]
  },
  {
   "cell_type": "markdown",
   "metadata": {
    "id": "H-rVzm6MAcuc"
   },
   "source": [
    "### **Task 4. Determine outliers**\n",
    "\n",
    "When building predictive models, the presence of outliers can be problematic. For example, if you were trying to predict the view count of a particular video, videos with extremely high view counts might introduce bias to a model. Also, some outliers might indicate problems with how data was captured or recorded.\n",
    "\n",
    "The ultimate objective of the TikTok project is to build a model that predicts whether a video is a claim or opinion. The analysis you've performed indicates that a video's engagement level is strongly correlated with its claim status. There's no reason to believe that any of the values in the TikTok data are erroneously captured, and they align with expectation of how social media works: a very small proportion of videos get super high engagement levels. That's the nature of viral content.\n",
    "\n",
    "Nonetheless, it's good practice to get a sense of just how many of your data points could be considered outliers. The definition of an outlier can change based on the details of your project, and it helps to have domain expertise to decide a threshold. You've learned that a common way to determine outliers in a normal distribution is to calculate the interquartile range (IQR) and set a threshold that is 1.5 * IQR above the 3rd quartile.\n",
    "\n",
    "In this TikTok dataset, the values for the count variables are not normally distributed. They are heavily skewed to the right. One way of modifying the outlier threshold is by calculating the **median** value for each variable and then adding 1.5 * IQR. This results in a threshold that is, in this case, much lower than it would be if you used the 3rd quartile.\n",
    "\n",
    "Write a for loop that iterates over the column names of each count variable. For each iteration:\n",
    "1. Calculate the IQR of the column\n",
    "2. Calculate the median of the column\n",
    "3. Calculate the outlier threshold (median + 1.5 * IQR)\n",
    "4. Calculate the numer of videos with a count in that column that exceeds the outlier threshold\n",
    "5. Print \"Number of outliers, {column name}: {outlier count}\"\n",
    "\n",
    "```\n",
    "Example:\n",
    "Number of outliers, video_view_count: ___\n",
    "Number of outliers, video_like_count: ___\n",
    "Number of outliers, video_share_count: ___\n",
    "Number of outliers, video_download_count: ___\n",
    "Number of outliers, video_comment_count: ___\n",
    "```"
   ]
  },
  {
   "cell_type": "code",
   "execution_count": null,
   "metadata": {
    "id": "lBDtA-fjA-2B"
   },
   "outputs": [],
   "source": [
    "### YOUR CODE HERE ###"
   ]
  },
  {
   "cell_type": "markdown",
   "metadata": {
    "id": "E_jdFb9pBIRT"
   },
   "source": [
    "#### **Scatterplot**"
   ]
  },
  {
   "cell_type": "code",
   "execution_count": null,
   "metadata": {
    "id": "m70a9DMUBJUA"
   },
   "outputs": [],
   "source": [
    "# Create a scatterplot of `video_like_count` versus `video_comment_count` according to 'claim_status'\n",
    "### YOUR CODE HERE ###\n"
   ]
  },
  {
   "cell_type": "code",
   "execution_count": null,
   "metadata": {
    "id": "NxyaaJojBRhu"
   },
   "outputs": [],
   "source": [
    "# Create a scatterplot of `video_like_count` versus `video_comment_count` for opinions only\n",
    "### YOUR CODE HERE ###\n",
    "\n"
   ]
  },
  {
   "cell_type": "markdown",
   "metadata": {
    "id": "z8n8HqJmBe3L"
   },
   "source": [
    "You can do a scatterplot in Tableau Public as well, which can be easier to manipulate and present. If you'd like step by step instructions, you can review the instructions linked in the previous Activity page."
   ]
  },
  {
   "cell_type": "markdown",
   "metadata": {
    "id": "NsvBtco1x8GN"
   },
   "source": [
    "<img src=\"images/Execute.png\" width=\"100\" height=\"100\" align=left>\n",
    "\n",
    "## **PACE: Execute**\n",
    "\n",
    "Consider the questions in your PACE Strategy Document to reflect on the Execute stage."
   ]
  },
  {
   "cell_type": "markdown",
   "metadata": {
    "id": "csHAfM-RSO7l"
   },
   "source": [
    "### **Task 5a. Results and evaluation**\n",
    "\n",
    "Having built visualizations in Tableau and in Python, what have you learned about the dataset? What other questions have your visualizations uncovered that you should pursue?\n",
    "\n",
    "***Pro tip:*** Put yourself in your client's perspective, what would they want to know?\n",
    "\n",
    "Use the following code cells to pursue any additional EDA. Also use the space to make sure your visualizations are clean, easily understandable, and accessible.\n",
    "\n",
    "***Ask yourself:*** Did you consider color, contrast, emphasis, and labeling?\n"
   ]
  },
  {
   "cell_type": "markdown",
   "metadata": {
    "id": "s_o_6J-QMMnn"
   },
   "source": [
    "==> ENTER YOUR RESPONSE HERE\n",
    "\n",
    "I have learned ....\n",
    "\n",
    "My other questions are ....\n",
    "\n",
    "My client would likely want to know ...\n",
    "\n"
   ]
  },
  {
   "cell_type": "markdown",
   "metadata": {
    "id": "U4HeITeOwXfo"
   },
   "source": [
    "### **Task 5b. Conclusion**\n",
    "*Make it professional and presentable*\n",
    "\n",
    "You have visualized the data you need to share with the director now. Remember, the goal of a data visualization is for an audience member to glean the information on the chart in mere seconds.\n",
    "\n",
    "*Questions to ask yourself for reflection:*\n",
    "Why is it important to conduct Exploratory Data Analysis? What other visuals could you create?\n"
   ]
  },
  {
   "cell_type": "markdown",
   "metadata": {
    "id": "lJf9_Hv9INR0"
   },
   "source": [
    "EDA is important because ...\n",
    "\n",
    "==> ENTER YOUR RESPONSES HERE\n",
    "\n",
    "Visualizations helped me understand ..\n",
    "\n",
    "==> ENTER YOUR RESPONSES HERE\n"
   ]
  },
  {
   "cell_type": "markdown",
   "metadata": {
    "id": "8JabFSqwwLrM"
   },
   "source": [
    "You’ve now completed a professional data visualization according to a business need. Well done! Be sure to save your work as a reference for later work in Tableau."
   ]
  }
 ],
 "metadata": {
  "colab": {
   "provenance": [],
   "toc_visible": true
  },
  "kernelspec": {
   "display_name": "Python 3 (ipykernel)",
   "language": "python",
   "name": "python3"
  },
  "language_info": {
   "codemirror_mode": {
    "name": "ipython",
    "version": 3
   },
   "file_extension": ".py",
   "mimetype": "text/x-python",
   "name": "python",
   "nbconvert_exporter": "python",
   "pygments_lexer": "ipython3",
   "version": "3.9.12"
  }
 },
 "nbformat": 4,
 "nbformat_minor": 1
}
